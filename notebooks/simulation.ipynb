{
 "cells": [
  {
   "cell_type": "markdown",
   "id": "7e0488b0",
   "metadata": {},
   "source": [
    "In this file, currently we import functionality from run.ipynb and run the simulation\n",
    "\n",
    "Author: 18BME2104 Kaushal"
   ]
  },
  {
   "cell_type": "code",
   "execution_count": 1,
   "id": "12a0bea0",
   "metadata": {},
   "outputs": [
    {
     "name": "stdout",
     "output_type": "stream",
     "text": [
      "importing Jupyter notebook from run.ipynb\n",
      "importing Jupyter notebook from batch.ipynb\n",
      "importing Jupyter notebook from particle.ipynb\n",
      "importing Jupyter notebook from field.ipynb\n",
      "importing Jupyter notebook from constants.ipynb\n"
     ]
    }
   ],
   "source": [
    "import import_ipynb\n",
    "from run import Run\n",
    "from constants import Constants"
   ]
  },
  {
   "cell_type": "code",
   "execution_count": 2,
   "id": "f84f22e3",
   "metadata": {},
   "outputs": [],
   "source": [
    "run = Run()"
   ]
  },
  {
   "cell_type": "code",
   "execution_count": 3,
   "id": "e8c6f35a",
   "metadata": {},
   "outputs": [],
   "source": [
    "constants = Constants()"
   ]
  },
  {
   "cell_type": "code",
   "execution_count": 4,
   "id": "be818409",
   "metadata": {},
   "outputs": [],
   "source": [
    "# Create a batch\n",
    "run.create_batch_with_file_initialization('H+', constants.constants['e'][0],\\\n",
    "                                          constants.constants['m_H'][0] * constants.constants['amu'][0], \\\n",
    "                                          100, 50, 'H ions')"
   ]
  },
  {
   "cell_type": "code",
   "execution_count": 5,
   "id": "9b4bf63d",
   "metadata": {},
   "outputs": [],
   "source": [
    "#Take a Batch object from the list of created batches inside a run object\n",
    "batch_object = run.batches[0]['H ions'] #The batch created"
   ]
  },
  {
   "cell_type": "code",
   "execution_count": 6,
   "id": "30dcb19d",
   "metadata": {},
   "outputs": [
    {
     "data": {
      "text/plain": [
       "<batch.Batch at 0x7fa378073b80>"
      ]
     },
     "execution_count": 6,
     "metadata": {},
     "output_type": "execute_result"
    }
   ],
   "source": [
    "batch_object"
   ]
  },
  {
   "cell_type": "code",
   "execution_count": 7,
   "id": "9c83730d",
   "metadata": {},
   "outputs": [],
   "source": [
    "#Get the particles in the batch\n",
    "particles_in_the_batch = batch_object.particles"
   ]
  },
  {
   "cell_type": "code",
   "execution_count": 8,
   "id": "2646808e",
   "metadata": {},
   "outputs": [],
   "source": [
    "#Get a single particle from the batch\n",
    "n_for_particle = 30\n",
    "nth_particle = particles_in_the_batch[n_for_particle] "
   ]
  },
  {
   "cell_type": "code",
   "execution_count": 9,
   "id": "74e04cfc",
   "metadata": {},
   "outputs": [
    {
     "name": "stdout",
     "output_type": "stream",
     "text": [
      "H+ \n",
      " mass:1.6738233791328e-27 charge:1.6021766340000001e-19         \n",
      " position: (-0.5, 0.0, 0.0)         \n",
      " velocity: (4328.135274, -2726.982622, -17110.480553)         \n",
      " acceleration: (0, 0, 0)\n"
     ]
    }
   ],
   "source": [
    "#Print information about a single particle in a single batch inside a run object\n",
    "print(nth_particle)"
   ]
  },
  {
   "cell_type": "markdown",
   "id": "fca1f254",
   "metadata": {},
   "source": [
    "## Check Maxwell sampling, perhaps vectors are not normalized\n",
    "## Multiply sampled speed by unit vector directions"
   ]
  },
  {
   "cell_type": "code",
   "execution_count": 10,
   "id": "7e92eb71",
   "metadata": {},
   "outputs": [],
   "source": [
    "index_update = 0 #Update the first batch in batches"
   ]
  },
  {
   "cell_type": "code",
   "execution_count": 11,
   "id": "92303766",
   "metadata": {},
   "outputs": [],
   "source": [
    "particle_track_indices = [10, 20, 30, 40]\n",
    "dT = 10**(-6) # 10 seconds\n",
    "stepT = 10**(-8) # 0.1 seconds time step\n",
    "E_0 = 1000 # say 1000 Volts (voltage) per meter (size of chamber) \n",
    "E_dirn = [1,0,0] #in the x-direction [1,0,0]\n",
    "B_0 = 10 * (10**(-3)) # Meant to say 10 mT \n",
    "B_dirn = [0,1,0] #in the y-direction [0,1,0]\n",
    "argsE = [element * E_0 for element in E_dirn] # currently the uniform_E_field configuration is used\n",
    "argsB = [element * B_0 for element in B_dirn]# currently the uniform_B_field configuration is used"
   ]
  },
  {
   "cell_type": "code",
   "execution_count": 12,
   "id": "6203e3b6",
   "metadata": {},
   "outputs": [],
   "source": [
    "positions_and_velocities = run.update_batch_with_unchanging_fields(0, dT, stepT, argsE, argsB, particle_track_indices)"
   ]
  },
  {
   "cell_type": "code",
   "execution_count": 13,
   "id": "2a951682",
   "metadata": {},
   "outputs": [],
   "source": [
    "pv_of_30th_particle = positions_and_velocities[30] #Check some error in values"
   ]
  },
  {
   "cell_type": "code",
   "execution_count": 14,
   "id": "f4318143",
   "metadata": {},
   "outputs": [
    {
     "data": {
      "text/plain": [
       "[(0,\n",
       "  array([-4.99945509e-01, -2.72698262e-05, -1.70644707e-04]),\n",
       "  array([  5449.11182313,  -2726.982622  , -17064.47070729])),\n",
       " (1,\n",
       "  array([-4.99879812e-01, -5.45396524e-05, -3.40722016e-04]),\n",
       "  array([  6569.64796796,  -2726.982622  , -17007.73092164])),\n",
       " (2,\n",
       "  array([-4.99802916e-01, -8.18094787e-05, -5.10124670e-04]),\n",
       "  array([  7689.64100197,  -2726.982622  , -16940.26541156])),\n",
       " (3,\n",
       "  array([-4.99714826e-01, -1.09079305e-04, -6.78745464e-04]),\n",
       "  array([  8808.98825899,  -2726.982622  , -16862.0793757 ])),\n",
       " (4,\n",
       "  array([-4.99615550e-01, -1.36349131e-04, -8.46477254e-04]),\n",
       "  array([  9927.58712259,  -2726.982622  , -16773.17899541])),\n",
       " (5,\n",
       "  array([-4.99505097e-01, -1.63618957e-04, -1.01321297e-03]),\n",
       "  array([ 11045.33503552,  -2726.982622  , -16673.57143428])),\n",
       " (6,\n",
       "  array([-4.99383476e-01, -1.90888784e-04, -1.17884562e-03]),\n",
       "  array([ 12162.12950911,  -2726.982622  , -16563.26483756])),\n",
       " (7,\n",
       "  array([-4.99250697e-01, -2.18158610e-04, -1.34326830e-03]),\n",
       "  array([ 13277.86813263,  -2726.982622  , -16442.26833155])),\n",
       " (8,\n",
       "  array([-4.99106772e-01, -2.45428436e-04, -1.50637422e-03]),\n",
       "  array([ 14392.44858274,  -2726.982622  , -16310.59202279])),\n",
       " (9,\n",
       "  array([-4.98951715e-01, -2.72698262e-04, -1.66805669e-03]),\n",
       "  array([ 15505.7686328 ,  -2726.982622  , -16168.24699726])),\n",
       " (10,\n",
       "  array([-4.98785537e-01, -2.99968088e-04, -1.82820914e-03]),\n",
       "  array([ 16617.72616232,  -2726.982622  , -16015.24531948])),\n",
       " (11,\n",
       "  array([-4.98608255e-01, -3.27237915e-04, -1.98672514e-03]),\n",
       "  array([ 17728.21916628,  -2726.982622  , -15851.60003142])),\n",
       " (12,\n",
       "  array([-4.98419884e-01, -3.54507741e-04, -2.14349840e-03]),\n",
       "  array([ 18837.14576449,  -2726.982622  , -15677.32515146])),\n",
       " (13,\n",
       "  array([-4.98220440e-01, -3.81777567e-04, -2.29842275e-03]),\n",
       "  array([ 19944.40421094,  -2726.982622  , -15492.43567316])),\n",
       " (14,\n",
       "  array([-4.98009941e-01, -4.09047393e-04, -2.45139223e-03]),\n",
       "  array([ 21049.89290315,  -2726.982622  , -15296.94756402])),\n",
       " (15,\n",
       "  array([-4.97788406e-01, -4.36317220e-04, -2.60230101e-03]),\n",
       "  array([ 22153.51039148,  -2726.982622  , -15090.87776404])),\n",
       " (16,\n",
       "  array([-4.97555854e-01, -4.63587046e-04, -2.75104345e-03]),\n",
       "  array([ 23255.15538843,  -2726.982622  , -14874.2441843 ])),\n",
       " (17,\n",
       "  array([-4.97312307e-01, -4.90856872e-04, -2.89751410e-03]),\n",
       "  array([ 24354.72677795,  -2726.982622  , -14647.06570541])),\n",
       " (18,\n",
       "  array([-0.49705779, -0.00051813, -0.00304161]),\n",
       "  array([ 25452.12362471,  -2726.982622  , -14409.36217585])),\n",
       " (19,\n",
       "  array([-0.49679231, -0.0005454 , -0.00318322]),\n",
       "  array([ 26547.24518338,  -2726.982622  , -14161.15441025])),\n",
       " (20,\n",
       "  array([-0.49651591, -0.00057267, -0.00332224]),\n",
       "  array([ 27639.99090785,  -2726.982622  , -13902.46418758])),\n",
       " (21,\n",
       "  array([-0.49622861, -0.00059994, -0.00345858]),\n",
       "  array([ 28730.26046049,  -2726.982622  , -13633.31424921])),\n",
       " (22,\n",
       "  array([-0.49593043, -0.00062721, -0.00359211]),\n",
       "  array([ 29817.95372134,  -2726.982622  , -13353.72829696])),\n",
       " (23,\n",
       "  array([-0.4956214 , -0.00065448, -0.00372275]),\n",
       "  array([ 30902.97079733,  -2726.982622  , -13063.73099098])),\n",
       " (24,\n",
       "  array([-0.49530155, -0.00068175, -0.00385039]),\n",
       "  array([ 31985.21203141,  -2726.982622  , -12763.34794761])),\n",
       " (25,\n",
       "  array([-0.4949709 , -0.00070902, -0.00397491]),\n",
       "  array([ 33064.57801175,  -2726.982622  , -12452.60573708])),\n",
       " (26,\n",
       "  array([-0.49462949, -0.00073629, -0.00409623]),\n",
       "  array([ 34140.96958084,  -2726.982622  , -12131.53188119])),\n",
       " (27,\n",
       "  array([-0.49427735, -0.00076356, -0.00421423]),\n",
       "  array([ 35214.28784461,  -2726.982622  , -11800.1548509 ])),\n",
       " (28,\n",
       "  array([-0.49391451, -0.00079082, -0.00432881]),\n",
       "  array([ 36284.43418151,  -2726.982622  , -11458.50406374])),\n",
       " (29,\n",
       "  array([-0.49354099, -0.00081809, -0.00443988]),\n",
       "  array([ 37351.31025157,  -2726.982622  , -11106.60988127])),\n",
       " (30,\n",
       "  array([-0.49315685, -0.00084536, -0.00454732]),\n",
       "  array([ 38414.81800546,  -2726.982622  , -10744.50360634])),\n",
       " (31,\n",
       "  array([-0.4927621 , -0.00087263, -0.00465105]),\n",
       "  array([ 39474.85969346,  -2726.982622  , -10372.21748033])),\n",
       " (32,\n",
       "  array([-0.49235678, -0.0008999 , -0.00475094]),\n",
       "  array([40531.33787445, -2726.982622  , -9989.78468027])),\n",
       " (33,\n",
       "  array([-0.49194094, -0.00092717, -0.00484692]),\n",
       "  array([41584.15542492, -2726.982622  , -9597.23931591])),\n",
       " (34,\n",
       "  array([-0.49151461, -0.00095444, -0.00493886]),\n",
       "  array([42633.21554782, -2726.982622  , -9194.61642664])),\n",
       " (35,\n",
       "  array([-0.49107783, -0.00098171, -0.00502668]),\n",
       "  array([43678.42178152, -2726.982622  , -8781.9519784 ])),\n",
       " (36,\n",
       "  array([-0.49063063, -0.00100898, -0.00511028]),\n",
       "  array([44719.67800863, -2726.982622  , -8359.28286046])),\n",
       " (37,\n",
       "  array([-0.49017306, -0.00103625, -0.00518954]),\n",
       "  array([45756.88846488, -2726.982622  , -7926.6468821 ])),\n",
       " (38,\n",
       "  array([-0.48970516, -0.00106352, -0.00526438]),\n",
       "  array([46789.95774792, -2726.982622  , -7484.08276928])),\n",
       " (39,\n",
       "  array([-0.48922697, -0.00109079, -0.0053347 ]),\n",
       "  array([47818.79082605, -2726.982622  , -7031.63016114])),\n",
       " (40,\n",
       "  array([-0.48873854, -0.00111806, -0.00540039]),\n",
       "  array([48843.29304702, -2726.982622  , -6569.32960644])),\n",
       " (41,\n",
       "  array([-0.48823991, -0.00114533, -0.00546136]),\n",
       "  array([49863.3701467 , -2726.982622  , -6097.22255996])),\n",
       " (42,\n",
       "  array([-0.48773112, -0.0011726 , -0.00551752]),\n",
       "  array([50878.92825777, -2726.982622  , -5615.35137879])),\n",
       " (43,\n",
       "  array([-0.48721222, -0.00119987, -0.00556876]),\n",
       "  array([51889.87391835, -2726.982622  , -5123.75931848])),\n",
       " (44,\n",
       "  array([-0.48668326, -0.00122714, -0.00561498]),\n",
       "  array([52896.11408059, -2726.982622  , -4622.49052921])),\n",
       " (45,\n",
       "  array([-0.48614428, -0.00125441, -0.0056561 ]),\n",
       "  array([53897.55611926, -2726.982622  , -4111.59005182])),\n",
       " (46,\n",
       "  array([-0.48559534, -0.00128168, -0.00569201]),\n",
       "  array([54894.10784024, -2726.982622  , -3591.10381375])),\n",
       " (47,\n",
       "  array([-0.48503648, -0.00130895, -0.00572262]),\n",
       "  array([55885.67748904, -2726.982622  , -3061.0786249 ])),\n",
       " (48,\n",
       "  array([-0.48446776, -0.00133622, -0.00574783]),\n",
       "  array([56872.17375923, -2726.982622  , -2521.56217346])),\n",
       " (49,\n",
       "  array([-0.48388923, -0.00136349, -0.00576756]),\n",
       "  array([57853.50580085, -2726.982622  , -1972.60302159])),\n",
       " (50,\n",
       "  array([-0.48330093, -0.00139076, -0.0057817 ]),\n",
       "  array([58829.58322877, -2726.982622  , -1414.25060107])),\n",
       " (51,\n",
       "  array([-0.48270293, -0.00141803, -0.00579017]),\n",
       "  array([59800.31613102, -2726.982622  ,  -846.55520884])),\n",
       " (52,\n",
       "  array([-0.48209527, -0.0014453 , -0.00579286]),\n",
       "  array([60765.61507707, -2726.982622  ,  -269.56800247])),\n",
       " (53,\n",
       "  array([-0.48147802, -0.00147257, -0.0057897 ]),\n",
       "  array([61725.39112607, -2726.982622  ,   316.65900444])),\n",
       " (54,\n",
       "  array([-0.48085122, -0.00149984, -0.00578058]),\n",
       "  array([62679.55583504, -2726.982622  ,   912.07294695])),\n",
       " (55,\n",
       "  array([-0.48021494, -0.00152711, -0.00576541]),\n",
       "  array([63628.02126703, -2726.982622  ,  1516.62011355])),\n",
       " (56,\n",
       "  array([-0.47956923, -0.00155438, -0.00574411]),\n",
       "  array([64570.6999992 , -2726.982622  ,  2130.24595101])),\n",
       " (57,\n",
       "  array([-0.47891416, -0.00158165, -0.00571658]),\n",
       "  array([65507.5051309 , -2726.982622  ,  2752.89506929])),\n",
       " (58,\n",
       "  array([-0.47824978, -0.00160892, -0.00568273]),\n",
       "  array([66438.35029166, -2726.982622  ,  3384.51124652])),\n",
       " (59,\n",
       "  array([-0.47757614, -0.00163619, -0.00564248]),\n",
       "  array([67363.14964919, -2726.982622  ,  4025.03743413])),\n",
       " (60,\n",
       "  array([-0.47689333, -0.00166346, -0.00559574]),\n",
       "  array([68281.81791723, -2726.982622  ,  4674.41576193])),\n",
       " (61,\n",
       "  array([-0.47620138, -0.00169073, -0.00554241]),\n",
       "  array([69194.27036348, -2726.982622  ,  5332.58754339])),\n",
       " (62,\n",
       "  array([-0.47550038, -0.001718  , -0.00548242]),\n",
       "  array([70100.42281738, -2726.982622  ,  5999.49328095])),\n",
       " (63,\n",
       "  array([-0.47479038, -0.00174527, -0.00541567]),\n",
       "  array([71000.19167787, -2726.982622  ,  6675.07267133])),\n",
       " (64,\n",
       "  array([-0.47407144, -0.00177254, -0.00534207]),\n",
       "  array([71893.4939211 , -2726.982622  ,  7359.26461106])),\n",
       " (65,\n",
       "  array([-0.47334364, -0.00179981, -0.00526155]),\n",
       "  array([72780.24710813, -2726.982622  ,  8052.00720194])),\n",
       " (66,\n",
       "  array([-0.47260704, -0.00182708, -0.00517402]),\n",
       "  array([73660.36939248, -2726.982622  ,  8753.23775669])),\n",
       " (67,\n",
       "  array([-0.4718617 , -0.00185435, -0.00507939]),\n",
       "  array([74533.77952772, -2726.982622  ,  9462.89280459])),\n",
       " (68,\n",
       "  array([-0.47110769, -0.00188162, -0.00497758]),\n",
       "  array([75400.39687497, -2726.982622  , 10180.90809723])),\n",
       " (69,\n",
       "  array([-0.47034509, -0.00190889, -0.00486851]),\n",
       "  array([76260.14141031, -2726.982622  , 10907.21861434])),\n",
       " (70,\n",
       "  array([-0.46957396, -0.00193616, -0.00475209]),\n",
       "  array([77112.93373221, -2726.982622  , 11641.75856964])),\n",
       " (71,\n",
       "  array([-0.46879438, -0.00196343, -0.00462825]),\n",
       "  array([77958.69506884, -2726.982622  , 12384.46141686])),\n",
       " (72,\n",
       "  array([-0.4680064, -0.0019907, -0.0044969]),\n",
       "  array([78797.34728533, -2726.982622  , 13135.25985569])),\n",
       " (73,\n",
       "  array([-0.46721012, -0.00201797, -0.00435796]),\n",
       "  array([79628.81289104, -2726.982622  , 13894.08583794])),\n",
       " (74,\n",
       "  array([-0.46640559, -0.00204524, -0.00421135]),\n",
       "  array([80453.01504665, -2726.982622  , 14660.87057368])),\n",
       " (75,\n",
       "  array([-0.46559289, -0.00207251, -0.00405699]),\n",
       "  array([81269.87757132, -2726.982622  , 15435.54453747])),\n",
       " (76,\n",
       "  array([-0.46477209, -0.00209978, -0.00389481]),\n",
       "  array([82079.32494969, -2726.982622  , 16218.03747467])),\n",
       " (77,\n",
       "  array([-0.46394328, -0.00212705, -0.00372473]),\n",
       "  array([82881.28233888, -2726.982622  , 17008.27840782])),\n",
       " (78,\n",
       "  array([-0.46310652, -0.00215432, -0.00354667]),\n",
       "  array([83675.67557539, -2726.982622  , 17806.19564306])),\n",
       " (79,\n",
       "  array([-0.4622619 , -0.00218159, -0.00336055]),\n",
       "  array([84462.431182  , -2726.982622  , 18611.71677665])),\n",
       " (80,\n",
       "  array([-0.46140948, -0.00220886, -0.0031663 ]),\n",
       "  array([85241.47637451, -2726.982622  , 19424.76870151])),\n",
       " (81,\n",
       "  array([-0.46054936, -0.00223613, -0.00296385]),\n",
       "  array([86012.7390685 , -2726.982622  , 20245.27761388])),\n",
       " (82,\n",
       "  array([-0.4596816 , -0.0022634 , -0.00275312]),\n",
       "  array([86776.14788601, -2726.982622  , 21073.16902002])),\n",
       " (83,\n",
       "  array([-0.45880628, -0.00229067, -0.00253403]),\n",
       "  array([87531.63216211, -2726.982622  , 21908.36774297])),\n",
       " (84,\n",
       "  array([-0.45792349, -0.00231794, -0.00230653]),\n",
       "  array([88279.1219515 , -2726.982622  , 22750.79792933])),\n",
       " (85,\n",
       "  array([-0.4570333 , -0.00234521, -0.00207052]),\n",
       "  array([89018.54803489, -2726.982622  , 23600.38305624])),\n",
       " (86,\n",
       "  array([-0.4561358 , -0.00237247, -0.00182595]),\n",
       "  array([89749.84192551, -2726.982622  , 24457.04593823])),\n",
       " (87,\n",
       "  array([-0.45523107, -0.00239974, -0.00157274]),\n",
       "  array([90472.93587539, -2726.982622  , 25320.7087343 ])),\n",
       " (88,\n",
       "  array([-0.4543192 , -0.00242701, -0.00131083]),\n",
       "  array([91187.76288164, -2726.982622  , 26191.29295497])),\n",
       " (89,\n",
       "  array([-0.45340025, -0.00245428, -0.00104014]),\n",
       "  array([91894.25669268, -2726.982622  , 27068.7194694 ])),\n",
       " (90,\n",
       "  array([-0.45247433, -0.00248155, -0.00076062]),\n",
       "  array([92592.35181437, -2726.982622  , 27952.9085126 ])),\n",
       " (91,\n",
       "  array([-0.45154151, -0.00250882, -0.00047218]),\n",
       "  array([93281.98351606, -2726.982622  , 28843.77969268])),\n",
       " (92,\n",
       "  array([-4.50601880e-01, -2.53609384e-03, -1.74765196e-04]),\n",
       "  array([93963.08783663, -2726.982622  , 29741.25199813])),\n",
       " (93,\n",
       "  array([-4.49655524e-01, -2.56336366e-03,  1.31687242e-04]),\n",
       "  array([94635.60159039, -2726.982622  , 30645.24380523])),\n",
       " (94,\n",
       "  array([-4.48702530e-01, -2.59063349e-03,  4.47243971e-04]),\n",
       "  array([95299.46237294, -2726.982622  , 31555.67288544])),\n",
       " (95,\n",
       "  array([-0.44774298, -0.0026179 ,  0.00077197]),\n",
       "  array([95954.60856697, -2726.982622  , 32472.45641288])),\n",
       " (96,\n",
       "  array([-0.44677697, -0.00264517,  0.00110592]),\n",
       "  array([96600.979348  , -2726.982622  , 33395.51097189])),\n",
       " (97,\n",
       "  array([-0.44580459, -0.00267244,  0.00144917]),\n",
       "  array([97238.51468996, -2726.982622  , 34324.75256457])),\n",
       " (98,\n",
       "  array([-0.44482592, -0.00269971,  0.00180177]),\n",
       "  array([97867.15537084, -2726.982622  , 35260.09661849])),\n",
       " (99,\n",
       "  array([-0.44384105, -0.00272698,  0.00216379]),\n",
       "  array([98486.84297814, -2726.982622  , 36201.45799432]))]"
      ]
     },
     "execution_count": 14,
     "metadata": {},
     "output_type": "execute_result"
    }
   ],
   "source": [
    "pv_of_30th_particle"
   ]
  },
  {
   "cell_type": "code",
   "execution_count": 15,
   "id": "3fd43232",
   "metadata": {},
   "outputs": [],
   "source": [
    "import matplotlib.pyplot as plt"
   ]
  },
  {
   "cell_type": "code",
   "execution_count": 16,
   "id": "87bbda32",
   "metadata": {},
   "outputs": [],
   "source": [
    "positions_30 = []\n",
    "velocities_30 = []\n",
    "for i in range(len(pv_of_30th_particle)):\n",
    "    positions_30.append(pv_of_30th_particle[i][1])\n",
    "    velocities_30.append(pv_of_30th_particle[i][2])"
   ]
  },
  {
   "cell_type": "code",
   "execution_count": 17,
   "id": "e3d01b62",
   "metadata": {},
   "outputs": [
    {
     "data": {
      "text/plain": [
       "[array([-4.99945509e-01, -2.72698262e-05, -1.70644707e-04]),\n",
       " array([-4.99879812e-01, -5.45396524e-05, -3.40722016e-04]),\n",
       " array([-4.99802916e-01, -8.18094787e-05, -5.10124670e-04]),\n",
       " array([-4.99714826e-01, -1.09079305e-04, -6.78745464e-04]),\n",
       " array([-4.99615550e-01, -1.36349131e-04, -8.46477254e-04]),\n",
       " array([-4.99505097e-01, -1.63618957e-04, -1.01321297e-03]),\n",
       " array([-4.99383476e-01, -1.90888784e-04, -1.17884562e-03]),\n",
       " array([-4.99250697e-01, -2.18158610e-04, -1.34326830e-03]),\n",
       " array([-4.99106772e-01, -2.45428436e-04, -1.50637422e-03]),\n",
       " array([-4.98951715e-01, -2.72698262e-04, -1.66805669e-03]),\n",
       " array([-4.98785537e-01, -2.99968088e-04, -1.82820914e-03]),\n",
       " array([-4.98608255e-01, -3.27237915e-04, -1.98672514e-03]),\n",
       " array([-4.98419884e-01, -3.54507741e-04, -2.14349840e-03]),\n",
       " array([-4.98220440e-01, -3.81777567e-04, -2.29842275e-03]),\n",
       " array([-4.98009941e-01, -4.09047393e-04, -2.45139223e-03]),\n",
       " array([-4.97788406e-01, -4.36317220e-04, -2.60230101e-03]),\n",
       " array([-4.97555854e-01, -4.63587046e-04, -2.75104345e-03]),\n",
       " array([-4.97312307e-01, -4.90856872e-04, -2.89751410e-03]),\n",
       " array([-0.49705779, -0.00051813, -0.00304161]),\n",
       " array([-0.49679231, -0.0005454 , -0.00318322]),\n",
       " array([-0.49651591, -0.00057267, -0.00332224]),\n",
       " array([-0.49622861, -0.00059994, -0.00345858]),\n",
       " array([-0.49593043, -0.00062721, -0.00359211]),\n",
       " array([-0.4956214 , -0.00065448, -0.00372275]),\n",
       " array([-0.49530155, -0.00068175, -0.00385039]),\n",
       " array([-0.4949709 , -0.00070902, -0.00397491]),\n",
       " array([-0.49462949, -0.00073629, -0.00409623]),\n",
       " array([-0.49427735, -0.00076356, -0.00421423]),\n",
       " array([-0.49391451, -0.00079082, -0.00432881]),\n",
       " array([-0.49354099, -0.00081809, -0.00443988]),\n",
       " array([-0.49315685, -0.00084536, -0.00454732]),\n",
       " array([-0.4927621 , -0.00087263, -0.00465105]),\n",
       " array([-0.49235678, -0.0008999 , -0.00475094]),\n",
       " array([-0.49194094, -0.00092717, -0.00484692]),\n",
       " array([-0.49151461, -0.00095444, -0.00493886]),\n",
       " array([-0.49107783, -0.00098171, -0.00502668]),\n",
       " array([-0.49063063, -0.00100898, -0.00511028]),\n",
       " array([-0.49017306, -0.00103625, -0.00518954]),\n",
       " array([-0.48970516, -0.00106352, -0.00526438]),\n",
       " array([-0.48922697, -0.00109079, -0.0053347 ]),\n",
       " array([-0.48873854, -0.00111806, -0.00540039]),\n",
       " array([-0.48823991, -0.00114533, -0.00546136]),\n",
       " array([-0.48773112, -0.0011726 , -0.00551752]),\n",
       " array([-0.48721222, -0.00119987, -0.00556876]),\n",
       " array([-0.48668326, -0.00122714, -0.00561498]),\n",
       " array([-0.48614428, -0.00125441, -0.0056561 ]),\n",
       " array([-0.48559534, -0.00128168, -0.00569201]),\n",
       " array([-0.48503648, -0.00130895, -0.00572262]),\n",
       " array([-0.48446776, -0.00133622, -0.00574783]),\n",
       " array([-0.48388923, -0.00136349, -0.00576756]),\n",
       " array([-0.48330093, -0.00139076, -0.0057817 ]),\n",
       " array([-0.48270293, -0.00141803, -0.00579017]),\n",
       " array([-0.48209527, -0.0014453 , -0.00579286]),\n",
       " array([-0.48147802, -0.00147257, -0.0057897 ]),\n",
       " array([-0.48085122, -0.00149984, -0.00578058]),\n",
       " array([-0.48021494, -0.00152711, -0.00576541]),\n",
       " array([-0.47956923, -0.00155438, -0.00574411]),\n",
       " array([-0.47891416, -0.00158165, -0.00571658]),\n",
       " array([-0.47824978, -0.00160892, -0.00568273]),\n",
       " array([-0.47757614, -0.00163619, -0.00564248]),\n",
       " array([-0.47689333, -0.00166346, -0.00559574]),\n",
       " array([-0.47620138, -0.00169073, -0.00554241]),\n",
       " array([-0.47550038, -0.001718  , -0.00548242]),\n",
       " array([-0.47479038, -0.00174527, -0.00541567]),\n",
       " array([-0.47407144, -0.00177254, -0.00534207]),\n",
       " array([-0.47334364, -0.00179981, -0.00526155]),\n",
       " array([-0.47260704, -0.00182708, -0.00517402]),\n",
       " array([-0.4718617 , -0.00185435, -0.00507939]),\n",
       " array([-0.47110769, -0.00188162, -0.00497758]),\n",
       " array([-0.47034509, -0.00190889, -0.00486851]),\n",
       " array([-0.46957396, -0.00193616, -0.00475209]),\n",
       " array([-0.46879438, -0.00196343, -0.00462825]),\n",
       " array([-0.4680064, -0.0019907, -0.0044969]),\n",
       " array([-0.46721012, -0.00201797, -0.00435796]),\n",
       " array([-0.46640559, -0.00204524, -0.00421135]),\n",
       " array([-0.46559289, -0.00207251, -0.00405699]),\n",
       " array([-0.46477209, -0.00209978, -0.00389481]),\n",
       " array([-0.46394328, -0.00212705, -0.00372473]),\n",
       " array([-0.46310652, -0.00215432, -0.00354667]),\n",
       " array([-0.4622619 , -0.00218159, -0.00336055]),\n",
       " array([-0.46140948, -0.00220886, -0.0031663 ]),\n",
       " array([-0.46054936, -0.00223613, -0.00296385]),\n",
       " array([-0.4596816 , -0.0022634 , -0.00275312]),\n",
       " array([-0.45880628, -0.00229067, -0.00253403]),\n",
       " array([-0.45792349, -0.00231794, -0.00230653]),\n",
       " array([-0.4570333 , -0.00234521, -0.00207052]),\n",
       " array([-0.4561358 , -0.00237247, -0.00182595]),\n",
       " array([-0.45523107, -0.00239974, -0.00157274]),\n",
       " array([-0.4543192 , -0.00242701, -0.00131083]),\n",
       " array([-0.45340025, -0.00245428, -0.00104014]),\n",
       " array([-0.45247433, -0.00248155, -0.00076062]),\n",
       " array([-0.45154151, -0.00250882, -0.00047218]),\n",
       " array([-4.50601880e-01, -2.53609384e-03, -1.74765196e-04]),\n",
       " array([-4.49655524e-01, -2.56336366e-03,  1.31687242e-04]),\n",
       " array([-4.48702530e-01, -2.59063349e-03,  4.47243971e-04]),\n",
       " array([-0.44774298, -0.0026179 ,  0.00077197]),\n",
       " array([-0.44677697, -0.00264517,  0.00110592]),\n",
       " array([-0.44580459, -0.00267244,  0.00144917]),\n",
       " array([-0.44482592, -0.00269971,  0.00180177]),\n",
       " array([-0.44384105, -0.00272698,  0.00216379])]"
      ]
     },
     "execution_count": 17,
     "metadata": {},
     "output_type": "execute_result"
    }
   ],
   "source": [
    "positions_30"
   ]
  },
  {
   "cell_type": "code",
   "execution_count": 18,
   "id": "eacd5a8d",
   "metadata": {},
   "outputs": [],
   "source": [
    "from mpl_toolkits import mplot3d"
   ]
  },
  {
   "cell_type": "code",
   "execution_count": 19,
   "id": "f4a77520",
   "metadata": {},
   "outputs": [],
   "source": [
    "%matplotlib inline\n",
    "import numpy as np\n",
    "import matplotlib.pyplot as plt"
   ]
  },
  {
   "cell_type": "code",
   "execution_count": 20,
   "id": "12fcb33f",
   "metadata": {},
   "outputs": [
    {
     "data": {
      "image/png": "[encoded data removed]",
      "text/plain": [
       "<Figure size 432x288 with 1 Axes>"
      ]
     },
     "metadata": {
      "needs_background": "light"
     },
     "output_type": "display_data"
    }
   ],
   "source": [
    "fig = plt.figure()\n",
    "ax = plt.axes(projection='3d')\n",
    "ax.view_init(50, 35)\n",
    "\n",
    "# Data for a three-dimensional line\n",
    "zline = [elem[2] for elem in positions_30]\n",
    "xline = [elem[0] for elem in positions_30]\n",
    "yline = [elem[1] for elem in positions_30]\n",
    "ax.plot3D(xline, yline, zline, 'gray')\n",
    "\n",
    "\n",
    "# Data for three-dimensional scattered points\n",
    "zdata = [elem[2] for elem in positions_30]\n",
    "xdata = [elem[0] for elem in positions_30]\n",
    "ydata = [elem[1] for elem in positions_30]\n",
    "ax.scatter3D(xdata, ydata, zdata, c=zdata, cmap='Greens');"
   ]
  },
  {
   "cell_type": "code",
   "execution_count": 21,
   "id": "44804c59",
   "metadata": {},
   "outputs": [
    {
     "data": {
      "image/png": "[encoded data removed]",
      "text/plain": [
       "<Figure size 432x288 with 1 Axes>"
      ]
     },
     "metadata": {
      "needs_background": "light"
     },
     "output_type": "display_data"
    }
   ],
   "source": [
    "fig = plt.figure()\n",
    "ax = plt.axes(projection='3d')\n",
    "ax.view_init(10, 60)\n",
    "\n",
    "# Data for a three-dimensional line\n",
    "zline = [elem[2] for elem in velocities_30]\n",
    "xline = [elem[0] for elem in velocities_30]\n",
    "yline = [elem[1] for elem in velocities_30]\n",
    "ax.plot3D(xline, yline, zline, 'gray')\n",
    "\n",
    "\n",
    "# Data for three-dimensional scattered points\n",
    "zdata = [elem[2] for elem in velocities_30]\n",
    "xdata = [elem[0] for elem in velocities_30]\n",
    "ydata = [elem[1] for elem in velocities_30]\n",
    "ax.scatter3D(xdata, ydata, zdata, c=zdata, cmap='Greens');"
   ]
  },
  {
   "cell_type": "code",
   "execution_count": 22,
   "id": "ce22a2b2",
   "metadata": {},
   "outputs": [
    {
     "data": {
      "text/plain": [
       "[328325414.401641,\n",
       " 339859619.74636763,\n",
       " 353539605.1740903,\n",
       " 369364429.2402637,\n",
       " 387332953.9094509,\n",
       " 407443844.64158213,\n",
       " 429695570.4962249,\n",
       " 454086404.2548586,\n",
       " 480614422.56114435,\n",
       " 509277506.07917744,\n",
       " 540073339.6697108,\n",
       " 572999412.5843345,\n",
       " 608053018.6775954,\n",
       " 645231256.637039,\n",
       " 684531030.2311532,\n",
       " 725949048.5751957,\n",
       " 769481826.4148777,\n",
       " 815125684.4278837,\n",
       " 862876749.5432009,\n",
       " 912730955.2782271,\n",
       " 964684042.0936321,\n",
       " 1018731557.7659396,\n",
       " 1074868857.7777972,\n",
       " 1133091105.7259004,\n",
       " 1193393273.7465355,\n",
       " 1255770142.958703,\n",
       " 1320216303.924784,\n",
       " 1386726157.128707,\n",
       " 1455293913.4715738,\n",
       " 1525913594.7847037,\n",
       " 1598579034.3600416,\n",
       " 1673283877.497897,\n",
       " 1750021582.0719495,\n",
       " 1828785419.111486,\n",
       " 1909568473.4008055,\n",
       " 1992363644.0957425,\n",
       " 2077163645.3572593,\n",
       " 2163961007.002041,\n",
       " 2252748075.1700435,\n",
       " 2343517013.008931,\n",
       " 2436259801.3753386,\n",
       " 2530968239.5529094,\n",
       " 2627633945.9870224,\n",
       " 2726248359.0361686,\n",
       " 2826802737.7398844,\n",
       " 2929288162.6031947,\n",
       " 3033695536.397479,\n",
       " 3140015584.9776983,\n",
       " 3248238858.115906,\n",
       " 3358355730.3509674,\n",
       " 3470356401.8544145,\n",
       " 3584230899.3123527,\n",
       " 3699969076.8233457,\n",
       " 3817560616.812196,\n",
       " 3936995030.959535,\n",
       " 4058261661.147151,\n",
       " 4181349680.4189467,\n",
       " 4306248093.957466,\n",
       " 4432945740.07589,\n",
       " 4561431291.225401,\n",
       " 4691693255.017848,\n",
       " 4823719975.263611,\n",
       " 4957499633.0245495,\n",
       " 5093020247.681979,\n",
       " 5230269678.019552,\n",
       " 5369235623.320948,\n",
       " 5509905624.482276,\n",
       " 5652267065.139113,\n",
       " 5796307172.808024,\n",
       " 5942013020.042506,\n",
       " 6089371525.603236,\n",
       " 6238369455.642518,\n",
       " 6388993424.902811,\n",
       " 6541229897.929254,\n",
       " 6695065190.296051,\n",
       " 6850485469.846629,\n",
       " 7007476757.947428,\n",
       " 7166024930.755243,\n",
       " 7326115720.497986,\n",
       " 7487734716.768737,\n",
       " 7650867367.832995,\n",
       " 7815498981.949001,\n",
       " 7981614728.700993,\n",
       " 8149199640.345308,\n",
       " 8318238613.169175,\n",
       " 8488716408.8621025,\n",
       " 8660617655.89971,\n",
       " 8833926850.939903,\n",
       " 9008628360.23125,\n",
       " 9184706421.03344,\n",
       " 9362145143.049667,\n",
       " 9540928509.870884,\n",
       " 9721040380.431671,\n",
       " 9902464490.477728,\n",
       " 10085184454.044748,\n",
       " 10269183764.948584,\n",
       " 10454445798.286575,\n",
       " 10640953811.949883,\n",
       " 10828690948.146704,\n",
       " 11017640234.93622]"
      ]
     },
     "execution_count": 22,
     "metadata": {},
     "output_type": "execute_result"
    }
   ],
   "source": [
    "speeds_30 = []\n",
    "for i in range(len(velocities_30)):\n",
    "    sp = (velocities_30[i][0] * velocities_30[i][0]) + (velocities_30[i][1] * velocities_30[i][1]) + (velocities_30[i][2] * velocities_30[i][2])\n",
    "    speeds_30.append(sp)\n",
    "speeds_30    "
   ]
  },
  {
   "cell_type": "code",
   "execution_count": 23,
   "id": "58deac8c",
   "metadata": {},
   "outputs": [
    {
     "data": {
      "text/plain": [
       "[0.2499455417143102,\n",
       " 0.24987994591321397,\n",
       " 0.24980322175414577,\n",
       " 0.24971538002732727,\n",
       " 0.24961643315470025,\n",
       " 0.24950639518867143,\n",
       " 0.249385281810668,\n",
       " 0.24925311032950465,\n",
       " 0.24910989967956226,\n",
       " 0.2489556704187778,\n",
       " 0.24879044472644712,\n",
       " 0.24861424640083848,\n",
       " 0.24842710085661987,\n",
       " 0.2482290351220978,\n",
       " 0.24802007783626975,\n",
       " 0.24780025924568966,\n",
       " 0.24756961120114665,\n",
       " 0.24732816715415806,\n",
       " 0.24707596215327665,\n",
       " 0.24681303284021217,\n",
       " 0.2465394174457685,\n",
       " 0.2462551557855957,\n",
       " 0.24596028925575858,\n",
       " 0.2456548608281214,\n",
       " 0.24533891504554914,\n",
       " 0.24501249801692696,\n",
       " 0.24467565741199704,\n",
       " 0.24432844245601387,\n",
       " 0.2439709039242193,\n",
       " 0.2436030941361362,\n",
       " 0.24322506694968335,\n",
       " 0.24283687775511067,\n",
       " 0.24243858346875638,\n",
       " 0.24203024252662605,\n",
       " 0.2416119148777949,\n",
       " 0.24118366197763336,\n",
       " 0.24074554678085744,\n",
       " 0.24029763373440402,\n",
       " 0.23983998877013174,\n",
       " 0.23937267929734915,\n",
       " 0.23889577419516997,\n",
       " 0.2384093438046965,\n",
       " 0.23791345992103285,\n",
       " 0.23740819578512756,\n",
       " 0.2368936260754474,\n",
       " 0.23636982689948285,\n",
       " 0.23583687578508655,\n",
       " 0.23529485167164546,\n",
       " 0.23474383490108724,\n",
       " 0.23418390720872279,\n",
       " 0.23361515171392488,\n",
       " 0.2330376529106452,\n",
       " 0.23245149665776896,\n",
       " 0.2318567701693102,\n",
       " 0.23125356200444763,\n",
       " 0.23064196205740195,\n",
       " 0.23002206154715665,\n",
       " 0.2293939530070227,\n",
       " 0.22875773027404842,\n",
       " 0.22811348847827603,\n",
       " 0.22746132403184524,\n",
       " 0.22680133461794658,\n",
       " 0.22613361917962338,\n",
       " 0.22545827790842624,\n",
       " 0.22477541223291916,\n",
       " 0.2240851248070396,\n",
       " 0.22338751949831356,\n",
       " 0.22268270137592694,\n",
       " 0.22197077669865442,\n",
       " 0.2212518529026473,\n",
       " 0.2205260385890815,\n",
       " 0.21979344351166744,\n",
       " 0.21905417856402234,\n",
       " 0.21830835576690757,\n",
       " 0.21755608825533135,\n",
       " 0.21679749026551848,\n",
       " 0.21603267712174923,\n",
       " 0.21526176522306778,\n",
       " 0.21448487202986244,\n",
       " 0.21370211605031883,\n",
       " 0.21291361682674745,\n",
       " 0.21211949492178747,\n",
       " 0.21131987190448775,\n",
       " 0.21051487033626715,\n",
       " 0.20970461375675534,\n",
       " 0.20888922666951568,\n",
       " 0.20806883452765199,\n",
       " 0.20724356371930064,\n",
       " 0.2064135415530093,\n",
       " 0.20557889624300468,\n",
       " 0.20473975689434976,\n",
       " 0.20389625348799362,\n",
       " 0.20304851686571407,\n",
       " 0.20219667871495586,\n",
       " 0.20134087155356506,\n",
       " 0.20048122871442275,\n",
       " 0.19961788432997812,\n",
       " 0.198750973316684,\n",
       " 0.19788063135933553,\n",
       " 0.1970069948953147]"
      ]
     },
     "execution_count": 23,
     "metadata": {},
     "output_type": "execute_result"
    }
   ],
   "source": [
    "dist_from_origin_30 = []\n",
    "for i in range(len(positions_30)):\n",
    "    dt = (positions_30[i][0] * positions_30[i][0]) + (positions_30[i][1] * positions_30[i][1]) + (positions_30[i][2] * positions_30[i][2])\n",
    "    dist_from_origin_30.append(dt)\n",
    "dist_from_origin_30"
   ]
  },
  {
   "cell_type": "code",
   "execution_count": 24,
   "id": "3344f20a",
   "metadata": {},
   "outputs": [
    {
     "data": {
      "text/plain": [
       "[<matplotlib.lines.Line2D at 0x7fa327ed91c0>]"
      ]
     },
     "execution_count": 24,
     "metadata": {},
     "output_type": "execute_result"
    },
    {
     "data": {
      "image/png": "[encoded data removed]",
      "text/plain": [
       "<Figure size 432x288 with 1 Axes>"
      ]
     },
     "metadata": {
      "needs_background": "light"
     },
     "output_type": "display_data"
    }
   ],
   "source": [
    "plt.plot(speeds_30)"
   ]
  },
  {
   "cell_type": "code",
   "execution_count": 25,
   "id": "81c5c473",
   "metadata": {},
   "outputs": [
    {
     "data": {
      "text/plain": [
       "[<matplotlib.lines.Line2D at 0x7fa327ea6f10>]"
      ]
     },
     "execution_count": 25,
     "metadata": {},
     "output_type": "execute_result"
    },
    {
     "data": {
      "image/png": "[encoded data removed]",
      "text/plain": [
       "<Figure size 432x288 with 1 Axes>"
      ]
     },
     "metadata": {
      "needs_background": "light"
     },
     "output_type": "display_data"
    }
   ],
   "source": [
    "plt.plot(dist_from_origin_30)"
   ]
  },
  {
   "cell_type": "code",
   "execution_count": 26,
   "id": "d9e5fb1c",
   "metadata": {},
   "outputs": [
    {
     "data": {
      "text/plain": [
       "33.55707402369505"
      ]
     },
     "execution_count": 26,
     "metadata": {},
     "output_type": "execute_result"
    }
   ],
   "source": [
    "speeds_30[len(speeds_30) - 1] / speeds_30[0]"
   ]
  },
  {
   "cell_type": "markdown",
   "id": "b484e040",
   "metadata": {},
   "source": [
    "### Checking for E = 0 and B = 0"
   ]
  },
  {
   "cell_type": "code",
   "execution_count": 27,
   "id": "1c5507e8",
   "metadata": {},
   "outputs": [],
   "source": [
    "run.create_batch_with_file_initialization('H+', constants.constants['e'][0],\\\n",
    "                                          constants.constants['m_H'][0] * constants.constants['amu'][0], \\\n",
    "                                          100, 2, 'H ions')\n",
    "\n",
    "\n",
    "\n",
    "positions_and_velocities = run.update_batch_with_unchanging_fields(1, 2, 1, [0,0,0], [0,0,0], [0])"
   ]
  },
  {
   "cell_type": "code",
   "execution_count": 28,
   "id": "8a54ea1f",
   "metadata": {},
   "outputs": [
    {
     "data": {
      "text/plain": [
       "{0: [(0,\n",
       "   array([ 1579.129935, -5723.201089, -2863.641674]),\n",
       "   array([ 1579.629935, -5723.201089, -2863.641674])),\n",
       "  (1,\n",
       "   array([  3158.75987 , -11446.402178,  -5727.283348]),\n",
       "   array([ 1579.629935, -5723.201089, -2863.641674]))]}"
      ]
     },
     "execution_count": 28,
     "metadata": {},
     "output_type": "execute_result"
    }
   ],
   "source": [
    "positions_and_velocities"
   ]
  },
  {
   "cell_type": "markdown",
   "id": "fd9db34d",
   "metadata": {},
   "source": [
    "##### The position is also not changing in zero E and B fields, the velocity not changing is expected but dependeing on the velocity the position should change."
   ]
  },
  {
   "cell_type": "code",
   "execution_count": 29,
   "id": "61bcb019",
   "metadata": {},
   "outputs": [],
   "source": [
    "zeroth_particle_data = positions_and_velocities[0]\n",
    "zeroth_particle_positions = []\n",
    "for i in range(len(zeroth_particle_data)):\n",
    "    zeroth_particle_positions.append(zeroth_particle_data[i][1])"
   ]
  },
  {
   "cell_type": "code",
   "execution_count": 30,
   "id": "2c438aaf",
   "metadata": {},
   "outputs": [
    {
     "data": {
      "text/plain": [
       "[array([ 1579.129935, -5723.201089, -2863.641674]),\n",
       " array([  3158.75987 , -11446.402178,  -5727.283348])]"
      ]
     },
     "execution_count": 30,
     "metadata": {},
     "output_type": "execute_result"
    }
   ],
   "source": [
    "zeroth_particle_positions"
   ]
  },
  {
   "cell_type": "markdown",
   "id": "8ad7e4c7",
   "metadata": {},
   "source": [
    "#### Tasks\n",
    "\n",
    "1. Check the average speed of the maxwellian distribution of velocities and see if it matches with the temperature\n",
    "2. Check with some E and B fields wheather the update gives the next set of velocities and positions\n",
    "3. Define sputtering chamber, as position between some bounds; and track particles until they are there\n",
    "\n",
    "4. Define stream of particles like in a plasma\n",
    "5. Define E and B fields changing functionality, simple for exmaple changing the E field strength or Voltage"
   ]
  },
  {
   "cell_type": "code",
   "execution_count": 31,
   "id": "f4e65aed",
   "metadata": {},
   "outputs": [],
   "source": [
    "a = [np.array([1,2,3]), np.array([10,3,4])]"
   ]
  },
  {
   "cell_type": "code",
   "execution_count": 32,
   "id": "2fde8ca2",
   "metadata": {},
   "outputs": [
    {
     "data": {
      "text/plain": [
       "[array([1, 2, 3]), array([10,  3,  4])]"
      ]
     },
     "execution_count": 32,
     "metadata": {},
     "output_type": "execute_result"
    }
   ],
   "source": [
    "a"
   ]
  },
  {
   "cell_type": "code",
   "execution_count": 33,
   "id": "f2e2cba5",
   "metadata": {},
   "outputs": [
    {
     "data": {
      "text/plain": [
       "[1, 10]"
      ]
     },
     "execution_count": 33,
     "metadata": {},
     "output_type": "execute_result"
    }
   ],
   "source": [
    "[elem[0] for elem in a]"
   ]
  },
  {
   "cell_type": "code",
   "execution_count": null,
   "id": "1d19298e",
   "metadata": {},
   "outputs": [],
   "source": []
  }
 ],
 "metadata": {
  "kernelspec": {
   "display_name": "Python 3 (ipykernel)",
   "language": "python",
   "name": "python3"
  },
  "language_info": {
   "codemirror_mode": {
    "name": "ipython",
    "version": 3
   },
   "file_extension": ".py",
   "mimetype": "text/x-python",
   "name": "python",
   "nbconvert_exporter": "python",
   "pygments_lexer": "ipython3",
   "version": "3.9.9"
  }
 },
 "nbformat": 4,
 "nbformat_minor": 5
}
