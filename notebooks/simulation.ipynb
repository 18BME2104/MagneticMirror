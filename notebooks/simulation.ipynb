{
 "cells": [
  {
   "cell_type": "markdown",
   "id": "7e0488b0",
   "metadata": {},
   "source": [
    "In this file, currently we import functionality from run.ipynb and run the simulation\n",
    "\n",
    "Author: 18BME2104 Kaushal"
   ]
  },
  {
   "cell_type": "code",
   "execution_count": 1,
   "id": "12a0bea0",
   "metadata": {},
   "outputs": [
    {
     "name": "stdout",
     "output_type": "stream",
     "text": [
      "importing Jupyter notebook from run.ipynb\n",
      "importing Jupyter notebook from batch.ipynb\n",
      "importing Jupyter notebook from particle.ipynb\n",
      "importing Jupyter notebook from field.ipynb\n",
      "importing Jupyter notebook from constants.ipynb\n"
     ]
    }
   ],
   "source": [
    "import import_ipynb\n",
    "from run import Run\n",
    "from constants import Constants"
   ]
  },
  {
   "cell_type": "code",
   "execution_count": 2,
   "id": "f84f22e3",
   "metadata": {},
   "outputs": [],
   "source": [
    "run = Run()"
   ]
  },
  {
   "cell_type": "code",
   "execution_count": 3,
   "id": "e8c6f35a",
   "metadata": {},
   "outputs": [],
   "source": [
    "constants = Constants()"
   ]
  },
  {
   "cell_type": "code",
   "execution_count": 4,
   "id": "be818409",
   "metadata": {},
   "outputs": [],
   "source": [
    "# Create a batch\n",
    "run.create_batch_with_file_initialization('H+', constants.constants['e'][0],\\\n",
    "                                          constants.constants['m_H'][0] * constants.constants['amu'][0], \\\n",
    "                                          100, 'H ions')"
   ]
  },
  {
   "cell_type": "code",
   "execution_count": 5,
   "id": "9b4bf63d",
   "metadata": {},
   "outputs": [],
   "source": [
    "#Take a Batch object from the list of created batches inside a run object\n",
    "batch_object = run.batches[0]['H ions'] #The batch created"
   ]
  },
  {
   "cell_type": "code",
   "execution_count": 6,
   "id": "30dcb19d",
   "metadata": {},
   "outputs": [
    {
     "data": {
      "text/plain": [
       "<batch.Batch at 0x7f814ddc6c40>"
      ]
     },
     "execution_count": 6,
     "metadata": {},
     "output_type": "execute_result"
    }
   ],
   "source": [
    "batch_object"
   ]
  },
  {
   "cell_type": "code",
   "execution_count": 7,
   "id": "9c83730d",
   "metadata": {},
   "outputs": [],
   "source": [
    "#Get the particles in the batch\n",
    "particles_in_the_batch = batch_object.particles"
   ]
  },
  {
   "cell_type": "code",
   "execution_count": 8,
   "id": "2646808e",
   "metadata": {},
   "outputs": [],
   "source": [
    "#Get a single particle from the batch\n",
    "n_for_particle = 50\n",
    "nth_particle = particles_in_the_batch[n_for_particle] "
   ]
  },
  {
   "cell_type": "code",
   "execution_count": 9,
   "id": "74e04cfc",
   "metadata": {},
   "outputs": [
    {
     "name": "stdout",
     "output_type": "stream",
     "text": [
      "H+ \n",
      " mass:1.6738233791328e-27 charge:1.6021766340000001e-19         \n",
      " position: (-0.500000, 0.000000, 0.000000)         \n",
      " velocity: (4424.274293, 1718.322218, -10218.543702)         \n",
      " acceleration: (0, 0, 0)\n"
     ]
    }
   ],
   "source": [
    "#Print information about a single particle in a single batch inside a run object\n",
    "print(nth_particle)"
   ]
  },
  {
   "cell_type": "markdown",
   "id": "fca1f254",
   "metadata": {},
   "source": [
    "## Check Maxwell sampling, perhaps vectors are not normalized\n",
    "## Multiply sampled speed by unit vector directions"
   ]
  },
  {
   "cell_type": "code",
   "execution_count": null,
   "id": "6203e3b6",
   "metadata": {},
   "outputs": [],
   "source": [
    "'''\n",
    "run.update_batch_with_unchanging_fields(self, index, dT, stepT, argsE, argsB)\n",
    "'''"
   ]
  },
  {
   "cell_type": "code",
   "execution_count": null,
   "id": "c1a359a9",
   "metadata": {},
   "outputs": [],
   "source": []
  }
 ],
 "metadata": {
  "kernelspec": {
   "display_name": "Python 3 (ipykernel)",
   "language": "python",
   "name": "python3"
  },
  "language_info": {
   "codemirror_mode": {
    "name": "ipython",
    "version": 3
   },
   "file_extension": ".py",
   "mimetype": "text/x-python",
   "name": "python",
   "nbconvert_exporter": "python",
   "pygments_lexer": "ipython3",
   "version": "3.9.9"
  }
 },
 "nbformat": 4,
 "nbformat_minor": 5
}
