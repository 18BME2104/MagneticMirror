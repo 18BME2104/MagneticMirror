{
 "cells": [
  {
   "cell_type": "markdown",
   "id": "3d283576",
   "metadata": {},
   "source": [
    "This file describes the constants used in the project.\n",
    "\n",
    "Author: 18BME2104 Kaushal"
   ]
  },
  {
   "cell_type": "code",
   "execution_count": 1,
   "id": "8c096b2e",
   "metadata": {},
   "outputs": [],
   "source": [
    "# from inspect import getmembers, isfunction, isclass # To inspect imported modules\n",
    "# from IPython.display import display, Math, Latex, clear_output # To use latex typesetting style\n",
    "\n",
    "# import numpy as np # For computations\n",
    "# import sympy as sm # For symbolic use\n",
    "\n",
    "# import pandas as pd # To use large tables\n",
    "# import matplotlib.pyplot as plt #To make plots"
   ]
  },
  {
   "cell_type": "code",
   "execution_count": 3,
   "id": "a68ebbc5",
   "metadata": {},
   "outputs": [],
   "source": [
    "# import import_ipynb # To import other notebooks\n",
    "#If there is an error import other notebooks at the end of this notebook"
   ]
  },
  {
   "cell_type": "code",
   "execution_count": 2,
   "id": "0e56d479",
   "metadata": {},
   "outputs": [],
   "source": [
    "#Define the required constants\n",
    "constants = { \n",
    "            #'symbol': ['unit', 'value', '10 ^ power', 'number of digits', 'description'],\n",
    "            'e' : ['C', 1.602176634, -19, 10, 'The charge of an electron, or the elementary charge'],\n",
    "            'm_e': ['kg', 9.109383701, -31, 10, 'The mass of an electron'],\n",
    "            'amu': ['kg', 1.6605390666, -27, 11, 'The unified atomic mass unit or Dalton'],\n",
    "            'N_A': ['mol', 6.02214076, 23, 9, 'Avogadro\\'s number'],\n",
    "            'epsilon_0': ['F/m', 8.854187812, -12, 10, 'Permittivity of vacuum'],\n",
    "            'mu_0': ['H/m', 1.2566370621, -6, 11, 'Permeability of vaccum']\n",
    "    #Define other constants like mass and charge of other ions here\n",
    "                    }\n",
    "def show_constant(symbol):\n",
    "    '''\n",
    "    Print a constant if it is defined in the dictionary constants.\n",
    "\n",
    "    Arguments:\n",
    "    symbol: string representing the defined symbol of the constant\n",
    "\n",
    "    Returns:\n",
    "    nothing\n",
    "    '''\n",
    "    \n",
    "    \n",
    "    if symbol in constants.keys():\n",
    "        (print(f'{symbol} = {constants[symbol][1]} x 10^({constants[symbol][2]}) {constants[symbol][0]} \\\n",
    "               \\n {constants[symbol][3]} significant figures \\\n",
    "               \\n {constants[symbol][4]}'))\n",
    "    else:\n",
    "        print('Constant not in record or symbol mismatch.')"
   ]
  },
  {
   "cell_type": "code",
   "execution_count": 3,
   "id": "2f9dadb4",
   "metadata": {},
   "outputs": [
    {
     "name": "stdout",
     "output_type": "stream",
     "text": [
      "m_e = 9.109383701 x 10^(-31) kg                \n",
      " 10 significant figures                \n",
      " The mass of an electron\n"
     ]
    }
   ],
   "source": [
    "#Checking constants and show_constant function\n",
    "show_constant('m_e')"
   ]
  },
  {
   "cell_type": "code",
   "execution_count": null,
   "id": "81ff9b9c",
   "metadata": {},
   "outputs": [],
   "source": []
  },
  {
   "cell_type": "code",
   "execution_count": null,
   "id": "f09c3c2a",
   "metadata": {},
   "outputs": [],
   "source": [
    "#If there is an error import other notebooks at the end of this notebook"
   ]
  }
 ],
 "metadata": {
  "kernelspec": {
   "display_name": "Python 3 (ipykernel)",
   "language": "python",
   "name": "python3"
  },
  "language_info": {
   "codemirror_mode": {
    "name": "ipython",
    "version": 3
   },
   "file_extension": ".py",
   "mimetype": "text/x-python",
   "name": "python",
   "nbconvert_exporter": "python",
   "pygments_lexer": "ipython3",
   "version": "3.9.7"
  }
 },
 "nbformat": 4,
 "nbformat_minor": 5
}
