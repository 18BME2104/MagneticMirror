{
 "cells": [
  {
   "cell_type": "markdown",
   "id": "3d283576",
   "metadata": {},
   "source": [
    "This file describes the constants used in the project.\n",
    "\n",
    "Author: 18BME2104 Kaushal"
   ]
  },
  {
   "cell_type": "code",
   "execution_count": 1,
   "id": "0e56d479",
   "metadata": {},
   "outputs": [],
   "source": [
    "#Define the required constants\n",
    "class Constants:\n",
    "    '''\n",
    "    An instance object of the Constant class can:\n",
    "    1. allow access to the defined constants and display them\n",
    "    \n",
    "    SUGGESTIONS FOR IMPROVEMENTS\n",
    "    1.\n",
    "    '''\n",
    "    \n",
    "    \n",
    "    def __init__(self):\n",
    "        self.constants = { \n",
    "                #'symbol': ['value', unit', 'digits', '10 ^ power', 'number of digits', 'description'],\n",
    "                'e' : [1.602176634 * (10**(-19)), 'C', 1.602176634, -19, 10, \\\n",
    "                       'The charge of an electron, or the elementary charge'],\n",
    "                'm_e': [9.109383701 * (10**(-31)), 'kg', 9.109383701, -31, 10, \\\n",
    "                        'The mass of an electron'],\n",
    "                'amu': [1.6605390666 * (10**(-27)), 'kg', 1.6605390666, -27, 11, \\\n",
    "                        'The unified atomic mass unit or Dalton'],\n",
    "                'N_A': [6.02214076 * (10**(23)), 'mol', 6.02214076, 23, 9, \\\n",
    "                        'Avogadro\\'s number'],\n",
    "                'epsilon_0': [8.854187812 * (10**(-12)), 'F/m', 8.854187812, -12, 10, \\\n",
    "                              'Permittivity of vacuum'],\n",
    "                'mu_0': [1.2566370621 * (10**(-6)), 'H/m', 1.2566370621, -6, 11, \\\n",
    "                         'Permeability of vaccum'],\n",
    "                'K': [1.380649 * (10**(-23)), 'J/K', 1.380649, -23, 7, 'The Boltzmann constant'],\n",
    "                'm_H': [1.008, 'amu', 1.008, 0, 4, 'The relative atomic mass of Hydrogen atom in amu or g/mol']\n",
    "                #Define other constants like mass and charge of other ions here\n",
    "                    }\n",
    "    def show_constant(self, symbol):\n",
    "        '''\n",
    "        Print a constant if it is defined in the dictionary constants.\n",
    "\n",
    "        Arguments:\n",
    "        symbol: string representing the defined symbol of the constant\n",
    "\n",
    "        Returns:\n",
    "        nothing\n",
    "        '''\n",
    "\n",
    "\n",
    "        if symbol in constants.keys():\n",
    "            (print(f'{symbol} = {constants[symbol][1]} x 10^({constants[symbol][2]}) {constants[symbol][0]} \\\n",
    "                   \\n {constants[symbol][3]} significant figures \\\n",
    "                   \\n {constants[symbol][4]}'))\n",
    "        else:\n",
    "            print('Constant not in record or symbol mismatch.')"
   ]
  },
  {
   "cell_type": "code",
   "execution_count": null,
   "id": "81ff9b9c",
   "metadata": {},
   "outputs": [],
   "source": []
  }
 ],
 "metadata": {
  "kernelspec": {
   "display_name": "Python 3 (ipykernel)",
   "language": "python",
   "name": "python3"
  },
  "language_info": {
   "codemirror_mode": {
    "name": "ipython",
    "version": 3
   },
   "file_extension": ".py",
   "mimetype": "text/x-python",
   "name": "python",
   "nbconvert_exporter": "python",
   "pygments_lexer": "ipython3",
   "version": "3.9.9"
  }
 },
 "nbformat": 4,
 "nbformat_minor": 5
}
