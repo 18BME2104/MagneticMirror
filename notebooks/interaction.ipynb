{
 "cells": [
  {
   "cell_type": "markdown",
   "id": "dc205f7d",
   "metadata": {},
   "source": [
    "This file describes the interaction of the particles with the fields.\n",
    "\n",
    "Author: 18BME2104 Kaushal"
   ]
  },
  {
   "cell_type": "code",
   "execution_count": 1,
   "id": "1c85b355",
   "metadata": {},
   "outputs": [],
   "source": [
    "from inspect import getmembers, isfunction, isclass # To inspect imported modules\n",
    "from IPython.display import display, Math, Latex, clear_output # To use latex typesetting style\n",
    "\n",
    "import numpy as np # For computations\n",
    "import sympy as sm # For symbolic use\n",
    "\n",
    "import pandas as pd # To use large tables\n",
    "import matplotlib.pyplot as plt #To make plots"
   ]
  },
  {
   "cell_type": "code",
   "execution_count": 3,
   "id": "f894b3ce",
   "metadata": {},
   "outputs": [],
   "source": [
    "class Interaction:\n",
    "    def __init__(self, particles, fields):\n",
    "        self.particles = particles\n",
    "        self.fields = fields\n",
    "        \n",
    "        # particle.update(field)\n",
    "        \n",
    "    def __string__(self):\n",
    "        pass\n",
    "        \n",
    "    def docstring(self):\n",
    "            pass\n",
    "            # print (something)\n",
    "        \n",
    "    def lorentz(self):\n",
    "        E, B, v = sm.symbols('E B v')\n",
    "        force = E + sm.physics.cross(v,B)\n",
    "        return force\n",
    "    "
   ]
  },
  {
   "cell_type": "code",
   "execution_count": null,
   "id": "394ff961",
   "metadata": {},
   "outputs": [],
   "source": [
    "#create many particles\n",
    "# by sampling different positions and velocities using various distribution functions\n",
    "#Loop\n",
    "    #get fields at their position\n",
    "    #move the particles"
   ]
  }
 ],
 "metadata": {
  "kernelspec": {
   "display_name": "Python 3 (ipykernel)",
   "language": "python",
   "name": "python3"
  },
  "language_info": {
   "codemirror_mode": {
    "name": "ipython",
    "version": 3
   },
   "file_extension": ".py",
   "mimetype": "text/x-python",
   "name": "python",
   "nbconvert_exporter": "python",
   "pygments_lexer": "ipython3",
   "version": "3.9.7"
  }
 },
 "nbformat": 4,
 "nbformat_minor": 5
}
