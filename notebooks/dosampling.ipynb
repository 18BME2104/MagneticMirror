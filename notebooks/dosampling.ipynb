{
 "cells": [
  {
   "cell_type": "code",
   "execution_count": 1,
   "id": "2b6d26e5",
   "metadata": {},
   "outputs": [
    {
     "name": "stdout",
     "output_type": "stream",
     "text": [
      "importing Jupyter notebook from sampling.ipynb\n",
      "importing Jupyter notebook from constants.ipynb\n"
     ]
    }
   ],
   "source": [
    "import import_ipynb\n",
    "from sampling import Sampler\n",
    "from constants import Constants\n",
    "import numpy as np"
   ]
  },
  {
   "cell_type": "markdown",
   "id": "6cd8e30d",
   "metadata": {},
   "source": [
    "## Don't run cells in this notebook without doing it deliberately. Many files will be created unnecessarily"
   ]
  },
  {
   "cell_type": "code",
   "execution_count": 2,
   "id": "87507030",
   "metadata": {},
   "outputs": [],
   "source": [
    "sample = Sampler()\n",
    "constants = Constants()"
   ]
  },
  {
   "cell_type": "markdown",
   "id": "691922fd",
   "metadata": {},
   "source": [
    "## Sample 1 Hydrogen ions"
   ]
  },
  {
   "cell_type": "markdown",
   "id": "053b3243",
   "metadata": {},
   "source": [
    "N_A = constants.constants['N_A'] # Avogadro's number\n",
    "\n",
    "V_STP = 22.4 # Volume; in Liters, of 1 mole gas at Standard Temperature and Pressure conditions (STP)\n",
    "\n",
    "V_LPM_reference = 10 # Volume flow rate; in Liters per minute taken as reference\n",
    "\n",
    "V_LPS_reference = V_LPM_reference / 60 # Volume flow rate; in Liters per second taken as reference\n",
    "\n",
    "T_sample_batch = 10 # Time; in seconds, taken to get volume from volume flow rate\n",
    "\n",
    "V_sample_batch = V_LPS_reference * T_batch # Volume; in liters, of a sampling batch taken\n",
    "\n",
    "V_ratio = V_sample_batch / V_STP \n",
    "\n",
    "n = N_A * V_ratio # number of molecules in the gas\n",
    "\n",
    "natomes = 2 # Number of atoms in a molecule, 2 for hydrogen\n",
    "\n",
    "n = n * natoms # The number of particles involved in the sampling\n",
    "\n",
    "This procedure gives number of particles in the order of 10^23 which is just too large for simulation.\n",
    "So instead we only use 100 particles for now."
   ]
  },
  {
   "cell_type": "code",
   "execution_count": 3,
   "id": "118efa28",
   "metadata": {},
   "outputs": [],
   "source": [
    "# Constants separated\n",
    "K = constants.constants['K'][0] # Boltzmann constant\n",
    "amu = constants.constants['amu'][0] # Atomic mass unit in kg\n",
    "\n",
    "m_amu = constants.constants['m_H'][0] # The relative atomic mass of hydrogen atom in amu\n",
    "m_kg = m_amu * amu # The mass of Hydrogen atom in kg"
   ]
  },
  {
   "cell_type": "code",
   "execution_count": 4,
   "id": "a44a0369",
   "metadata": {},
   "outputs": [],
   "source": [
    "#Define needed parameters\n",
    "n = 100 # Consider 100 particles for now\n",
    "\n",
    "#Position parameters\n",
    "r = [-0.5, 0, 0]\n",
    "# The chamber is considered as a cube of side 1 m, with [-0.5, -0.5, -0.5] being the bottom left corner\n",
    "# and [0.5, 0.5, 0.5] being the top right corner\n",
    "# Particles start at the center of the left face.\n",
    "\n",
    "r_strategy = 'sample_same_given_position'\n",
    "r_details = 'r=[-0.5,0,0] for 1m x 1m x 1m cube chamber. H atom'\n",
    "#Velocity parameters\n",
    "v_median = 800 # Median particle speed considered 800 m/s\n",
    "\n",
    "T = 10000 #Plasma temperature = 10000 K \n",
    "\n",
    "v_strategy = 'sample_Maxwellian_velocity_all_random_direction'\n",
    "v_details = 'v_median=800ms-1 T=10000K. H atom'"
   ]
  },
  {
   "cell_type": "code",
   "execution_count": 5,
   "id": "c35651e0",
   "metadata": {},
   "outputs": [
    {
     "data": {
      "text/plain": [
       "\"\\nsample.write_to_csv_file(velocities, 'v', v_strategy, n, v_details)\\n\""
      ]
     },
     "execution_count": 5,
     "metadata": {},
     "output_type": "execute_result"
    }
   ],
   "source": [
    "#Sample positions and velocities and write to file.\n",
    "\n",
    "positions = sample.sample_same_given_position(r, n)\n",
    "\n",
    "'''\n",
    "sample.write_to_csv_file(positions, 'r', r_strategy, n, r_details)\n",
    "'''\n",
    "\n",
    "velocities = sample.sample_Maxwellian_velocity_all_random_direction(v_median, K, T, m_kg, n)\n",
    "\n",
    "'''\n",
    "sample.write_to_csv_file(velocities, 'v', v_strategy, n, v_details)\n",
    "'''"
   ]
  },
  {
   "cell_type": "markdown",
   "id": "feeb4e7f",
   "metadata": {},
   "source": [
    "# Sample 1 attempt 2"
   ]
  },
  {
   "cell_type": "markdown",
   "id": "d0b8cbc4",
   "metadata": {},
   "source": [
    "v_median = 800 gives large velocity components like 2000, 3000\n",
    "Perhaps v_median = 0 should be good\n",
    "\n",
    "So only velocities file will be regenerated"
   ]
  },
  {
   "cell_type": "code",
   "execution_count": 6,
   "id": "7ac744c0",
   "metadata": {},
   "outputs": [
    {
     "data": {
      "text/plain": [
       "\"\\nsample.write_to_csv_file(velocities_2, 'v', v_strategy, n, v_details_2)\\n\""
      ]
     },
     "execution_count": 6,
     "metadata": {},
     "output_type": "execute_result"
    }
   ],
   "source": [
    "v_median_2 = 0\n",
    "\n",
    "v_details_2 = 'v_median=0ms-1 T=10000K. H atom'\n",
    "\n",
    "velocities_2 = sample.sample_Maxwellian_velocity_all_random_direction(v_median_2, K, T, m_kg, n)\n",
    "\n",
    "'''\n",
    "sample.write_to_csv_file(velocities_2, 'v', v_strategy, n, v_details_2)\n",
    "'''"
   ]
  },
  {
   "cell_type": "markdown",
   "id": "d12ff377",
   "metadata": {},
   "source": [
    "### Sample 1 attempt 3\n",
    "\n",
    "we were using Hydrogen atom, but let's use Hydrogen gas instead and try.\n",
    "\n",
    "Only velocities will be regenerated"
   ]
  },
  {
   "cell_type": "code",
   "execution_count": 7,
   "id": "dafb501b",
   "metadata": {},
   "outputs": [
    {
     "data": {
      "text/plain": [
       "\"\\nsample.write_to_csv_file(velocities_3, 'v', v_strategy, n, v_details_3)\\n\""
      ]
     },
     "execution_count": 7,
     "metadata": {},
     "output_type": "execute_result"
    }
   ],
   "source": [
    "v_details_3 = 'v_median=0ms-1 T=10000K. H2 gas'\n",
    "\n",
    "velocities_3 = sample.sample_Maxwellian_velocity_all_random_direction(v_median_2, K, T, m_kg * 2, n)\n",
    "\n",
    "'''\n",
    "sample.write_to_csv_file(velocities_3, 'v', v_strategy, n, v_details_3)\n",
    "'''"
   ]
  },
  {
   "cell_type": "code",
   "execution_count": null,
   "id": "cc2758ce",
   "metadata": {},
   "outputs": [],
   "source": []
  },
  {
   "cell_type": "markdown",
   "id": "0d076dcf",
   "metadata": {},
   "source": [
    "# Sample 2"
   ]
  },
  {
   "cell_type": "markdown",
   "id": "a08480e7",
   "metadata": {},
   "source": [
    "## 2 a position\n",
    "All particles are 0.5 m away from the center [0,0,0] but in a uniform random direction"
   ]
  },
  {
   "cell_type": "code",
   "execution_count": 8,
   "id": "c6479f78",
   "metadata": {},
   "outputs": [],
   "source": [
    "positions_p2 = sample.sample_same_given_distance_all_random_direction(d=0.5, n=100)\n",
    "r_strategy_p2 = 'sample_same_given_distance_all_random_direction'\n",
    "r_details_p2 = 'd=0,5m from center [0,0,0] for 1m x 1m x 1m cube chamber'\n",
    "#sample.write_to_csv_file(positions_p2, 'r', r_strategy_p2, 100, r_details_p2)"
   ]
  },
  {
   "cell_type": "markdown",
   "id": "b3a75b4a",
   "metadata": {},
   "source": [
    "## 2 b velocity\n",
    "Particle speeds are sampled from parabolic distribution\n",
    "velocity directions are uniformly randomly sampled"
   ]
  },
  {
   "cell_type": "code",
   "execution_count": 9,
   "id": "739e512b",
   "metadata": {},
   "outputs": [],
   "source": [
    "R = constants.constants['R'][0]\n",
    "T_p2 = 10000 # plasma temperature 10000 K\n",
    "mH_gmol = constants.constants['m_H'][0]\n",
    "mH_kgmol = mH_gmol * (10**(-3))\n",
    "sqrt_pi = np.sqrt(np.pi)\n",
    "# Mean to be used equal to mean speed of Maxwellian distribution\n",
    "maxwell_mean = (2/sqrt_pi) * np.sqrt( (2 * R * T_p2)/ mH_kgmol)\n",
    "# Standard deviation to be used such that\n",
    "# Variance = RMS of Maxwellian - (Mean of Maxwellian)**2 \n",
    "maxwell_std_coeff = np.sqrt(3 - (8/(np.pi**2)))\n",
    "maxwell_std_speed = maxwell_std_coeff * np.sqrt( (R * T_p2)/ mH_kgmol)\n",
    "# Found emperically\n",
    "maxwell_speed_scale = 30049.5113130523"
   ]
  },
  {
   "cell_type": "code",
   "execution_count": 10,
   "id": "ed03d517",
   "metadata": {},
   "outputs": [],
   "source": [
    "### MAIN part where sampling was done ###\n",
    "velocities_p2 = sample.sample_parabolic_speed_f1_all_random_direction(n=100, loc=maxwell_mean, scale=maxwell_speed_scale)\n",
    "v_strategy_p2 = 'sample_parabolic_speed_f1_all_random_direction'\n",
    "v_details_p2 = 'n=100, parameters based on 10000K Maxwellian'\n",
    "#sample.write_to_csv_file(velocities_p2, 'v', v_strategy_p2, 100, v_details_p2)"
   ]
  },
  {
   "cell_type": "code",
   "execution_count": 64,
   "id": "23777846",
   "metadata": {},
   "outputs": [
    {
     "data": {
      "text/plain": [
       "(array([13.,  9.,  4.,  7.,  4.,  9.,  5.,  9.,  8.,  3.,  4.,  3.,  3.,\n",
       "         4.,  1.,  6.,  2.,  2.,  2.,  2.]),\n",
       " array([  733.48899315,  2739.42868759,  4745.36838202,  6751.30807646,\n",
       "         8757.24777089, 10763.18746533, 12769.12715977, 14775.0668542 ,\n",
       "        16781.00654864, 18786.94624308, 20792.88593751, 22798.82563195,\n",
       "        24804.76532639, 26810.70502082, 28816.64471526, 30822.58440969,\n",
       "        32828.52410413, 34834.46379857, 36840.403493  , 38846.34318744,\n",
       "        40852.28288188]),\n",
       " <BarContainer object of 20 artists>)"
      ]
     },
     "execution_count": 64,
     "metadata": {},
     "output_type": "execute_result"
    },
    {
     "data": {
      "image/png": "[encoded data removed]",
      "text/plain": [
       "<Figure size 432x288 with 1 Axes>"
      ]
     },
     "metadata": {
      "needs_background": "light"
     },
     "output_type": "display_data"
    }
   ],
   "source": [
    "# To plot and see the speed distribution before saving to csv file\n",
    "import matplotlib.pyplot as plt\n",
    "speeds = []\n",
    "def norm(x, y, z):\n",
    "    return np.sqrt((x*x)+(y*y)+(z*z))\n",
    "for i in range(len(velocities_p2)):\n",
    "    speeds.append(norm(velocities_p2[i][0], velocities_p2[i][1], velocities_p2[i][2]))\n",
    "speeds = np.array(speeds)\n",
    "plt.hist(speeds, 20)\n",
    "#plt.savefig('parabolicspeedsampling', dpi='figure', format='png')"
   ]
  },
  {
   "cell_type": "code",
   "execution_count": 61,
   "id": "8db7103a",
   "metadata": {},
   "outputs": [
    {
     "name": "stdout",
     "output_type": "stream",
     "text": [
      "SUCCESS\n",
      "/home/kushik/Kushik/VIT/Eighth semester/MagneticMirror/csvfiles/sampling/100 v sample_parabolic_speed_f1_all_random_direction n=100, parameters based on 10000K Maxwellian 06-04-2022 17:44:46:811591\n"
     ]
    }
   ],
   "source": [
    "# Writing to the csv file\n",
    "# sample.write_to_csv_file(velocities_p2, 'v', v_strategy_p2, 100, v_details_p2)"
   ]
  },
  {
   "cell_type": "code",
   "execution_count": null,
   "id": "c4a2aca5",
   "metadata": {},
   "outputs": [],
   "source": []
  },
  {
   "cell_type": "code",
   "execution_count": 41,
   "id": "6589fea0",
   "metadata": {},
   "outputs": [],
   "source": [
    "# This was done to determine the scale parameter to be passed to sample the parabolic velocities\n",
    "# This is correct to 10**(-10) which is the highest precision output during the process.\n",
    "import scipy.stats as stats\n",
    "def find_scale(maxwell_mean, maxwell_std_speed):\n",
    "    required = maxwell_std_speed\n",
    "    current_scale = 30049.5113130523\n",
    "    current_std = stats.rdist.std(c=4, loc=maxwell_mean, scale=current_scale)\n",
    "    i = 0\n",
    "    while True:\n",
    "        i+= 1\n",
    "        diff = required - current_std\n",
    "        \n",
    "        if np.abs(diff) < 10**(-11):\n",
    "            break\n",
    "        \n",
    "        '''if np.close(current, required):\n",
    "            break\n",
    "        '''\n",
    "            \n",
    "        if diff > 0:\n",
    "            current_scale = current_scale + 10**(-11)\n",
    "            current_std = stats.rdist.std(c=4, loc=maxwell_mean, scale=current_scale)\n",
    "        if diff < 0:\n",
    "            current_scale = current_scale - 10**(-11)\n",
    "            current_std = stats.rdist.std(c=4, loc=maxwell_mean, scale=current_scale)\n",
    "            \n",
    "        if i%100 == 0:\n",
    "            print(f'Current_std:{current_std} Current_scale:{current_scale} i:{i}\\n')\n",
    "    return current_scale\n",
    "#maxwell_speed_scale = find_scale(maxwell_mean=maxwell_mean, maxwell_std_speed=maxwell_std_speed)"
   ]
  },
  {
   "cell_type": "code",
   "execution_count": 47,
   "id": "20f91def",
   "metadata": {},
   "outputs": [
    {
     "data": {
      "text/plain": [
       "13438.54999732678"
      ]
     },
     "execution_count": 47,
     "metadata": {},
     "output_type": "execute_result"
    }
   ],
   "source": [
    "# We check the value of the standard deviation of this distribution\n",
    "stats.rdist.std(c=4, loc=maxwell_mean, scale=maxwell_speed_scale)"
   ]
  },
  {
   "cell_type": "code",
   "execution_count": 48,
   "id": "b2e694f4",
   "metadata": {},
   "outputs": [
    {
     "data": {
      "text/plain": [
       "13438.549997326772"
      ]
     },
     "execution_count": 48,
     "metadata": {},
     "output_type": "execute_result"
    }
   ],
   "source": [
    "# Indeed is equal to the Maxwellian standard deviation\n",
    "maxwell_std_speed"
   ]
  },
  {
   "cell_type": "code",
   "execution_count": null,
   "id": "11cdd191",
   "metadata": {},
   "outputs": [],
   "source": []
  },
  {
   "cell_type": "code",
   "execution_count": null,
   "id": "ea6ea093",
   "metadata": {},
   "outputs": [],
   "source": []
  }
 ],
 "metadata": {
  "kernelspec": {
   "display_name": "Python 3 (ipykernel)",
   "language": "python",
   "name": "python3"
  },
  "language_info": {
   "codemirror_mode": {
    "name": "ipython",
    "version": 3
   },
   "file_extension": ".py",
   "mimetype": "text/x-python",
   "name": "python",
   "nbconvert_exporter": "python",
   "pygments_lexer": "ipython3",
   "version": "3.9.9"
  }
 },
 "nbformat": 4,
 "nbformat_minor": 5
}
