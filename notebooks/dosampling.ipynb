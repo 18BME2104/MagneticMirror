{
 "cells": [
  {
   "cell_type": "code",
   "execution_count": 1,
   "id": "2b6d26e5",
   "metadata": {},
   "outputs": [
    {
     "name": "stdout",
     "output_type": "stream",
     "text": [
      "importing Jupyter notebook from sampling.ipynb\n",
      "importing Jupyter notebook from constants.ipynb\n"
     ]
    }
   ],
   "source": [
    "import import_ipynb\n",
    "from sampling import Sampler\n",
    "from constants import Constants"
   ]
  },
  {
   "cell_type": "markdown",
   "id": "6cd8e30d",
   "metadata": {},
   "source": [
    "## Don't run cells in this notebook without doing it deliberately. Many files will be created unnecessarily"
   ]
  },
  {
   "cell_type": "code",
   "execution_count": 2,
   "id": "87507030",
   "metadata": {},
   "outputs": [],
   "source": [
    "sample = Sampler()\n",
    "constants = Constants()"
   ]
  },
  {
   "cell_type": "markdown",
   "id": "691922fd",
   "metadata": {},
   "source": [
    "## Sample 1 Hydrogen ions"
   ]
  },
  {
   "cell_type": "markdown",
   "id": "053b3243",
   "metadata": {},
   "source": [
    "N_A = constants.constants['N_A'] # Avogadro's number\n",
    "\n",
    "V_STP = 22.4 # Volume; in Liters, of 1 mole gas at Standard Temperature and Pressure conditions (STP)\n",
    "\n",
    "V_LPM_reference = 10 # Volume flow rate; in Liters per minute taken as reference\n",
    "\n",
    "V_LPS_reference = V_LPM_reference / 60 # Volume flow rate; in Liters per second taken as reference\n",
    "\n",
    "T_sample_batch = 10 # Time; in seconds, taken to get volume from volume flow rate\n",
    "\n",
    "V_sample_batch = V_LPS_reference * T_batch # Volume; in liters, of a sampling batch taken\n",
    "\n",
    "V_ratio = V_sample_batch / V_STP \n",
    "\n",
    "n = N_A * V_ratio # number of molecules in the gas\n",
    "\n",
    "natomes = 2 # Number of atoms in a molecule, 2 for hydrogen\n",
    "\n",
    "n = n * natoms # The number of particles involved in the sampling\n",
    "\n",
    "This procedure gives number of particles in the order of 10^23 which is just too large for simulation.\n",
    "So instead we only use 100 particles for now."
   ]
  },
  {
   "cell_type": "code",
   "execution_count": 4,
   "id": "118efa28",
   "metadata": {},
   "outputs": [],
   "source": [
    "# Constants separated\n",
    "K = constants.constants['K'][0] # Boltzmann constant\n",
    "amu = constants.constants['amu'][0] # Atomic mass unit in kg\n",
    "\n",
    "m_amu = constants.constants['m_H'][0] # The relative atomic mass of hydrogen atom in amu\n",
    "m_kg = m_amu * amu # The mass of Hydrogen atom in kg"
   ]
  },
  {
   "cell_type": "code",
   "execution_count": 5,
   "id": "a44a0369",
   "metadata": {},
   "outputs": [],
   "source": [
    "#Define needed parameters\n",
    "n = 100 # Consider 100 particles for now\n",
    "\n",
    "#Position parameters\n",
    "r = [-0.5, 0, 0]\n",
    "# The chamber is considered as a cube of side 1 m, with [-0.5, -0.5, -0.5] being the bottom left corner\n",
    "# and [0.5, 0.5, 0.5] being the top right corner\n",
    "# Particles start at the center of the left face.\n",
    "\n",
    "r_strategy = 'sample_same_given_position'\n",
    "r_details = 'r=[-0.5,0,0] for 1m x 1m x 1m cube chamber. H atom'\n",
    "#Velocity parameters\n",
    "v_median = 800 # Median particle speed considered 800 m/s\n",
    "\n",
    "T = 10000 #Plasma temperature = 10000 K \n",
    "\n",
    "v_strategy = 'sample_Maxwellian_velocity_all_random_direction'\n",
    "v_details = 'v_median=800ms-1 T=10000K. H atom'"
   ]
  },
  {
   "cell_type": "code",
   "execution_count": 4,
   "id": "c35651e0",
   "metadata": {},
   "outputs": [
    {
     "name": "stdout",
     "output_type": "stream",
     "text": [
      "SUCCESS\n",
      "/home/kushik/Kushik/VIT/Eighth semester/MagneticMirror/csvfiles/sampling/100 r sample_same_given_position r=[-0.5,0,0] for 1m x 1m x 1m cube chamber. H atom 22-02-2022 17:18:40:097919\n",
      "SUCCESS\n",
      "/home/kushik/Kushik/VIT/Eighth semester/MagneticMirror/csvfiles/sampling/100 v sample_Maxwellian_velocity_all_random_direction v_median=800ms-1 T=10000K. H atom 22-02-2022 17:18:40:110233\n"
     ]
    }
   ],
   "source": [
    "#Sample positions and velocities and write to file.\n",
    "\n",
    "positions = sample.sample_same_given_position(r, n)\n",
    "\n",
    "sample.write_to_csv_file(positions, 'r', r_strategy, n, r_details)\n",
    "\n",
    "velocities = sample.sample_Maxwellian_velocity_all_random_direction(v_median, K, T, m_kg, n)\n",
    "\n",
    "sample.write_to_csv_file(velocities, 'v', v_strategy, n, v_details)\n"
   ]
  },
  {
   "cell_type": "markdown",
   "id": "feeb4e7f",
   "metadata": {},
   "source": [
    "# Sample 1 attempt 2"
   ]
  },
  {
   "cell_type": "markdown",
   "id": "d0b8cbc4",
   "metadata": {},
   "source": [
    "v_median = 800 gives large velocity components like 2000, 3000\n",
    "Perhaps v_median = 0 should be good\n",
    "\n",
    "So only velocities file will be regenerated"
   ]
  },
  {
   "cell_type": "code",
   "execution_count": 6,
   "id": "7ac744c0",
   "metadata": {},
   "outputs": [
    {
     "name": "stdout",
     "output_type": "stream",
     "text": [
      "SUCCESS\n",
      "/home/kushik/Kushik/VIT/Eighth semester/MagneticMirror/csvfiles/sampling/100 v sample_Maxwellian_velocity_all_random_direction v_median=0ms-1 T=10000K. H atom 22-02-2022 18:50:51:805894\n"
     ]
    }
   ],
   "source": [
    "v_median_2 = 0\n",
    "\n",
    "v_details_2 = v_details = 'v_median=0ms-1 T=10000K. H atom'\n",
    "\n",
    "velocities_2 = sample.sample_Maxwellian_velocity_all_random_direction(v_median_2, K, T, m_kg, n)\n",
    "\n",
    "sample.write_to_csv_file(velocities_2, 'v', v_strategy, n, v_details_2)"
   ]
  },
  {
   "cell_type": "code",
   "execution_count": null,
   "id": "9d2bacc7",
   "metadata": {},
   "outputs": [],
   "source": []
  }
 ],
 "metadata": {
  "kernelspec": {
   "display_name": "Python 3 (ipykernel)",
   "language": "python",
   "name": "python3"
  },
  "language_info": {
   "codemirror_mode": {
    "name": "ipython",
    "version": 3
   },
   "file_extension": ".py",
   "mimetype": "text/x-python",
   "name": "python",
   "nbconvert_exporter": "python",
   "pygments_lexer": "ipython3",
   "version": "3.9.9"
  }
 },
 "nbformat": 4,
 "nbformat_minor": 5
}
