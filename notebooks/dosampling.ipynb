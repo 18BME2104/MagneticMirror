{
 "cells": [
  {
   "cell_type": "code",
   "execution_count": 3,
   "id": "2b6d26e5",
   "metadata": {},
   "outputs": [
    {
     "name": "stdout",
     "output_type": "stream",
     "text": [
      "importing Jupyter notebook from constants.ipynb\n"
     ]
    }
   ],
   "source": [
    "import import_ipynb\n",
    "from sampling import Sampler\n",
    "from constants import Constants"
   ]
  },
  {
   "cell_type": "markdown",
   "id": "6cd8e30d",
   "metadata": {},
   "source": [
    "## Don't run cells in this notebook without doing it deliberately. Many ducplicate files will be created"
   ]
  },
  {
   "cell_type": "code",
   "execution_count": 4,
   "id": "87507030",
   "metadata": {},
   "outputs": [],
   "source": [
    "sample = Sampler()\n",
    "constants = Constants()"
   ]
  },
  {
   "cell_type": "markdown",
   "id": "691922fd",
   "metadata": {},
   "source": [
    "## Sample 1 Hydrogen ions"
   ]
  },
  {
   "cell_type": "markdown",
   "id": "053b3243",
   "metadata": {},
   "source": [
    "N_A = constants.constants['N_A'] # Avogadro's number\n",
    "\n",
    "V_STP = 22.4 # Volume; in Liters, of 1 mole gas at Standard Temperature and Pressure conditions (STP)\n",
    "\n",
    "V_LPM_reference = 10 # Volume flow rate; in Liters per minute taken as reference\n",
    "\n",
    "V_LPS_reference = V_LPM_reference / 60 # Volume flow rate; in Liters per second taken as reference\n",
    "\n",
    "T_sample_batch = 10 # Time; in seconds, taken to get volume from volume flow rate\n",
    "\n",
    "V_sample_batch = V_LPS_reference * T_batch # Volume; in liters, of a sampling batch taken\n",
    "\n",
    "V_ratio = V_sample_batch / V_STP \n",
    "\n",
    "n = N_A * V_ratio # number of molecules in the gas\n",
    "\n",
    "natomes = 2 # Number of atoms in a molecule, 2 for hydrogen\n",
    "\n",
    "n = n * natoms # The number of particles involved in the sampling\n",
    "\n",
    "This procedure gives number of particles in the order of 10^23 which is just too large for simulation.\n",
    "So instead we only use 100 particles for now."
   ]
  },
  {
   "cell_type": "code",
   "execution_count": null,
   "id": "a44a0369",
   "metadata": {},
   "outputs": [],
   "source": [
    "#Define needed parameters\n",
    "n = 100\n",
    "\n",
    "#Position parameters\n",
    "r = \n",
    "\n",
    "r_strategy = 'sample_same_given_position(r=, n=100)'\n",
    "r_details = 'H_atom'\n",
    "#Velocity parameters\n",
    "v_median = \n",
    "\n",
    "K = constants.constants['K'][0] # Boltzmann constant\n",
    "amu = constants.constants['amu'][0] # Atomic mass unit in kg\n",
    "\n",
    "T = #Plasma temperature\n",
    "\n",
    "m_amu = constants.constants['m_H'][0] # The relative atomic mass of hydrogen atom in amu\n",
    "m_kg = m_amu * amu # The mass of Hydrogen atom in kg\n",
    "\n",
    "v_strategy = 'sample_Maxwellian_velocity_all_random_direction(v_median=, K=, T=, m=, n=100)'\n",
    "v_details = 'H_atom'"
   ]
  },
  {
   "cell_type": "code",
   "execution_count": 5,
   "id": "c35651e0",
   "metadata": {},
   "outputs": [
    {
     "data": {
      "text/plain": [
       "\"\\npositions = sample_same_given_position(r, n)\\n\\nwrite_to_csv_file(velocities, 'r', 'sample_same_given_position', n, details = '')\\n\\nvelocities = sample.sample_Maxwellian_velocity_all_random_direction(v_median, K, T, m, n)\\n\\nwrite_to_csv_file(velocities, 'v', 'sample_Maxwellian_velocity_all_random_direction', n, details = '')\\n\""
      ]
     },
     "execution_count": 5,
     "metadata": {},
     "output_type": "execute_result"
    }
   ],
   "source": [
    "#Sample positions and velocities and write to file.\n",
    "'''\n",
    "positions = sample_same_given_position(r, n)\n",
    "\n",
    "write_to_csv_file(positions, 'r', 'sample_same_given_position', n, r_details = '')\n",
    "\n",
    "velocities = sample.sample_Maxwellian_velocity_all_random_direction(v_median, K, T, m, n)\n",
    "\n",
    "write_to_csv_file(velocities, 'v', 'sample_Maxwellian_velocity_all_random_direction(v_median, K, T, m, n)', \\\n",
    "n, v_details = '')\n",
    "'''"
   ]
  },
  {
   "cell_type": "code",
   "execution_count": null,
   "id": "3f50f481",
   "metadata": {},
   "outputs": [],
   "source": []
  }
 ],
 "metadata": {
  "kernelspec": {
   "display_name": "Python 3 (ipykernel)",
   "language": "python",
   "name": "python3"
  },
  "language_info": {
   "codemirror_mode": {
    "name": "ipython",
    "version": 3
   },
   "file_extension": ".py",
   "mimetype": "text/x-python",
   "name": "python",
   "nbconvert_exporter": "python",
   "pygments_lexer": "ipython3",
   "version": "3.9.9"
  }
 },
 "nbformat": 4,
 "nbformat_minor": 5
}
