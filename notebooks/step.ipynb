{
 "cells": [
  {
   "cell_type": "markdown",
   "id": "dc205f7d",
   "metadata": {},
   "source": [
    "This file instantiates objects of the class Particle in the particle.ipynb file, using initial velocities and initial positions generated in the sampling.ipynb file.\n",
    "\n",
    "Author: 18BME2104 Kaushal"
   ]
  },
  {
   "cell_type": "code",
   "execution_count": 4,
   "id": "1c85b355",
   "metadata": {},
   "outputs": [
    {
     "name": "stdout",
     "output_type": "stream",
     "text": [
      "importing Jupyter notebook from particle.ipynb\n",
      "Particle describes a particle in the plasma         \n",
      " A particle has:         \n",
      " mass: m         \n",
      " charge: q         \n",
      " position: r = [x, y, z]         \n",
      " velocity: v = [v_x, v_y, v_z]         \n",
      " acceleration: a = [a_x, a_y, a_z]         \n",
      "importing Jupyter notebook from field.ipynb\n"
     ]
    }
   ],
   "source": [
    "from inspect import getmembers, isfunction, isclass # To inspect imported modules\n",
    "from IPython.display import display, Math, Latex, clear_output # To use latex typesetting style\n",
    "\n",
    "import numpy as np # For computations\n",
    "import sympy as sm # For symbolic use\n",
    "\n",
    "import pandas as pd # To use large tables\n",
    "import matplotlib.pyplot as plt #To make plots\n",
    "import csv # To read csv file of position and velocities required to initialize particles\n",
    "import import_ipynb\n",
    "import particle\n",
    "import field"
   ]
  },
  {
   "cell_type": "code",
   "execution_count": null,
   "id": "ca673862",
   "metadata": {},
   "outputs": [],
   "source": [
    "# Probably good idea to make plots, write to csv and other things in another notebook. Let's see."
   ]
  },
  {
   "cell_type": "code",
   "execution_count": 14,
   "id": "f894b3ce",
   "metadata": {},
   "outputs": [],
   "source": [
    "class Step:\n",
    "    def __init__(self, file_with_filenames = \\\n",
    "                 '/home/kushik/Kushik/VIT/Eighth semester/MagneticMirror/csvfiles/available files.csv'):\n",
    "        self.file_with_filenames = file_with_filenames\n",
    "        self.filenames, self.r_filenames, self.v_filenames = self.read_available_filenames(self.file_with_filenames)\n",
    "        '''self.filenames would then be a list of availble files to read from\n",
    "           self.r_filenames would be the list of available files with position written on them\n",
    "           self.v_filenames would be the list of available files with velocities written on them'''\n",
    "        self.particles = []\n",
    "        \n",
    "    def __string__(self):\n",
    "        pass\n",
    "        \n",
    "    def docstring(self):\n",
    "        pass\n",
    "        # print (something)\n",
    "            \n",
    "    ### FILE READING SECTION\n",
    "        \n",
    "    def read_available_filenames(self):\n",
    "        rows = []\n",
    "        filenames = []\n",
    "        r_filenames = []\n",
    "        v_filenames = []\n",
    "        with open(self.file_with_filenames, 'r') as csvfile:\n",
    "            # creating a csv reader object\n",
    "            csvreader = csv.reader(csvfile)\n",
    "\n",
    "            # extracting field names through first row\n",
    "            #fields = next(csvreader)\n",
    "\n",
    "            # extracting each data row one by one\n",
    "            for row in csvreader:\n",
    "                rows.append(row)\n",
    "        for row in rows:\n",
    "            empty = ''\n",
    "            for char in row:\n",
    "                empty += char\n",
    "            filenames.append(empty)\n",
    "        for filename in filenames:\n",
    "            r_or_v = filename.split()[1]\n",
    "            if r_or_v == 'r':\n",
    "                r_filenames.append(filename)\n",
    "            else:\n",
    "                if r_or_v == 'v':\n",
    "                    v_filenames.append(filename)\n",
    "                else:\n",
    "                    raise Exception('There might be some error in filename or how filename is processed in \\\n",
    "                    file reading functions')\n",
    "    \n",
    "        return filenames, r_filenames, v_filenames\n",
    "    \n",
    "    def print_available_files(self):\n",
    "        print(self.filenames)\n",
    "    \n",
    "    def print_available_r_files(self):\n",
    "        print(self.r_filenames)\n",
    "        \n",
    "    def print_available_v_filenames(self):\n",
    "        print(self.v_filenames)       \n",
    "    \n",
    "    def read_r_or_v_file(self, index):\n",
    "        '''\n",
    "        index is the index on the self.filenames list of which the corresponding file is to be read.\n",
    "        '''\n",
    "        rows = []\n",
    "        with open(self.filenames[index], 'r') as csvfile:\n",
    "            csvreader = csv.reader(csvfile)\n",
    "\n",
    "            for row in csvreader:\n",
    "                rows.append(row)\n",
    "        return row\n",
    "    \n",
    "    def read_r_file(self, index):\n",
    "        '''\n",
    "        index is the index on the self.r_filenames list of which the corresponding file is to be read.\n",
    "        '''\n",
    "        rows = []\n",
    "        with open(self.r_filenames[index], 'r') as csvfile:\n",
    "            csvreader = csv.reader(csvfile)\n",
    "\n",
    "            for row in csvreader:\n",
    "                rows.append(row)\n",
    "        return row\n",
    "    \n",
    "    def read_v_file(self, index):\n",
    "        '''\n",
    "        index is the index on the self.v_filenames list of which the corresponding file is to be read.\n",
    "        '''\n",
    "        rows = []\n",
    "        with open(self.filenames[index], 'r') as csvfile:\n",
    "            csvreader = csv.reader(csvfile)\n",
    "\n",
    "            for row in csvreader:\n",
    "                rows.append(row)\n",
    "        return row\n",
    "    \n",
    "    def reshaper(self, array_from_file):\n",
    "        three_n = len(array_from_file)\n",
    "        n = int(three_n / 3)\n",
    "        reshaped_array = np.array(array_from_file).reshape((n, 3))\n",
    "        return reshaped_array\n",
    "        \n",
    "    def read_r_or_v_file_and_reshape(self):\n",
    "        array_from_file = self.read_r_or_v_file(index)\n",
    "        reshaped_array = self.reshaper(array_from_file)\n",
    "        return reshaped_array\n",
    "        \n",
    "    def read_r_file_and_reshape(self):\n",
    "        array_from_file = self.read_r_file(index)\n",
    "        reshaped_array = self.reshaper(array_from_file)\n",
    "        return reshaped_array\n",
    "    \n",
    "    def read_v_file_and_reshape(self):\n",
    "        array_from_file = self.read_v_file(index)\n",
    "        reshaped_array = self.reshaper(array_from_file)\n",
    "        return reshaped_array\n",
    "    \n",
    "    ### PARTICELS INTIALIZATION SECTION\n",
    "    def initialize_particles(self, names, q_s, m_s, r_0_s, v_0_s, a_0_s, n):\n",
    "        '''\n",
    "        names, q_s, m_s, r_0_s, v_0_s, a_0_s are arrays of name, q, m, r_0, v_0, a_0\n",
    "        respectively for each particle arranged such that for all of these arrays\n",
    "        the i_th index represents q, m, r_0, v_0, a_0 of the i_th particle\n",
    "        n: number of particles initialized, or the length of each of these arrays which is the same\n",
    "        '''\n",
    "        \n",
    "        for i in range(n):\n",
    "            self.particles.append(Particle(names[i], q_s[i], m_s[i], r_0_s[i], v_0_s[i], a_0_s[i] ))\n",
    "        ### Might need to adjust for a_0_s[i]\n",
    "    \n",
    "    ### FIELDS INITIALIZATION SECTION\n",
    "    def initialize_fields(self):\n",
    "        self.fields = Field()\n",
    "    \n",
    "    ### TIME STEP SECTION\n",
    "    def update_particles(self, dt, argsE, argsB):\n",
    "        for particle in self.particles:\n",
    "            particle.update(self.fields, dt, argsE, argsB)\n",
    "    "
   ]
  },
  {
   "cell_type": "code",
   "execution_count": null,
   "id": "394ff961",
   "metadata": {},
   "outputs": [],
   "source": [
    "#create many particles\n",
    "# by sampling different positions and velocities using various distribution functions\n",
    "#Loop\n",
    "    #get fields at their position\n",
    "    #move the particles\n",
    "    \n",
    "                ''''THIS IN run.ipynb\n",
    "                '''#create new set of particles after some time, to model flow of particles/ionized gas \n",
    "                #in a magnetron sputtering chamber\n",
    "\n",
    "                #For old particles that move out of the trap bounds (position exceeding some limits), or \n",
    "                #modelingf particles being absorbed in the sputtered coating\n",
    "                #with an associated probability of absorption\n",
    "                #just delete those particles from the collection\n",
    "                #(but can be saved in csv files, so that they can stay recorded to be reused later)"
   ]
  },
  {
   "cell_type": "code",
   "execution_count": 1,
   "id": "74460332",
   "metadata": {},
   "outputs": [
    {
     "name": "stdout",
     "output_type": "stream",
     "text": [
      "[1, 2, 3]\n"
     ]
    }
   ],
   "source": [
    "print([1,2,3])"
   ]
  },
  {
   "cell_type": "code",
   "execution_count": 1,
   "id": "a341d7fe",
   "metadata": {},
   "outputs": [
    {
     "data": {
      "text/plain": [
       "'g'"
      ]
     },
     "execution_count": 1,
     "metadata": {},
     "output_type": "execute_result"
    }
   ],
   "source": [
    "gabs = 'gabs'\n",
    "gabs[0]"
   ]
  },
  {
   "cell_type": "code",
   "execution_count": 12,
   "id": "c46d6e2c",
   "metadata": {},
   "outputs": [],
   "source": [
    "class Gabs:\n",
    "    def __init__(self):\n",
    "        self.habs = 2\n",
    "    def laps(self):\n",
    "        self.ll = 3"
   ]
  },
  {
   "cell_type": "code",
   "execution_count": 13,
   "id": "77d5d4b3",
   "metadata": {},
   "outputs": [
    {
     "data": {
      "text/plain": [
       "3"
      ]
     },
     "execution_count": 13,
     "metadata": {},
     "output_type": "execute_result"
    }
   ],
   "source": [
    "gabs = Gabs()\n",
    "gabs.laps()\n",
    "gabs.ll"
   ]
  },
  {
   "cell_type": "code",
   "execution_count": null,
   "id": "00cc8860",
   "metadata": {},
   "outputs": [],
   "source": []
  }
 ],
 "metadata": {
  "kernelspec": {
   "display_name": "Python 3 (ipykernel)",
   "language": "python",
   "name": "python3"
  },
  "language_info": {
   "codemirror_mode": {
    "name": "ipython",
    "version": 3
   },
   "file_extension": ".py",
   "mimetype": "text/x-python",
   "name": "python",
   "nbconvert_exporter": "python",
   "pygments_lexer": "ipython3",
   "version": "3.9.9"
  }
 },
 "nbformat": 4,
 "nbformat_minor": 5
}
