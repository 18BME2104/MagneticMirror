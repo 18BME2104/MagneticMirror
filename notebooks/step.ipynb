{
 "cells": [
  {
   "cell_type": "markdown",
   "id": "dc205f7d",
   "metadata": {},
   "source": [
    "This file instantiates objects of the class Particle in the particle.ipynb file, using initial velocities and initial positions generated in the sampling.ipynb file.\n",
    "\n",
    "Author: 18BME2104 Kaushal"
   ]
  },
  {
   "cell_type": "code",
   "execution_count": 1,
   "id": "1c85b355",
   "metadata": {},
   "outputs": [],
   "source": [
    "from inspect import getmembers, isfunction, isclass # To inspect imported modules\n",
    "from IPython.display import display, Math, Latex, clear_output # To use latex typesetting style\n",
    "\n",
    "import numpy as np # For computations\n",
    "import sympy as sm # For symbolic use\n",
    "\n",
    "import pandas as pd # To use large tables\n",
    "import matplotlib.pyplot as plt #To make plots\n",
    "import csv # To read csv file of position and velocities required to initialize particles"
   ]
  },
  {
   "cell_type": "code",
   "execution_count": null,
   "id": "ca673862",
   "metadata": {},
   "outputs": [],
   "source": [
    "# Probably good idea to make plots, write to csv and other things in another notebook. Let's see."
   ]
  },
  {
   "cell_type": "code",
   "execution_count": 3,
   "id": "f894b3ce",
   "metadata": {},
   "outputs": [],
   "source": [
    "class Interaction:\n",
    "    def __init__(self, particles, fields):\n",
    "        self.particles = particles\n",
    "        self.fields = fields\n",
    "        \n",
    "        # particle.update(field)\n",
    "        \n",
    "    def __string__(self):\n",
    "        pass\n",
    "        \n",
    "    def docstring(self):\n",
    "            pass\n",
    "            # print (something)\n",
    "        \n",
    "    def lorentz(self):\n",
    "        E, B, v = sm.symbols('E B v')\n",
    "        force = E + sm.physics.cross(v,B)\n",
    "        return force\n",
    "    "
   ]
  },
  {
   "cell_type": "code",
   "execution_count": null,
   "id": "394ff961",
   "metadata": {},
   "outputs": [],
   "source": [
    "#create many particles\n",
    "# by sampling different positions and velocities using various distribution functions\n",
    "#Loop\n",
    "    #get fields at their position\n",
    "    #move the particles\n",
    "    \n",
    "#create new set of particles after some time, to model flow of particles/ionized gas \n",
    "#in a magnetron sputtering chamber\n",
    "\n",
    "#For old particles that move out of the trap bounds (position exceeding some limits), or \n",
    "#modelingf particles being absorbed in the sputtered coating\n",
    "#with an associated probability of absorption\n",
    "#just delete those particles from the collection\n",
    "#(but can be saved in csv files, so that they can stay recorded to be reused later)"
   ]
  },
  {
   "cell_type": "code",
   "execution_count": null,
   "id": "74460332",
   "metadata": {},
   "outputs": [],
   "source": []
  }
 ],
 "metadata": {
  "kernelspec": {
   "display_name": "Python 3 (ipykernel)",
   "language": "python",
   "name": "python3"
  },
  "language_info": {
   "codemirror_mode": {
    "name": "ipython",
    "version": 3
   },
   "file_extension": ".py",
   "mimetype": "text/x-python",
   "name": "python",
   "nbconvert_exporter": "python",
   "pygments_lexer": "ipython3",
   "version": "3.9.9"
  }
 },
 "nbformat": 4,
 "nbformat_minor": 5
}
