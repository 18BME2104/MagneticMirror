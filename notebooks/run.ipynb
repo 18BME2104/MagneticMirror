{
 "cells": [
  {
   "cell_type": "code",
   "execution_count": 1,
   "id": "9c4ec53e",
   "metadata": {},
   "outputs": [],
   "source": [
    "from inspect import getmembers, isfunction, isclass # To inspect imported modules\n",
    "from IPython.display import display, Math, Latex, clear_output # To use latex typesetting style\n",
    "\n",
    "import numpy as np # For computations\n",
    "import sympy as sm # For symbolic use\n",
    "\n",
    "import pandas as pd # To use large tables\n",
    "import matplotlib.pyplot as plt #To make plots\n",
    "import csv # To read csv file of position and velocities required to initialize particles\n",
    "#import import_ipynb"
   ]
  },
  {
   "cell_type": "code",
   "execution_count": null,
   "id": "8677fdbb",
   "metadata": {},
   "outputs": [],
   "source": [
    "class Run:\n",
    "    def __init__(self):\n",
    "        pass\n",
    "        \n",
    "    def __string__(self):\n",
    "        pass\n",
    "        \n",
    "    def docstring(self):\n",
    "        pass\n",
    "        # print (something)\n",
    "        \n",
    "    ### MIGHT be a good idea to create plot functions here,\n",
    "    ### when the simulation is running, update plots?\n",
    "    ### OR write to file and plot in plot.ipynb\n",
    "        \n",
    "    def create_particles(self):\n",
    "        pass\n",
    "    \n",
    "    def update_particles(self):\n",
    "        pass\n",
    "    \n",
    "    def remove_particles(self):\n",
    "        # This might include particles moving outside the chamber (the Electric and Magnetic fields or\n",
    "        # simply positions of interest) or particles being absorbed for example in a coating process\n",
    "        pass\n",
    "    \n",
    "    def create_fields(self):\n",
    "        pass\n",
    "    \n",
    "    def change_fields(self):\n",
    "        pass\n",
    "    \n",
    "    "
   ]
  }
 ],
 "metadata": {
  "kernelspec": {
   "display_name": "Python 3 (ipykernel)",
   "language": "python",
   "name": "python3"
  },
  "language_info": {
   "codemirror_mode": {
    "name": "ipython",
    "version": 3
   },
   "file_extension": ".py",
   "mimetype": "text/x-python",
   "name": "python",
   "nbconvert_exporter": "python",
   "pygments_lexer": "ipython3",
   "version": "3.9.9"
  }
 },
 "nbformat": 4,
 "nbformat_minor": 5
}
