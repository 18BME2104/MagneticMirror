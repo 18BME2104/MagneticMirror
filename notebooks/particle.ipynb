{
 "cells": [
  {
   "cell_type": "markdown",
   "id": "c06ab093",
   "metadata": {},
   "source": [
    "\n",
    "This file describes a Particle in the plasma, whose motion is affected by the externally applied Magnetic and Electric fields.\n",
    "\n",
    "Author: 18BME2104 Kaushal"
   ]
  },
  {
   "cell_type": "code",
   "execution_count": 1,
   "id": "d6882f40",
   "metadata": {},
   "outputs": [],
   "source": [
    "from inspect import getmembers, isfunction, isclass # To inspect imported modules\n",
    "from IPython.display import display, Math, Latex, clear_output # To use latex typesetting style\n",
    "\n",
    "import numpy as np # For computations\n",
    "import sympy as sm # For symbolic use\n",
    "\n",
    "import pandas as pd # To use large tables\n",
    "import matplotlib.pyplot as plt #To make plots"
   ]
  },
  {
   "cell_type": "code",
   "execution_count": 2,
   "id": "6ddf3fa6",
   "metadata": {},
   "outputs": [
    {
     "data": {
      "text/plain": [
       "'!pip install import-ipynb\\nimport import_ipynb # To import other notebooks\\n\\n# Now importing other notebooks\\nimport constants\\nclear_output()'"
      ]
     },
     "execution_count": 2,
     "metadata": {},
     "output_type": "execute_result"
    }
   ],
   "source": [
    "'''!pip install import-ipynb\n",
    "import import_ipynb # To import other notebooks\n",
    "\n",
    "# Now importing other notebooks\n",
    "import constants\n",
    "clear_output()'''"
   ]
  },
  {
   "cell_type": "code",
   "execution_count": 3,
   "id": "fe4302e4",
   "metadata": {},
   "outputs": [],
   "source": [
    "class Particle:\n",
    "    def __init__(self, name, q, m, r_0, v_0, a_0):\n",
    "        '''\n",
    "        particle properties\n",
    "        '''\n",
    "        \n",
    "        'description:: Type'\n",
    "        self.name = name\n",
    "        'name:: String'\n",
    "        self.q = q\n",
    "        'charge:: Number'\n",
    "        self.m = m\n",
    "        'mass:: Number'\n",
    "        self.r = r_0\n",
    "        'position:: [x:: Number, y:: Number, z:: Number]'\n",
    "        self.v = v_0\n",
    "        'velocity:: [v_x:: Number, v_y:: Number, v_z:: Number]'\n",
    "        self.a = a_0\n",
    "        'acceleration:: [a_x:: Number, a_y:: Numberm a_z:: Number]'\n",
    "        \n",
    "    def __str__(self):\n",
    "        return f'{self.name} \\n mass:{self.m} charge:{self.q} \\\n",
    "        \\n position: ({self.r[0]}, {self.r[1]}, {self.r[2]}) \\\n",
    "        \\n velocity: ({self.v[0]}, {self.v[1]}, {self.v[2]}) \\\n",
    "        \\n acceleration: ({self.a[0]}, {self.a[1]}, {self.a[2]})'\n",
    "    \n",
    "    def docstring(self):\n",
    "        print( \"Particle describes a particle in the plasma \\\n",
    "        \\n A particle has: \\\n",
    "        \\n mass: m \\\n",
    "        \\n charge: q \\\n",
    "        \\n position: r = [x,y,z] \\\n",
    "        \\n velocity: v = [v_x, v_y, v_z] \\\n",
    "        \\n acceleration: a = [a_x, a_y, a_z] \\\n",
    "        \")\n",
    "    \n",
    "    def update_acceleration(self, da):\n",
    "        self.a = da\n",
    "    \n",
    "    def update_velocity(self, dv):\n",
    "        pass\n",
    "        # self.v = integrate acceleration\n",
    "        # for each component of velocity\n",
    "        \n",
    "    def update_position(self, dr):\n",
    "        pass\n",
    "        # self.r = integrate veclocity\n",
    "        # for each component of position\n",
    "        \n",
    "    def update(self, field):\n",
    "        pass\n",
    "    \n",
    "    def Boris_update(self, afield, dt):\n",
    "        q_prime = (self.charge / self.mass) * (dt / 2)\n",
    "        \n",
    "        E = field.get_E_field(self.r)\n",
    "        B = field.get_B_field(self.r)\n",
    "        \n",
    "        v_minus = self.v + q_prime * E\n",
    "        v_plus = v_minus + q_prime * 2 * np.cross(v_minus, B)\n",
    "        v_new = v_plus + q_prime * E\n",
    "        \n",
    "        self.v = v_new\n",
    "        \n",
    "        '''\n",
    "        could have also done:\n",
    "        self.v += (2 * q_prime * E) + (2 * q_prime * np.cross( (self.v + q_prime * E), B))\n",
    "        '''\n",
    "        \n",
    "        self.r += v_new * dt\n",
    "        "
   ]
  },
  {
   "cell_type": "code",
   "execution_count": 4,
   "id": "10d2c42f",
   "metadata": {},
   "outputs": [
    {
     "name": "stdout",
     "output_type": "stream",
     "text": [
      "Particle describes a particle in the plasma         \n",
      " A particle has:         \n",
      " mass: m         \n",
      " charge: q         \n",
      " position: r = [x,y,z]         \n",
      " velocity: v = [v_x, v_y, v_z]         \n",
      " acceleration: a = [a_x, a_y, a_z]         \n"
     ]
    }
   ],
   "source": [
    "particle = Particle('a', 0, 0, [0,0,0], [0,0,0], [0,0,0])\n",
    "particle.docstring()"
   ]
  },
  {
   "cell_type": "code",
   "execution_count": null,
   "id": "89892680",
   "metadata": {},
   "outputs": [],
   "source": []
  },
  {
   "cell_type": "code",
   "execution_count": null,
   "id": "7cd49aa5",
   "metadata": {},
   "outputs": [],
   "source": []
  }
 ],
 "metadata": {
  "kernelspec": {
   "display_name": "Python 3 (ipykernel)",
   "language": "python",
   "name": "python3"
  },
  "language_info": {
   "codemirror_mode": {
    "name": "ipython",
    "version": 3
   },
   "file_extension": ".py",
   "mimetype": "text/x-python",
   "name": "python",
   "nbconvert_exporter": "python",
   "pygments_lexer": "ipython3",
   "version": "3.9.7"
  }
 },
 "nbformat": 4,
 "nbformat_minor": 5
}
