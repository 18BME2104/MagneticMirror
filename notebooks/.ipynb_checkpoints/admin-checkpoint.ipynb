{
 "cells": [
  {
   "cell_type": "code",
   "execution_count": 63,
   "id": "aef8d632",
   "metadata": {},
   "outputs": [],
   "source": [
    "import numpy as np\n",
    "import matplotlib.pyplot as plt\n",
    "from IPython.display import display, Math, Latex"
   ]
  },
  {
   "cell_type": "code",
   "execution_count": 42,
   "id": "7cb3cc90",
   "metadata": {},
   "outputs": [],
   "source": [
    "constants = { \n",
    "            #'symbol': ['unit', 'value', '10 ^ power', 'number of digits', 'description'],\n",
    "            'e' : ['C', 1.602176634, -19, 10, 'The charge of an electron, or the elementary charge'],\n",
    "            'm_e': ['kg', 9.109383701, -31, 10, 'The mass of an electron'],\n",
    "            'amu': ['kg', 1.6605390666, -27, 11, 'The unified atomic mass unit or Dalton'],\n",
    "            'N_A': ['mol', 6.02214076, 23, 9, 'Avogadro\\'s number']\n",
    "                    }\n",
    "def show_constant(symbol):\n",
    "    if symbol in constants.keys():\n",
    "        (print(f'{symbol} = {constants[symbol][1]} x 10^({constants[symbol][2]}) {constants[symbol][0]} \\\n",
    "               \\n {constants[symbol][3]} significant figures \\\n",
    "               \\n {constants[symbol][4]}'))\n",
    "    else:\n",
    "        print('Constant not in record or symbol mismatch.')\n"
   ]
  },
  {
   "cell_type": "code",
   "execution_count": 43,
   "id": "4a7b76e7",
   "metadata": {},
   "outputs": [
    {
     "name": "stdout",
     "output_type": "stream",
     "text": [
      "m_e = 9.109383701 x 10^(-31) kg                \n",
      " 10 significant figures                \n",
      " The mass of an electron\n"
     ]
    }
   ],
   "source": [
    "show_constant('m_e')"
   ]
  },
  {
   "cell_type": "code",
   "execution_count": 3,
   "id": "3b559423",
   "metadata": {},
   "outputs": [],
   "source": [
    "class Particle:\n",
    "    def __init__(self, name, q, m, r_0, v_0, a_0):\n",
    "        '''\n",
    "        particle properties\n",
    "        '''\n",
    "        \n",
    "        'description:: Type'\n",
    "        self.name = name\n",
    "        'name:: String'\n",
    "        self.q = q\n",
    "        'charge:: Number'\n",
    "        self.m = m\n",
    "        'mass:: Number'\n",
    "        self.r = r_0\n",
    "        'position:: [x:: Number, y:: Number, z:: Number]'\n",
    "        self.v = v_0\n",
    "        'velocity:: [v_x:: Number, v_y:: Number, v_z:: Number]'\n",
    "        self.a = a_0\n",
    "        'acceleration:: [a_x:: Number, a_y:: Numberm a_z:: Number]'\n",
    "        \n",
    "    def __str__(self):\n",
    "        return f'{self.name} \\n mass:{self.m} charge:{self.q} \\\n",
    "        \\n position: ({self.r[0]}, {self.r[1]}, {self.r[2]}) \\\n",
    "        \\n velocity: ({self.v[0]}, {self.v[1]}, {self.v[2]}) \\\n",
    "        \\n acceleration: ({self.a[0]}, {self.a[1]}, {self.a[2]})'\n",
    "    \n",
    "    def update_acceleration(self, da):\n",
    "        self.a = da\n",
    "    \n",
    "    def update_velocity(self, dv):\n",
    "        pass\n",
    "        # self.v = integrate acceleration\n",
    "        # for each component of velocity\n",
    "        \n",
    "    def update_position(self, dr):\n",
    "        pass\n",
    "        # self.r = integrate veclocity\n",
    "        # for each component of position\n",
    "        \n",
    "    def update(self, field):\n",
    "        pass"
   ]
  },
  {
   "cell_type": "code",
   "execution_count": 56,
   "id": "78af9380",
   "metadata": {},
   "outputs": [
    {
     "name": "stdout",
     "output_type": "stream",
     "text": [
      "a \n",
      " mass:0 charge:0         \n",
      " position: (0, 0, 0)         \n",
      " velocity: (0, 0, 0)         \n",
      " acceleration: (0, 0, 0)\n"
     ]
    }
   ],
   "source": [
    "particle = Particle('a', 0, 0, [0,0,0], [0,0,0], [0,0,0])\n",
    "print(particle)"
   ]
  },
  {
   "cell_type": "code",
   "execution_count": 4,
   "id": "c7863501",
   "metadata": {},
   "outputs": [],
   "source": [
    "class Field:\n",
    "    def __init__(self, field_0):\n",
    "        '''\n",
    "        Electric and Magnetic field stregths\n",
    "        '''\n",
    "        \n",
    "        'description:: Type'\n",
    "        self.field = field_0\n",
    "        '{(x:: Number,y:: Number,z:: Number): (E_x:: Number, E_y:: Number, B_z:: Number] , \\\n",
    "        ([B_x:: Number, B_y:: Number, B_z:: Number])}'\n",
    "        \n",
    "        def __str__(self):\n",
    "            pass\n",
    "        \n",
    "        def update(self):\n",
    "            pass"
   ]
  },
  {
   "cell_type": "code",
   "execution_count": 5,
   "id": "bcb6b370",
   "metadata": {},
   "outputs": [],
   "source": [
    "class Interaction:\n",
    "    def __init__(particles, fields):\n",
    "        self.particles = particles\n",
    "        self.fields = fields\n",
    "        \n",
    "        # particle.update(field)"
   ]
  },
  {
   "cell_type": "code",
   "execution_count": null,
   "id": "a2ddf350",
   "metadata": {},
   "outputs": [],
   "source": []
  },
  {
   "cell_type": "code",
   "execution_count": null,
   "id": "65fcf79f",
   "metadata": {},
   "outputs": [],
   "source": []
  },
  {
   "cell_type": "code",
   "execution_count": 64,
   "id": "ac83f81f",
   "metadata": {},
   "outputs": [
    {
     "data": {
      "text/latex": [
       "$\\displaystyle F(k) = \\int_{-\\infty}^{\\infty} f(x) e^{2\\pi i k} dx$"
      ],
      "text/plain": [
       "<IPython.core.display.Math object>"
      ]
     },
     "metadata": {},
     "output_type": "display_data"
    }
   ],
   "source": [
    "display(Math(r'F(k) = \\int_{-\\infty}^{\\infty} f(x) e^{2\\pi i k} dx'))"
   ]
  },
  {
   "cell_type": "code",
   "execution_count": 65,
   "id": "0a63b418",
   "metadata": {},
   "outputs": [
    {
     "data": {
      "text/latex": [
       "\\begin{eqnarray}\n",
       "\\nabla \\times \\vec{\\mathbf{B}} -\\, \\frac1c\\, \\frac{\\partial\\vec{\\mathbf{E}}}{\\partial t} & = \\frac{4\\pi}{c}\\vec{\\mathbf{j}} \\\\\n",
       "\\nabla \\cdot \\vec{\\mathbf{E}} & = 4 \\pi \\rho \\\\\n",
       "\\nabla \\times \\vec{\\mathbf{E}}\\, +\\, \\frac1c\\, \\frac{\\partial\\vec{\\mathbf{B}}}{\\partial t} & = \\vec{\\mathbf{0}} \\\\\n",
       "\\nabla \\cdot \\vec{\\mathbf{B}} & = 0 \n",
       "\\end{eqnarray}"
      ],
      "text/plain": [
       "<IPython.core.display.Latex object>"
      ]
     },
     "execution_count": 65,
     "metadata": {},
     "output_type": "execute_result"
    }
   ],
   "source": [
    "from IPython.display import Latex\n",
    "Latex(r\"\"\"\\begin{eqnarray}\n",
    "\\nabla \\times \\vec{\\mathbf{B}} -\\, \\frac1c\\, \\frac{\\partial\\vec{\\mathbf{E}}}{\\partial t} & = \\frac{4\\pi}{c}\\vec{\\mathbf{j}} \\\\\n",
    "\\nabla \\cdot \\vec{\\mathbf{E}} & = 4 \\pi \\rho \\\\\n",
    "\\nabla \\times \\vec{\\mathbf{E}}\\, +\\, \\frac1c\\, \\frac{\\partial\\vec{\\mathbf{B}}}{\\partial t} & = \\vec{\\mathbf{0}} \\\\\n",
    "\\nabla \\cdot \\vec{\\mathbf{B}} & = 0 \n",
    "\\end{eqnarray}\"\"\")"
   ]
  },
  {
   "cell_type": "code",
   "execution_count": 66,
   "id": "c1fa3d43",
   "metadata": {},
   "outputs": [
    {
     "data": {
      "text/latex": [
       "\\begin{align}\n",
       "\\nabla \\cdot \\vec{\\mathbf{E}} & = 4 \\pi \\rho \\\\\n",
       "\\nabla \\times \\vec{\\mathbf{E}}\\, +\\, \\frac1c\\, \\frac{\\partial\\vec{\\mathbf{B}}}{\\partial t} & = \\vec{\\mathbf{0}} \\\\\n",
       "\\nabla \\cdot \\vec{\\mathbf{B}} & = 0\n",
       "\\end{align}\n"
      ],
      "text/plain": [
       "<IPython.core.display.Latex object>"
      ]
     },
     "metadata": {},
     "output_type": "display_data"
    }
   ],
   "source": [
    "%%latex\n",
    "\\begin{align}\n",
    "\\nabla \\cdot \\vec{\\mathbf{E}} & = 4 \\pi \\rho \\\\\n",
    "\\nabla \\times \\vec{\\mathbf{E}}\\, +\\, \\frac1c\\, \\frac{\\partial\\vec{\\mathbf{B}}}{\\partial t} & = \\vec{\\mathbf{0}} \\\\\n",
    "\\nabla \\cdot \\vec{\\mathbf{B}} & = 0\n",
    "\\end{align}"
   ]
  },
  {
   "cell_type": "markdown",
   "id": "9e19dba5",
   "metadata": {},
   "source": [
    "abc \\begin{equation}\n",
    "H← ​​​60 ​+​ \\frac{​​30(B−R)​​}{Vmax−Vmin}  ​​, if V​max​​ = G\n",
    "\\end{equation}"
   ]
  },
  {
   "cell_type": "code",
   "execution_count": null,
   "id": "584a4650",
   "metadata": {},
   "outputs": [],
   "source": []
  }
 ],
 "metadata": {
  "kernelspec": {
   "display_name": "Python 3 (ipykernel)",
   "language": "python",
   "name": "python3"
  },
  "language_info": {
   "codemirror_mode": {
    "name": "ipython",
    "version": 3
   },
   "file_extension": ".py",
   "mimetype": "text/x-python",
   "name": "python",
   "nbconvert_exporter": "python",
   "pygments_lexer": "ipython3",
   "version": "3.9.7"
  }
 },
 "nbformat": 4,
 "nbformat_minor": 5
}
