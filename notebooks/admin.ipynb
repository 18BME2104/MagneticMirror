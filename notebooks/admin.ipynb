{
 "cells": [
  {
   "cell_type": "markdown",
   "id": "6a85ea54",
   "metadata": {},
   "source": [
    "This file is used to understand things about the used libraries.\n",
    "\n",
    "Author: 18BME2104 Kaushal"
   ]
  },
  {
   "cell_type": "code",
   "execution_count": 5,
   "id": "aef8d632",
   "metadata": {},
   "outputs": [],
   "source": [
    "from inspect import getmembers, isfunction, isclass # To inspect imported modules\n",
    "from IPython.display import display, Math, Latex # To use latex typesetting style\n",
    "\n",
    "import numpy as np # For computations\n",
    "import sympy as sm # For symbolic use\n",
    "\n",
    "import pandas as pd # To use large tables\n",
    "import matplotlib.pyplot as plt #To make plots"
   ]
  },
  {
   "cell_type": "code",
   "execution_count": null,
   "id": "fdbcc6de",
   "metadata": {},
   "outputs": [],
   "source": [
    "pip install import-ipynb \n",
    "import import_ipynb # To import other notebooks\n",
    "\n",
    "# Now importing other notebooks\n",
    "import constants"
   ]
  },
  {
   "cell_type": "code",
   "execution_count": 3,
   "id": "1fed0a24",
   "metadata": {},
   "outputs": [
    {
     "name": "stdout",
     "output_type": "stream",
     "text": [
      "amu = 1.6605390666 x 10^(-27) kg                \n",
      " 11 significant figures                \n",
      " The unified atomic mass unit or Dalton\n"
     ]
    }
   ],
   "source": [
    "constants.show_constant('amu')"
   ]
  },
  {
   "cell_type": "code",
   "execution_count": 26,
   "id": "4a9d78f6",
   "metadata": {},
   "outputs": [
    {
     "name": "stdout",
     "output_type": "stream",
     "text": [
      "['__add__', '__class__', '__class_getitem__', '__contains__', '__delattr__', '__delitem__', '__dir__', '__doc__', '__eq__', '__format__', '__ge__', '__getattribute__', '__getitem__', '__gt__', '__hash__', '__iadd__', '__imul__', '__init__', '__init_subclass__', '__iter__', '__le__', '__len__', '__lt__', '__mul__', '__ne__', '__new__', '__reduce__', '__reduce_ex__', '__repr__', '__reversed__', '__rmul__', '__setattr__', '__setitem__', '__sizeof__', '__str__', '__subclasshook__', 'append', 'clear', 'copy', 'count', 'extend', 'index', 'insert', 'pop', 'remove', 'reverse', 'sort']\n"
     ]
    }
   ],
   "source": [
    "mods = getmembers(sm, isfunction)\n",
    "#for i in range(len(mods)):\n",
    "    #print(f'{mods[i]} \\n')\n",
    "print(dir(mods))"
   ]
  },
  {
   "cell_type": "code",
   "execution_count": 6,
   "id": "21230a5f",
   "metadata": {},
   "outputs": [
    {
     "name": "stdout",
     "output_type": "stream",
     "text": [
      "<class 'sympy.assumptions.assume.AppliedPredicate'>\n",
      "<class 'sympy.assumptions.assume.AssumptionsContext'>\n",
      "<class 'sympy.core.expr.AtomicExpr'>\n",
      "<class 'sympy.sets.sets.Complement'>\n",
      "<class 'sympy.polys.domains.complexfield.ComplexField'>\n",
      "<class 'sympy.sets.fancysets.ComplexRegion'>\n",
      "<class 'sympy.polys.rootoftools.ComplexRootOf'>\n",
      "<class 'sympy.polys.polyerrors.ComputationFailed'>\n",
      "<class 'sympy.geometry.ellipse.Ellipse'>\n",
      "<class 'sympy.core.expr.Expr'>\n",
      "<class 'sympy.polys.domains.expressiondomain.ExpressionDomain'>\n",
      "<class 'sympy.polys.domains.gmpyfinitefield.GMPYFiniteField'>\n",
      "<class 'sympy.polys.domains.pythonfinitefield.PythonFiniteField'>\n",
      "<class 'sympy.polys.polyerrors.HomomorphismFailed'>\n",
      "<class 'sympy.matrices.immutable.ImmutableSparseMatrix'>\n",
      "<class 'sympy.tensor.array.sparse_ndim_array.ImmutableSparseNDimArray'>\n",
      "Implies\n",
      "InverseLaplaceTransform\n",
      "<class 'sympy.polys.polyerrors.IsomorphismFailed'>\n",
      "LaplaceTransform\n",
      "<class 'sympy.matrices.expressions.matexpr.MatrixExpr'>\n",
      "<class 'sympy.matrices.sparse.MutableSparseMatrix'>\n",
      "<class 'sympy.tensor.array.sparse_ndim_array.MutableSparseNDimArray'>\n",
      "<class 'sympy.polys.polyerrors.OperationNotSupported'>\n",
      "<class 'sympy.polys.polyerrors.OptionError'>\n",
      "<class 'sympy.polys.polyoptions.Options'>\n",
      "<class 'sympy.polys.domains.gmpyrationalfield.GMPYRationalField'>\n",
      "<class 'sympy.polys.domains.pythonrationalfield.PythonRationalField'>\n",
      "<class 'sympy.matrices.common.ShapeError'>\n",
      "<class 'sympy.matrices.sparse.MutableSparseMatrix'>\n",
      "<class 'sympy.tensor.array.sparse_ndim_array.SparseNDimArray'>\n",
      "<class 'sympy.core.sympify.SympifyError'>\n",
      "<class 'sympy.matrices.expressions.transpose.Transpose'>\n",
      "<class 'sympy.core.containers.Tuple'>\n",
      "<class 'sympy.core.expr.UnevaluatedExpr'>\n",
      "<class 'sympy.polys.domains.gmpyintegerring.GMPYIntegerRing'>\n",
      "<class 'sympy.polys.domains.pythonintegerring.PythonIntegerRing'>\n",
      "airyaiprime\n",
      "airybiprime\n",
      "appellf1\n",
      "elliptic_e\n",
      "elliptic_f\n",
      "elliptic_k\n",
      "elliptic_pi\n",
      "exp\n",
      "exp_polar\n",
      "expint\n",
      "hyper\n",
      "lerchphi\n",
      "mathieucprime\n",
      "mathieusprime\n",
      "partition\n",
      "periodic_argument\n",
      "polar_lift\n",
      "polygamma\n",
      "polylog\n",
      "<class 'sympy.core.basic.preorder_traversal'>\n",
      "primenu\n",
      "primeomega\n",
      "primepi\n",
      "principal_branch\n",
      "transpose\n",
      "uppergamma\n"
     ]
    }
   ],
   "source": [
    "for name, obj in getmembers(sm):\n",
    "    if isclass(obj):\n",
    "        if ('p' in name):\n",
    "            print(obj)"
   ]
  },
  {
   "cell_type": "code",
   "execution_count": null,
   "id": "65fcf79f",
   "metadata": {},
   "outputs": [],
   "source": []
  },
  {
   "cell_type": "code",
   "execution_count": 64,
   "id": "ac83f81f",
   "metadata": {},
   "outputs": [
    {
     "data": {
      "text/latex": [
       "$\\displaystyle F(k) = \\int_{-\\infty}^{\\infty} f(x) e^{2\\pi i k} dx$"
      ],
      "text/plain": [
       "<IPython.core.display.Math object>"
      ]
     },
     "metadata": {},
     "output_type": "display_data"
    }
   ],
   "source": [
    "display(Math(r'F(k) = \\int_{-\\infty}^{\\infty} f(x) e^{2\\pi i k} dx'))"
   ]
  },
  {
   "cell_type": "code",
   "execution_count": 65,
   "id": "0a63b418",
   "metadata": {},
   "outputs": [
    {
     "data": {
      "text/latex": [
       "\\begin{eqnarray}\n",
       "\\nabla \\times \\vec{\\mathbf{B}} -\\, \\frac1c\\, \\frac{\\partial\\vec{\\mathbf{E}}}{\\partial t} & = \\frac{4\\pi}{c}\\vec{\\mathbf{j}} \\\\\n",
       "\\nabla \\cdot \\vec{\\mathbf{E}} & = 4 \\pi \\rho \\\\\n",
       "\\nabla \\times \\vec{\\mathbf{E}}\\, +\\, \\frac1c\\, \\frac{\\partial\\vec{\\mathbf{B}}}{\\partial t} & = \\vec{\\mathbf{0}} \\\\\n",
       "\\nabla \\cdot \\vec{\\mathbf{B}} & = 0 \n",
       "\\end{eqnarray}"
      ],
      "text/plain": [
       "<IPython.core.display.Latex object>"
      ]
     },
     "execution_count": 65,
     "metadata": {},
     "output_type": "execute_result"
    }
   ],
   "source": [
    "from IPython.display import Latex\n",
    "Latex(r\"\"\"\\begin{eqnarray}\n",
    "\\nabla \\times \\vec{\\mathbf{B}} -\\, \\frac1c\\, \\frac{\\partial\\vec{\\mathbf{E}}}{\\partial t} & = \\frac{4\\pi}{c}\\vec{\\mathbf{j}} \\\\\n",
    "\\nabla \\cdot \\vec{\\mathbf{E}} & = 4 \\pi \\rho \\\\\n",
    "\\nabla \\times \\vec{\\mathbf{E}}\\, +\\, \\frac1c\\, \\frac{\\partial\\vec{\\mathbf{B}}}{\\partial t} & = \\vec{\\mathbf{0}} \\\\\n",
    "\\nabla \\cdot \\vec{\\mathbf{B}} & = 0 \n",
    "\\end{eqnarray}\"\"\")"
   ]
  },
  {
   "cell_type": "code",
   "execution_count": 66,
   "id": "c1fa3d43",
   "metadata": {},
   "outputs": [
    {
     "data": {
      "text/latex": [
       "\\begin{align}\n",
       "\\nabla \\cdot \\vec{\\mathbf{E}} & = 4 \\pi \\rho \\\\\n",
       "\\nabla \\times \\vec{\\mathbf{E}}\\, +\\, \\frac1c\\, \\frac{\\partial\\vec{\\mathbf{B}}}{\\partial t} & = \\vec{\\mathbf{0}} \\\\\n",
       "\\nabla \\cdot \\vec{\\mathbf{B}} & = 0\n",
       "\\end{align}\n"
      ],
      "text/plain": [
       "<IPython.core.display.Latex object>"
      ]
     },
     "metadata": {},
     "output_type": "display_data"
    }
   ],
   "source": [
    "%%latex\n",
    "\\begin{align}\n",
    "\\nabla \\cdot \\vec{\\mathbf{E}} & = 4 \\pi \\rho \\\\\n",
    "\\nabla \\times \\vec{\\mathbf{E}}\\, +\\, \\frac1c\\, \\frac{\\partial\\vec{\\mathbf{B}}}{\\partial t} & = \\vec{\\mathbf{0}} \\\\\n",
    "\\nabla \\cdot \\vec{\\mathbf{B}} & = 0\n",
    "\\end{align}"
   ]
  },
  {
   "cell_type": "markdown",
   "id": "9e19dba5",
   "metadata": {},
   "source": [
    "abc \\begin{equation}\n",
    "H← ​​​60 ​+​ \\frac{​​30(B−R)​​}{Vmax−Vmin}  ​​, if V​max​​ = G\n",
    "\\end{equation}"
   ]
  },
  {
   "cell_type": "code",
   "execution_count": null,
   "id": "584a4650",
   "metadata": {},
   "outputs": [],
   "source": []
  }
 ],
 "metadata": {
  "kernelspec": {
   "display_name": "Python 3 (ipykernel)",
   "language": "python",
   "name": "python3"
  },
  "language_info": {
   "codemirror_mode": {
    "name": "ipython",
    "version": 3
   },
   "file_extension": ".py",
   "mimetype": "text/x-python",
   "name": "python",
   "nbconvert_exporter": "python",
   "pygments_lexer": "ipython3",
   "version": "3.9.7"
  }
 },
 "nbformat": 4,
 "nbformat_minor": 5
}
