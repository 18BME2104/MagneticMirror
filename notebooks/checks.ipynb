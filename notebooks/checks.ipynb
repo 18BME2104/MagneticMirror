{
 "cells": [
  {
   "cell_type": "code",
   "execution_count": 1,
   "id": "27f58a3e",
   "metadata": {},
   "outputs": [
    {
     "name": "stdout",
     "output_type": "stream",
     "text": [
      "importing Jupyter notebook from run.ipynb\n",
      "importing Jupyter notebook from batch.ipynb\n",
      "importing Jupyter notebook from particle.ipynb\n",
      "importing Jupyter notebook from field.ipynb\n",
      "importing Jupyter notebook from constants.ipynb\n"
     ]
    }
   ],
   "source": [
    "import import_ipynb\n",
    "from run import Run\n",
    "from constants import Constants\n",
    "import numpy as np"
   ]
  },
  {
   "cell_type": "code",
   "execution_count": 2,
   "id": "c703275d",
   "metadata": {},
   "outputs": [],
   "source": [
    "constants = Constants()"
   ]
  },
  {
   "cell_type": "markdown",
   "id": "4484932c",
   "metadata": {},
   "source": [
    "### Section 1: Checks\n",
    "\n",
    "Before we can do any studies confidently, we need to know if our program works as we expect it to; or wheather there might be bugs causing some erros. For this we perform a few checks, comparing calculations done by hand against the results of the program.\n",
    "\n",
    "As of now, we can check if the particle sampling and particle update is performed as expected."
   ]
  },
  {
   "cell_type": "code",
   "execution_count": null,
   "id": "665b60bb",
   "metadata": {},
   "outputs": [],
   "source": []
  },
  {
   "cell_type": "markdown",
   "id": "6719aba0",
   "metadata": {},
   "source": [
    "#### 1.1 Sampling\n",
    "\n",
    "So far we have used the Maxwellian distribution for sampling."
   ]
  },
  {
   "cell_type": "markdown",
   "id": "90b1ead0",
   "metadata": {},
   "source": [
    "##### 1.1.1 Maxwellian sampling\n",
    "\n",
    "For a Maxwellian distribution, we can calculate the average speeds of the particles based on the input parameters like the Plasma temperature and the mass of the species (assuming the same types of species for now). Here we get the average speeds of the sampled particles; which we will compare with a manual calculation."
   ]
  },
  {
   "cell_type": "code",
   "execution_count": 3,
   "id": "4819aff2",
   "metadata": {},
   "outputs": [],
   "source": [
    "# c1Maxwell means checking the Maxwellian sampling\n",
    "c1Maxwell = Run()"
   ]
  },
  {
   "cell_type": "code",
   "execution_count": 4,
   "id": "ea335f33",
   "metadata": {},
   "outputs": [],
   "source": [
    "# Create 100 particles based on the data available in the files\n",
    "c1Maxwell.create_batch_with_file_initialization('H+', constants.constants['e'][0],\\\n",
    "                                          constants.constants['m_H'][0] * constants.constants['amu'][0], \\\n",
    "                                          100, 100, 'H ions', r_index=0, v_index=1)"
   ]
  },
  {
   "cell_type": "code",
   "execution_count": 5,
   "id": "1e27595c",
   "metadata": {},
   "outputs": [],
   "source": [
    "# Take the 0th batch of particles\n",
    "c1Maxwell_batch = c1Maxwell.batches[0]['H ions']"
   ]
  },
  {
   "cell_type": "code",
   "execution_count": 6,
   "id": "9359ee7b",
   "metadata": {},
   "outputs": [],
   "source": [
    "# Take the initial positions and velocities of the particles\n",
    "c1Maxwell_positions = []\n",
    "c1Maxwell_velocities = []\n",
    "for particle in c1Maxwell_batch.particles:\n",
    "    c1Maxwell_positions.append(particle.r)\n",
    "    c1Maxwell_velocities.append(particle.v)"
   ]
  },
  {
   "cell_type": "code",
   "execution_count": 7,
   "id": "7267005c",
   "metadata": {},
   "outputs": [
    {
     "data": {
      "text/plain": [
       "[array([-0.5,  0. ,  0. ]),\n",
       " array([-0.5,  0. ,  0. ]),\n",
       " array([-0.5,  0. ,  0. ]),\n",
       " array([-0.5,  0. ,  0. ]),\n",
       " array([-0.5,  0. ,  0. ]),\n",
       " array([-0.5,  0. ,  0. ]),\n",
       " array([-0.5,  0. ,  0. ]),\n",
       " array([-0.5,  0. ,  0. ]),\n",
       " array([-0.5,  0. ,  0. ]),\n",
       " array([-0.5,  0. ,  0. ]),\n",
       " array([-0.5,  0. ,  0. ]),\n",
       " array([-0.5,  0. ,  0. ]),\n",
       " array([-0.5,  0. ,  0. ]),\n",
       " array([-0.5,  0. ,  0. ]),\n",
       " array([-0.5,  0. ,  0. ]),\n",
       " array([-0.5,  0. ,  0. ]),\n",
       " array([-0.5,  0. ,  0. ]),\n",
       " array([-0.5,  0. ,  0. ]),\n",
       " array([-0.5,  0. ,  0. ]),\n",
       " array([-0.5,  0. ,  0. ]),\n",
       " array([-0.5,  0. ,  0. ]),\n",
       " array([-0.5,  0. ,  0. ]),\n",
       " array([-0.5,  0. ,  0. ]),\n",
       " array([-0.5,  0. ,  0. ]),\n",
       " array([-0.5,  0. ,  0. ]),\n",
       " array([-0.5,  0. ,  0. ]),\n",
       " array([-0.5,  0. ,  0. ]),\n",
       " array([-0.5,  0. ,  0. ]),\n",
       " array([-0.5,  0. ,  0. ]),\n",
       " array([-0.5,  0. ,  0. ]),\n",
       " array([-0.5,  0. ,  0. ]),\n",
       " array([-0.5,  0. ,  0. ]),\n",
       " array([-0.5,  0. ,  0. ]),\n",
       " array([-0.5,  0. ,  0. ]),\n",
       " array([-0.5,  0. ,  0. ]),\n",
       " array([-0.5,  0. ,  0. ]),\n",
       " array([-0.5,  0. ,  0. ]),\n",
       " array([-0.5,  0. ,  0. ]),\n",
       " array([-0.5,  0. ,  0. ]),\n",
       " array([-0.5,  0. ,  0. ]),\n",
       " array([-0.5,  0. ,  0. ]),\n",
       " array([-0.5,  0. ,  0. ]),\n",
       " array([-0.5,  0. ,  0. ]),\n",
       " array([-0.5,  0. ,  0. ]),\n",
       " array([-0.5,  0. ,  0. ]),\n",
       " array([-0.5,  0. ,  0. ]),\n",
       " array([-0.5,  0. ,  0. ]),\n",
       " array([-0.5,  0. ,  0. ]),\n",
       " array([-0.5,  0. ,  0. ]),\n",
       " array([-0.5,  0. ,  0. ]),\n",
       " array([-0.5,  0. ,  0. ]),\n",
       " array([-0.5,  0. ,  0. ]),\n",
       " array([-0.5,  0. ,  0. ]),\n",
       " array([-0.5,  0. ,  0. ]),\n",
       " array([-0.5,  0. ,  0. ]),\n",
       " array([-0.5,  0. ,  0. ]),\n",
       " array([-0.5,  0. ,  0. ]),\n",
       " array([-0.5,  0. ,  0. ]),\n",
       " array([-0.5,  0. ,  0. ]),\n",
       " array([-0.5,  0. ,  0. ]),\n",
       " array([-0.5,  0. ,  0. ]),\n",
       " array([-0.5,  0. ,  0. ]),\n",
       " array([-0.5,  0. ,  0. ]),\n",
       " array([-0.5,  0. ,  0. ]),\n",
       " array([-0.5,  0. ,  0. ]),\n",
       " array([-0.5,  0. ,  0. ]),\n",
       " array([-0.5,  0. ,  0. ]),\n",
       " array([-0.5,  0. ,  0. ]),\n",
       " array([-0.5,  0. ,  0. ]),\n",
       " array([-0.5,  0. ,  0. ]),\n",
       " array([-0.5,  0. ,  0. ]),\n",
       " array([-0.5,  0. ,  0. ]),\n",
       " array([-0.5,  0. ,  0. ]),\n",
       " array([-0.5,  0. ,  0. ]),\n",
       " array([-0.5,  0. ,  0. ]),\n",
       " array([-0.5,  0. ,  0. ]),\n",
       " array([-0.5,  0. ,  0. ]),\n",
       " array([-0.5,  0. ,  0. ]),\n",
       " array([-0.5,  0. ,  0. ]),\n",
       " array([-0.5,  0. ,  0. ]),\n",
       " array([-0.5,  0. ,  0. ]),\n",
       " array([-0.5,  0. ,  0. ]),\n",
       " array([-0.5,  0. ,  0. ]),\n",
       " array([-0.5,  0. ,  0. ]),\n",
       " array([-0.5,  0. ,  0. ]),\n",
       " array([-0.5,  0. ,  0. ]),\n",
       " array([-0.5,  0. ,  0. ]),\n",
       " array([-0.5,  0. ,  0. ]),\n",
       " array([-0.5,  0. ,  0. ]),\n",
       " array([-0.5,  0. ,  0. ]),\n",
       " array([-0.5,  0. ,  0. ]),\n",
       " array([-0.5,  0. ,  0. ]),\n",
       " array([-0.5,  0. ,  0. ]),\n",
       " array([-0.5,  0. ,  0. ]),\n",
       " array([-0.5,  0. ,  0. ]),\n",
       " array([-0.5,  0. ,  0. ]),\n",
       " array([-0.5,  0. ,  0. ]),\n",
       " array([-0.5,  0. ,  0. ]),\n",
       " array([-0.5,  0. ,  0. ]),\n",
       " array([-0.5,  0. ,  0. ])]"
      ]
     },
     "execution_count": 7,
     "metadata": {},
     "output_type": "execute_result"
    }
   ],
   "source": [
    "# Let's look at the positions\n",
    "c1Maxwell_positions\n",
    "# They look fine, all particles are supposed to be initialized at [-0.5, 0, 0]\n",
    "# where a cube of sides 1m is assumed as the chamber and is described between coordinates (-0.5, 0.5) for x, y and z coordinates\n"
   ]
  },
  {
   "cell_type": "code",
   "execution_count": 8,
   "id": "aa18db39",
   "metadata": {},
   "outputs": [
    {
     "data": {
      "text/plain": [
       "[array([ 1579.629935, -5723.201089, -2863.641674]),\n",
       " array([  897.689953, -5029.491038, -3292.544752]),\n",
       " array([ 386.944504, 1027.791639,  756.037653]),\n",
       " array([-9204.054924,  9615.130475, -1667.435373]),\n",
       " array([ -3641.215516, -10947.299598,  -3360.247147]),\n",
       " array([-5491.759943, -7127.660213,  2834.606515]),\n",
       " array([16625.53181 ,  7261.248008, 13182.501854]),\n",
       " array([ 3531.057922, -8670.854777,  5576.898277]),\n",
       " array([-6468.761439, -1081.00466 , 17040.23406 ]),\n",
       " array([-6782.695867, -1185.527177,  5481.859317]),\n",
       " array([ 2831.836461,  9814.523398, -4603.758126]),\n",
       " array([ 6601.297764, -5010.938691,  3131.004259]),\n",
       " array([   310.863591,  -1253.75245 , -11537.549212]),\n",
       " array([17607.190221, 10702.738406, 10743.593831]),\n",
       " array([  1841.536055,  -2739.779189, -12083.999033]),\n",
       " array([ 4245.610812, 11143.159359, -4244.35843 ]),\n",
       " array([ 6175.85488 , -5538.932063, -2785.536498]),\n",
       " array([-18786.399666,  -6481.17661 ,   8700.805047]),\n",
       " array([ -2630.875393, -12784.228172,   5763.276336]),\n",
       " array([14103.980493, -5259.190381, 11294.072721]),\n",
       " array([3218.123565, 2083.965365, 3701.724523]),\n",
       " array([  8110.7652  ,   1611.055445, -10797.61461 ]),\n",
       " array([ -5795.493516,  -6048.466929, -16270.769749]),\n",
       " array([ -5497.184733, -12480.106514,   1557.429411]),\n",
       " array([-13982.702604,   4446.07858 ,   8748.309843]),\n",
       " array([ 6562.348371,  2376.507555, 16756.176696]),\n",
       " array([ 1564.595443,  4923.296004, -1502.965034]),\n",
       " array([ 3999.538647,  5265.782508, 20981.06687 ]),\n",
       " array([2167.907498, 4715.441563, -383.229814]),\n",
       " array([-8141.437181,  -707.79037 , 18484.123017]),\n",
       " array([  4328.135274,  -2726.982622, -17110.480553]),\n",
       " array([14064.293936,  1939.197086,  8497.465692]),\n",
       " array([ 15755.484194,   1021.183689, -10923.123019]),\n",
       " array([ -4505.746111, -10715.356198,  -4957.862115]),\n",
       " array([  311.037312, 10372.211689, -7924.10112 ]),\n",
       " array([   194.746288, -16705.966313, -25158.665103]),\n",
       " array([3917.707815, 2788.029633, 3845.298211]),\n",
       " array([-6805.073646,  -114.745473, -2991.933822]),\n",
       " array([-20778.676767,   1204.886391,   1224.16076 ]),\n",
       " array([-1049.374644, 25399.499396,  3260.046569]),\n",
       " array([-1613.853665, 11450.244641,  6833.552532]),\n",
       " array([-4450.714515, 15520.095122, -4093.634965]),\n",
       " array([ -302.040006, -2774.294494,  8039.097495]),\n",
       " array([  837.443914, 19004.422265, -3366.240414]),\n",
       " array([-18089.011037,  -3702.184851,    973.063181]),\n",
       " array([ 1290.989261, -6265.270624, -6101.462157]),\n",
       " array([  627.872857,  7529.794087, -9586.239895]),\n",
       " array([-15877.458159,  -1685.890055,   2469.728849]),\n",
       " array([   401.980725,   4648.362411, -22877.706831]),\n",
       " array([ 13391.765702, -13467.286656,  -5302.578527]),\n",
       " array([  4424.274293,   1718.322218, -10218.543702]),\n",
       " array([-16491.662572,  -1376.577214,   1212.84242 ]),\n",
       " array([ 7398.623459, 12996.316882, -9925.234194]),\n",
       " array([-5142.450136, -4269.804713,  9158.1664  ]),\n",
       " array([ 2574.281443, 12535.307273,  1430.257433]),\n",
       " array([  9149.705078, -16458.827279,   3392.746971]),\n",
       " array([-7809.646458, -9975.384339,  6515.163693]),\n",
       " array([ 3364.849961,  9514.632099, 10146.688711]),\n",
       " array([11034.368466,  2228.723503, 10336.824708]),\n",
       " array([  3592.570787,   9359.729427, -15987.66503 ]),\n",
       " array([-9948.531042,  8687.897191, -1985.537473]),\n",
       " array([-21346.36499 ,    315.575762,  -4095.710895]),\n",
       " array([8745.421099, 1817.124211, -202.137507]),\n",
       " array([-4503.432576,  5444.488763, -4660.01537 ]),\n",
       " array([22320.899741,  -285.109853, 10270.464622]),\n",
       " array([11379.305971,  5524.826899,  3963.333405]),\n",
       " array([-4991.704923, -3821.720667,  2668.679899]),\n",
       " array([-1864.217875, -1091.525555, -5304.013859]),\n",
       " array([-11280.765472,  14952.883947,   6873.951826]),\n",
       " array([  7157.964588,  10566.45093 , -10696.666068]),\n",
       " array([-5803.460516,   174.639384,  7935.079774]),\n",
       " array([-7054.045335,  4371.138014, 14677.551923]),\n",
       " array([6675.742123, 2086.149166, 2812.089298]),\n",
       " array([ 1629.343137, 12814.296519, -1575.882811]),\n",
       " array([  1372.398103,   6908.124601, -11080.46534 ]),\n",
       " array([ 4077.427095,  9806.823708, -2952.864354]),\n",
       " array([20687.74124 , 10234.694055,  4265.535278]),\n",
       " array([-1161.868381, -9148.174165, -5257.7664  ]),\n",
       " array([ -9429.693013,   4349.497355, -17731.864223]),\n",
       " array([ 4360.301531, -2415.241844, -9765.025732]),\n",
       " array([12484.9937  , -5046.17275 ,  2094.336482]),\n",
       " array([  920.001379, -2826.506275, -6130.965348]),\n",
       " array([  7977.635576, -14613.882278,  -7575.019106]),\n",
       " array([ 2208.036015, -9531.481613,  5584.708069]),\n",
       " array([  -92.825592,  4472.404515, -2098.645854]),\n",
       " array([ -2929.734057, -12483.318971,   -383.726147]),\n",
       " array([ 7781.299771,  7546.658659, -7793.261556]),\n",
       " array([ 4995.961777, -9268.285396,  8484.176491]),\n",
       " array([11248.219314,  8449.902291, 10343.354335]),\n",
       " array([ -9901.37255 ,  -1143.945737, -11700.414233]),\n",
       " array([  1499.538688, -10332.224092,   1408.641439]),\n",
       " array([17961.404303, 15944.610445,  3105.683781]),\n",
       " array([17084.296062, -2164.739467, -2088.521291]),\n",
       " array([-11764.890976,  -4225.774814,   7203.046946]),\n",
       " array([ -4983.672944,   2659.037113, -14658.970414]),\n",
       " array([-2639.873802, -7685.606637,  5666.133006]),\n",
       " array([ -3893.19326 , -10739.510159,  12748.028668]),\n",
       " array([3349.164108,  527.511892, 1366.528714]),\n",
       " array([-11336.739018,  13658.143203,  13176.412033]),\n",
       " array([  -765.772707,  -3802.623207, -10641.798323])]"
      ]
     },
     "execution_count": 8,
     "metadata": {},
     "output_type": "execute_result"
    }
   ],
   "source": [
    "# Let's now look at the velocities\n",
    "c1Maxwell_velocities\n",
    "# We need to check if they are really Maxwellian distributed"
   ]
  },
  {
   "cell_type": "code",
   "execution_count": 9,
   "id": "a0d460ab",
   "metadata": {},
   "outputs": [],
   "source": [
    "# Get the speeds \n",
    "c1Maxwell_speeds = np.sqrt( \\\n",
    "                           [ (c1Maxwell_velocities[i][0] ** 2) + (c1Maxwell_velocities[i][1] ** 2) + \\\n",
    "                            (c1Maxwell_velocities[i][2] ** 2) for i in range(len(c1Maxwell_velocities)) ] )"
   ]
  },
  {
   "cell_type": "code",
   "execution_count": 10,
   "id": "5ceee142",
   "metadata": {},
   "outputs": [
    {
     "data": {
      "text/plain": [
       "array([ 6591.7148811 ,  6078.03243632,  1333.29465428, 13414.38413862,\n",
       "       12016.36716363,  9433.87309001, 22425.70814333, 10897.42570538,\n",
       "       18258.77932528,  8801.20556986, 11204.40788951,  8859.44842548,\n",
       "       11609.63277617, 23237.61100611, 12526.79838091, 12657.40060792,\n",
       "        8751.00939772, 21694.20362969, 14267.91328164, 18818.53947143,\n",
       "        5329.35224641, 13600.31224062, 18300.5367547 , 13725.80361799,\n",
       "       17082.63773428, 18151.62972763,  5380.12140539, 21998.40771087,\n",
       "        5204.04430653, 20210.06606342, 17858.82789898, 16546.05005563,\n",
       "       19198.76857515, 12637.28622839, 13056.45043995, 30200.75605565,\n",
       "        6156.93609596,  7434.63932187, 20849.54985051, 25629.35153965,\n",
       "       13431.68143601, 16656.53203751,  8509.70191245, 19318.40967731,\n",
       "       18489.60099412,  8840.1419512 , 12206.06483031, 16156.59195053,\n",
       "       23348.62590073, 19718.63427135, 11267.00801696, 16593.39886673,\n",
       "       17948.653303  , 11337.90269399, 12876.58688088, 19134.28416282,\n",
       "       14245.91971255, 14311.0352888 , 15283.1423778 , 18871.05012758,\n",
       "       13356.46609518, 21738.0250732 ,  8934.49439917,  8463.98878223,\n",
       "       24572.06333273, 13255.9544479 ,  6829.67929688,  5727.06725464,\n",
       "       19952.33374001, 16652.47751145,  9832.40275289, 16861.10712789,\n",
       "        7538.26223048, 13013.23791256, 13129.44683553, 11023.54801541,\n",
       "       23471.82121652, 10615.23133073, 20548.87457705, 10963.63763323,\n",
       "       13628.10230413,  6813.53625941, 18291.77790908, 11265.59048601,\n",
       "        4941.18742377, 12828.24383664, 13350.49095434, 13521.908112  ,\n",
       "       17461.62264403, 15370.27922475, 10535.07198209, 24217.51264119,\n",
       "       17347.08015999, 14427.53332216, 15709.64315252,  9906.69199637,\n",
       "       17117.42583262,  3655.48488503, 22106.20639955, 11326.7039619 ])"
      ]
     },
     "execution_count": 10,
     "metadata": {},
     "output_type": "execute_result"
    }
   ],
   "source": [
    "c1Maxwell_speeds"
   ]
  },
  {
   "cell_type": "code",
   "execution_count": 11,
   "id": "7d4b09b1",
   "metadata": {},
   "outputs": [
    {
     "data": {
      "text/plain": [
       "14202.764572898674"
      ]
     },
     "execution_count": 11,
     "metadata": {},
     "output_type": "execute_result"
    }
   ],
   "source": [
    "c1Maxwell_meanspeed = np.sum(c1Maxwell_speeds) / c1Maxwell_speeds.size\n",
    "c1Maxwell_meanspeed"
   ]
  },
  {
   "cell_type": "code",
   "execution_count": 12,
   "id": "dea1bbb5",
   "metadata": {},
   "outputs": [
    {
     "data": {
      "text/plain": [
       "14492.952993825973"
      ]
     },
     "execution_count": 12,
     "metadata": {},
     "output_type": "execute_result"
    }
   ],
   "source": [
    "c1Maxwell_meanspeed_expected = (2 / np.sqrt(np.pi) ) * np.sqrt( (2 * constants.constants['K'][0] * constants.constants['N_A'][0] * 10000)/ ( constants.constants['m_H'][0] * 10**(-3)) )\n",
    "c1Maxwell_meanspeed_expected"
   ]
  },
  {
   "cell_type": "code",
   "execution_count": 13,
   "id": "56dfb3d6",
   "metadata": {},
   "outputs": [
    {
     "data": {
      "text/plain": [
       "2.0431826454479785"
      ]
     },
     "execution_count": 13,
     "metadata": {},
     "output_type": "execute_result"
    }
   ],
   "source": [
    "(c1Maxwell_meanspeed_expected - c1Maxwell_meanspeed) * 100/ c1Maxwell_meanspeed\n",
    "# We see a maximum of 2.04 % discrepency"
   ]
  },
  {
   "cell_type": "markdown",
   "id": "93c0a58b",
   "metadata": {},
   "source": [
    "#### We see that the numbers are close\n",
    "We were using Hydrogen atom samples. from the second (1th) available velocity sampled file.\n",
    "Now let's use Hydrogen gas samples, from the third (2nd) available velocity sampled file; to see if the numbers are still close."
   ]
  },
  {
   "cell_type": "code",
   "execution_count": 14,
   "id": "648330a8",
   "metadata": {},
   "outputs": [],
   "source": [
    "# Create 100 particles based on the sampled velocities of H2 gas\n",
    "# We consider just for this test case that a Hydrogen molecules to be sampled with a Maxwellian distribution\n",
    "# We create a new batch on the same Run instance\n",
    "c1Maxwell.create_batch_with_file_initialization('H2', constants.constants['e'][0],\\\n",
    "                                          2 * constants.constants['m_H'][0] * constants.constants['amu'][0], \\\n",
    "                                          100, 100, 'H2 gas', r_index=0, v_index=2)"
   ]
  },
  {
   "cell_type": "code",
   "execution_count": 15,
   "id": "82733532",
   "metadata": {},
   "outputs": [
    {
     "data": {
      "text/plain": [
       "10149.754879907316"
      ]
     },
     "execution_count": 15,
     "metadata": {},
     "output_type": "execute_result"
    }
   ],
   "source": [
    "# Do the same as before for the second batch\n",
    "c1Maxwell_batch2 = c1Maxwell.batches[1]['H2 gas']\n",
    "c1Maxwell_positions_batch2 = []\n",
    "c1Maxwell_velocities_batch2 = []\n",
    "for particle in c1Maxwell_batch2.particles:\n",
    "    c1Maxwell_positions_batch2.append(particle.r)\n",
    "    c1Maxwell_velocities_batch2.append(particle.v)\n",
    "c1Maxwell_speeds_batch2 = np.sqrt( \\\n",
    "                           [ (c1Maxwell_velocities_batch2[i][0] ** 2) + (c1Maxwell_velocities_batch2[i][1] ** 2) + \\\n",
    "                            (c1Maxwell_velocities_batch2[i][2] ** 2) for i in range(len(c1Maxwell_velocities_batch2)) ] )\n",
    "c1Maxwell_meanspeed_batch2 = np.sum(c1Maxwell_speeds_batch2) / c1Maxwell_speeds_batch2.size\n",
    "c1Maxwell_meanspeed_batch2"
   ]
  },
  {
   "cell_type": "code",
   "execution_count": 16,
   "id": "b9e6c691",
   "metadata": {},
   "outputs": [
    {
     "data": {
      "text/plain": [
       "10248.06534135222"
      ]
     },
     "execution_count": 16,
     "metadata": {},
     "output_type": "execute_result"
    }
   ],
   "source": [
    "# We multiply the mass of Hydrogen by 2 to get the numbers for hydrogen molecule\n",
    "c1Maxwell_meanspeed_expected_batch2 = (2 / np.sqrt(np.pi) ) * np.sqrt( (2 * constants.constants['K'][0] * constants.constants['N_A'][0] * 10000)/ ( 2 * constants.constants['m_H'][0] * 10**(-3)) )\n",
    "c1Maxwell_meanspeed_expected_batch2"
   ]
  },
  {
   "cell_type": "code",
   "execution_count": 17,
   "id": "299345fc",
   "metadata": {},
   "outputs": [
    {
     "data": {
      "text/plain": [
       "0.9685993662716086"
      ]
     },
     "execution_count": 17,
     "metadata": {},
     "output_type": "execute_result"
    }
   ],
   "source": [
    "(c1Maxwell_meanspeed_expected_batch2 - c1Maxwell_meanspeed_batch2) * 100/ c1Maxwell_meanspeed_batch2\n",
    "# We see a maximum of 0.97% discrepency"
   ]
  },
  {
   "cell_type": "markdown",
   "id": "d249ab56",
   "metadata": {},
   "source": [
    "#### Again we see that the numbers are close enough\n",
    "For a sample of large enough number of particles, we would expect the match to be better.\n",
    "However, for now we take this as an indication that our program is working as we expect it to."
   ]
  },
  {
   "cell_type": "code",
   "execution_count": null,
   "id": "9aae8c87",
   "metadata": {},
   "outputs": [],
   "source": []
  },
  {
   "cell_type": "markdown",
   "id": "e3074392",
   "metadata": {},
   "source": [
    "#### 1.2 Update\n",
    "\n",
    "Here we check if our particle update works as expected. "
   ]
  },
  {
   "cell_type": "markdown",
   "id": "b67a030f",
   "metadata": {},
   "source": [
    "##### 1.2.1 Boris Update\n",
    "\n",
    "So far we use the Boris Algorithm to update individual particles in the Electric and Magnetic fields, here we set up a simple configuration, and observe the result of update of a single particle. We compare it to calculations done by hand."
   ]
  },
  {
   "cell_type": "code",
   "execution_count": 18,
   "id": "3301068c",
   "metadata": {},
   "outputs": [],
   "source": [
    "# c2Boris means checking the Boris update\n",
    "c2Boris = Run()"
   ]
  },
  {
   "cell_type": "code",
   "execution_count": 19,
   "id": "97cbb76e",
   "metadata": {},
   "outputs": [],
   "source": [
    "#Create 10 particles\n",
    "c2Boris.create_batch_with_file_initialization('H+', constants.constants['e'][0],\\\n",
    "                                          constants.constants['m_H'][0] * constants.constants['amu'][0], \\\n",
    "                                          100, 10, 'H ions', r_index=0, v_index=1)"
   ]
  },
  {
   "cell_type": "code",
   "execution_count": 20,
   "id": "7cf124c0",
   "metadata": {},
   "outputs": [],
   "source": [
    "c2Boris_index_update = 0 # Update the first batch in this Run instance run_Boris_check\n",
    "c2Boris_particle_track_indices = [i for i in range(10)] # Track all 10 particles\n",
    "c2Boris_dT = 10**(-6) # 1 microseconds\n",
    "c2Boris_stepT = 10**(-7) # 0.1 microseconds time step\n",
    "c2Boris_E0 = 1000 # say 1000 Volts (voltage) per meter (size of chamber) \n",
    "c2Boris_Edirn = [1,0,0] #in the x-direction [1,0,0]\n",
    "c2Boris_B0 = 10 * (10**(-3)) # Meant to say 10 mT \n",
    "c2Boris_Bdirn = [0,1,0] #in the y-direction [0,1,0]\n",
    "c2Boris_argsE = [element * c2Boris_E0 for element in c2Boris_Edirn] # currently the uniform_E_field configuration is used\n",
    "c2Boris_argsB = [element * c2Boris_B0 for element in c2Boris_Bdirn]# currently the uniform_B_field configuration is used"
   ]
  },
  {
   "cell_type": "code",
   "execution_count": 21,
   "id": "0cd23ed4",
   "metadata": {},
   "outputs": [],
   "source": [
    "c2Boris_positions_and_velocities = c2Boris.update_batch_with_unchanging_fields(c2Boris_index_update, \\\n",
    "                                                                               c2Boris_dT, c2Boris_stepT, \\\n",
    "                                                                               c2Boris_argsE, c2Boris_argsB, \\\n",
    "                                                                               c2Boris_particle_track_indices)"
   ]
  },
  {
   "cell_type": "code",
   "execution_count": 22,
   "id": "1fcda76c",
   "metadata": {},
   "outputs": [],
   "source": [
    "#Let's inspect the positions and velocities of the particles at index 1 and 7\n",
    "c2Boris_p1 = c2Boris_positions_and_velocities[1]\n",
    "c2Boris_p7 = c2Boris_positions_and_velocities[7]"
   ]
  },
  {
   "cell_type": "code",
   "execution_count": 23,
   "id": "389bff95",
   "metadata": {},
   "outputs": [
    {
     "data": {
      "text/plain": [
       "[(0,\n",
       "  array([-4.98921519e-01, -5.02949104e-04, -2.74850639e-04]),\n",
       "  array([10784.80849437, -5029.491038  , -2748.50639353])),\n",
       " (1,\n",
       "  array([-4.96859534e-01, -1.00589821e-03, -4.00658364e-04]),\n",
       "  array([20619.85191499, -5029.491038  , -1258.07724484])),\n",
       " (2,\n",
       "  array([-4.93828311e-01, -1.50884731e-03, -2.83282555e-04]),\n",
       "  array([30312.2320901 , -5029.491038  ,  1173.75808561])),\n",
       " (3,\n",
       "  array([-4.89851127e-01, -2.01179642e-03,  1.70051838e-04]),\n",
       "  array([39771.83801957, -5029.491038  ,  4533.34393251])),\n",
       " (4,\n",
       "  array([-0.48496014, -0.00251475,  0.00104989]),\n",
       "  array([48909.86581774, -5029.491038  ,  8798.39924387])),\n",
       " (5,\n",
       "  array([-0.47919618, -0.00301769,  0.00244371]),\n",
       "  array([57639.6443318 , -5029.491038  , 13938.14269746])),\n",
       " (6,\n",
       "  array([-0.47260843, -0.00352064,  0.00443506]),\n",
       "  array([65877.44878403, -5029.491038  , 19913.49684507])),\n",
       " (7,\n",
       "  array([-0.4652541 , -0.00402359,  0.00710279]),\n",
       "  array([73543.29487349, -5029.491038  , 26677.37013834])),\n",
       " (8,\n",
       "  array([-0.45719793, -0.00452654,  0.01052029]),\n",
       "  array([80561.70588222, -5029.491038  , 34175.01496554])),\n",
       " (9,\n",
       "  array([-0.44851169, -0.00502949,  0.01475474]),\n",
       "  array([86862.44551045, -5029.491038  , 42344.45911554]))]"
      ]
     },
     "execution_count": 23,
     "metadata": {},
     "output_type": "execute_result"
    }
   ],
   "source": [
    "#Let's look at particle 1's positions and velocities\n",
    "c2Boris_p1"
   ]
  },
  {
   "cell_type": "code",
   "execution_count": 24,
   "id": "ad5e649a",
   "metadata": {},
   "outputs": [],
   "source": [
    "#Let's take the positions and velocities of the particle 1 after the 3rd and the 4th time steps.\n",
    "c2Boris_p134_p = [c2Boris_p1[3][1], c2Boris_p1[4][1]]\n",
    "c2Boris_p134_v = [c2Boris_p1[3][2], c2Boris_p1[4][2]]"
   ]
  },
  {
   "cell_type": "code",
   "execution_count": 25,
   "id": "e74b4a79",
   "metadata": {},
   "outputs": [],
   "source": [
    "#Likewise for particle 7\n",
    "c2Boris_p734_p = [c2Boris_p1[3][1], c2Boris_p1[4][1]]\n",
    "c2Boris_p734_v = [c2Boris_p1[3][2], c2Boris_p1[4][2]]"
   ]
  },
  {
   "cell_type": "code",
   "execution_count": 26,
   "id": "a6150f0c",
   "metadata": {},
   "outputs": [
    {
     "data": {
      "text/plain": [
       "[array([-4.89851127e-01, -2.01179642e-03,  1.70051838e-04]),\n",
       " array([-0.48496014, -0.00251475,  0.00104989])]"
      ]
     },
     "execution_count": 26,
     "metadata": {},
     "output_type": "execute_result"
    }
   ],
   "source": [
    "#Let's look at the positions to check if they match up against the positions and velocities from above\n",
    "c2Boris_p134_p"
   ]
  },
  {
   "cell_type": "code",
   "execution_count": 27,
   "id": "0182770c",
   "metadata": {},
   "outputs": [
    {
     "data": {
      "text/plain": [
       "[array([39771.83801957, -5029.491038  ,  4533.34393251]),\n",
       " array([48909.86581774, -5029.491038  ,  8798.39924387])]"
      ]
     },
     "execution_count": 27,
     "metadata": {},
     "output_type": "execute_result"
    }
   ],
   "source": [
    "#Let's look at the velocities to check if they match up against the positions and velocities from above\n",
    "c2Boris_p134_v"
   ]
  },
  {
   "cell_type": "code",
   "execution_count": 28,
   "id": "76d1f6f4",
   "metadata": {},
   "outputs": [
    {
     "name": "stdout",
     "output_type": "stream",
     "text": [
      "The velocity changed from \n",
      " [39771.83801956555, -5029.491038, 4533.343932509505] \n",
      " to \n",
      " [48909.86581773698, -5029.491038, 8798.399243869582] \n",
      "\n",
      "The position changed from \n",
      " [-0.48985112694809785, -0.0020117964152, 0.00017005183797547688] \n",
      " to \n",
      " [-0.4849601403663242, -0.0025147455189999997, 0.001049891762362435] \n",
      "\n"
     ]
    }
   ],
   "source": [
    "print(f'The velocity changed from \\n {[c2Boris_p134_v[0][0], c2Boris_p134_v[0][1], c2Boris_p134_v[0][2]]} \\n to \\n {[c2Boris_p134_v[1][0], c2Boris_p134_v[1][1], c2Boris_p134_v[1][2]]} \\n')\n",
    "print(f'The position changed from \\n {[c2Boris_p134_p[0][0], c2Boris_p134_p[0][1], c2Boris_p134_p[0][2]]} \\n to \\n {[c2Boris_p134_p[1][0], c2Boris_p134_p[1][1], c2Boris_p134_p[1][2]]} \\n')"
   ]
  },
  {
   "cell_type": "code",
   "execution_count": 29,
   "id": "1c6d81ce",
   "metadata": {},
   "outputs": [
    {
     "name": "stdout",
     "output_type": "stream",
     "text": [
      "The velocity changed from \n",
      " [38895.85871094631, -8670.854777, 13914.969423620274] \n",
      " to \n",
      " [47135.881299118584, -8670.854777, 18096.176367366777] \n",
      "\n",
      "The position changed from \n",
      " [-0.4896669752432719, -0.0034683419108, 0.0038875496903932644] \n",
      " to \n",
      " [-0.48495338711336006, -0.0043354273885, 0.0056971673271299424] \n",
      "\n"
     ]
    }
   ],
   "source": [
    "#Similary for particle 7\n",
    "c2Boris_p734_p = [c2Boris_p7[3][1], c2Boris_p7[4][1]]\n",
    "c2Boris_p734_v = [c2Boris_p7[3][2], c2Boris_p7[4][2]]\n",
    "print(f'The velocity changed from \\n {[c2Boris_p734_v[0][0], c2Boris_p734_v[0][1], c2Boris_p734_v[0][2]]} \\n to \\n {[c2Boris_p734_v[1][0], c2Boris_p734_v[1][1], c2Boris_p734_v[1][2]]} \\n')\n",
    "print(f'The position changed from \\n {[c2Boris_p734_p[0][0], c2Boris_p734_p[0][1], c2Boris_p734_p[0][2]]} \\n to \\n {[c2Boris_p734_p[1][0], c2Boris_p734_p[1][1], c2Boris_p734_p[1][2]]} \\n')"
   ]
  },
  {
   "cell_type": "code",
   "execution_count": 30,
   "id": "455085f9",
   "metadata": {},
   "outputs": [],
   "source": [
    "c2Boris_qp = (constants.constants['e'][0] * 10**(-7)) / (2 * constants.constants['m_H'][0] * constants.constants['amu'][0])"
   ]
  },
  {
   "cell_type": "code",
   "execution_count": 31,
   "id": "5eea0ba4",
   "metadata": {},
   "outputs": [
    {
     "data": {
      "text/plain": [
       "4.78597877761177"
      ]
     },
     "execution_count": 31,
     "metadata": {},
     "output_type": "execute_result"
    }
   ],
   "source": [
    "c2Boris_qp "
   ]
  },
  {
   "cell_type": "code",
   "execution_count": 32,
   "id": "6eb509a5",
   "metadata": {},
   "outputs": [],
   "source": [
    "# The velocity after update 4, doing a manual update.\n",
    "c2Boris_vminus_p1 = np.add(c2Boris_p134_v[0], c2Boris_qp * np.array(c2Boris_argsE))\n",
    "c2Boris_vplus_p1 = np.add(c2Boris_vminus_p1, 2 * c2Boris_qp * np.cross(c2Boris_vminus_p1, c2Boris_argsB))\n",
    "c2Boris_vnew_p1 = np.add(c2Boris_vplus_p1, c2Boris_qp * np.array(c2Boris_argsE))"
   ]
  },
  {
   "cell_type": "code",
   "execution_count": 33,
   "id": "c4b5b6fe",
   "metadata": {},
   "outputs": [
    {
     "data": {
      "text/plain": [
       "array([ True,  True,  True])"
      ]
     },
     "execution_count": 33,
     "metadata": {},
     "output_type": "execute_result"
    }
   ],
   "source": [
    "c2Boris_vnew_p1\n",
    "#This is indeed the same as the velocity of particle 1 after update 4.\n",
    "np.isclose(c2Boris_vnew_p1, c2Boris_p134_v[1]) #Indeed the values are close (i.e. the same)"
   ]
  },
  {
   "cell_type": "code",
   "execution_count": 34,
   "id": "4a68ec37",
   "metadata": {},
   "outputs": [],
   "source": [
    "#Similarly for position of the particle 1 after update 4\n",
    "c2Boris_pnew_p1 = np.add(c2Boris_p134_p[0], c2Boris_stepT * c2Boris_vnew_p1)"
   ]
  },
  {
   "cell_type": "code",
   "execution_count": 35,
   "id": "556718ac",
   "metadata": {},
   "outputs": [
    {
     "data": {
      "text/plain": [
       "array([ True,  True,  True])"
      ]
     },
     "execution_count": 35,
     "metadata": {},
     "output_type": "execute_result"
    }
   ],
   "source": [
    "c2Boris_pnew_p1\n",
    "#This is indeed the same as the position of particle 1 after update 4.\n",
    "np.isclose(c2Boris_pnew_p1, c2Boris_p134_p[1]) #Indeed th values are close (i.e. the same)"
   ]
  },
  {
   "cell_type": "code",
   "execution_count": 36,
   "id": "d7aeb36f",
   "metadata": {},
   "outputs": [
    {
     "data": {
      "text/plain": [
       "array([-4.89851127e-01, -2.01179642e-03,  1.70051838e-04])"
      ]
     },
     "execution_count": 36,
     "metadata": {},
     "output_type": "execute_result"
    }
   ],
   "source": [
    "c2Boris_p134_p[0]"
   ]
  },
  {
   "cell_type": "code",
   "execution_count": 37,
   "id": "46de0662",
   "metadata": {},
   "outputs": [
    {
     "data": {
      "text/plain": [
       "array([39771.83801957, -5029.491038  ,  4533.34393251])"
      ]
     },
     "execution_count": 37,
     "metadata": {},
     "output_type": "execute_result"
    }
   ],
   "source": [
    "c2Boris_p134_v[0]"
   ]
  },
  {
   "cell_type": "code",
   "execution_count": null,
   "id": "ccb91c12",
   "metadata": {},
   "outputs": [],
   "source": []
  },
  {
   "cell_type": "code",
   "execution_count": 38,
   "id": "cbeea5da",
   "metadata": {},
   "outputs": [],
   "source": [
    "#Similarly for particle 7\n",
    "c2Boris_vminus_p7 = np.add(c2Boris_p734_v[0], c2Boris_qp * np.array(c2Boris_argsE))\n",
    "c2Boris_vplus_p7 = np.add(c2Boris_vminus_p7, 2 * c2Boris_qp * np.cross(c2Boris_vminus_p7, c2Boris_argsB))\n",
    "c2Boris_vnew_p7 = np.add(c2Boris_vplus_p7, c2Boris_qp * np.array(c2Boris_argsE))"
   ]
  },
  {
   "cell_type": "code",
   "execution_count": 39,
   "id": "620e7f09",
   "metadata": {},
   "outputs": [
    {
     "data": {
      "text/plain": [
       "array([ True,  True,  True])"
      ]
     },
     "execution_count": 39,
     "metadata": {},
     "output_type": "execute_result"
    }
   ],
   "source": [
    "np.isclose(c2Boris_vnew_p7, c2Boris_p734_v[1])"
   ]
  },
  {
   "cell_type": "code",
   "execution_count": 40,
   "id": "cb0f1d04",
   "metadata": {},
   "outputs": [
    {
     "data": {
      "text/plain": [
       "array([ True,  True,  True])"
      ]
     },
     "execution_count": 40,
     "metadata": {},
     "output_type": "execute_result"
    }
   ],
   "source": [
    "c2Boris_pnew_p7 = np.add(c2Boris_p734_p[0], c2Boris_stepT * c2Boris_vnew_p7)\n",
    "np.isclose(c2Boris_pnew_p7, c2Boris_p734_p[1])"
   ]
  },
  {
   "cell_type": "code",
   "execution_count": 41,
   "id": "b8970f0e",
   "metadata": {},
   "outputs": [
    {
     "data": {
      "text/plain": [
       "array([-0.48495339, -0.00433543,  0.00569717])"
      ]
     },
     "execution_count": 41,
     "metadata": {},
     "output_type": "execute_result"
    }
   ],
   "source": [
    "c2Boris_pnew_p7"
   ]
  },
  {
   "cell_type": "code",
   "execution_count": null,
   "id": "b7b38a50",
   "metadata": {},
   "outputs": [],
   "source": []
  },
  {
   "cell_type": "code",
   "execution_count": 42,
   "id": "a85c9d40",
   "metadata": {},
   "outputs": [
    {
     "data": {
      "text/plain": [
       "{0: [(0,\n",
       "   array([-4.98857431e-01, -5.72320109e-04, -2.25432831e-04]),\n",
       "   array([11425.69405579, -5723.201089  , -2254.3283099 ])),\n",
       "  (1,\n",
       "   array([-4.96736087e-01, -1.14464022e-03, -2.95688218e-04]),\n",
       "   array([21213.43495999, -5723.201089  ,  -702.55386729])),\n",
       "  (2,\n",
       "   array([-4.93650823e-01, -1.71696033e-03, -1.17078320e-04]),\n",
       "   array([30852.6406732 , -5723.201089  ,  1786.09898028])),\n",
       "  (3,\n",
       "   array([-4.89625460e-01, -2.28928044e-03,  4.02662931e-04]),\n",
       "   array([40253.63359214, -5723.201089  ,  5197.41250738])),\n",
       "  (4,\n",
       "   array([-0.48469265, -0.0028616 ,  0.00135352]),\n",
       "   array([49328.09702818, -5723.201089  ,  9508.58508645])),\n",
       "  (5,\n",
       "   array([-0.47889366, -0.00343392,  0.00282236]),\n",
       "   array([57989.89685483, -5723.201089  , 14688.36145398])),\n",
       "  (6,\n",
       "   array([-0.47227807, -0.00400624,  0.00489208]),\n",
       "   array([66155.89068612, -5723.201089  , 20697.24162444])),\n",
       "  (7,\n",
       "   array([-0.4649034 , -0.00457856,  0.00764086]),\n",
       "   array([73746.71705795, -5723.201089  , 27487.76725839])),\n",
       "  (8,\n",
       "   array([-0.45683464, -0.00515088,  0.01114135]),\n",
       "   array([80687.55719832, -5723.201089  , 35004.88357074])),\n",
       "  (9,\n",
       "   array([-0.44814376, -0.0057232 ,  0.01545998]),\n",
       "   array([86908.8621559, -5723.201089 , 43186.3741553]))],\n",
       " 1: [(0,\n",
       "   array([-4.98921519e-01, -5.02949104e-04, -2.74850639e-04]),\n",
       "   array([10784.80849437, -5029.491038  , -2748.50639353])),\n",
       "  (1,\n",
       "   array([-4.96859534e-01, -1.00589821e-03, -4.00658364e-04]),\n",
       "   array([20619.85191499, -5029.491038  , -1258.07724484])),\n",
       "  (2,\n",
       "   array([-4.93828311e-01, -1.50884731e-03, -2.83282555e-04]),\n",
       "   array([30312.2320901 , -5029.491038  ,  1173.75808561])),\n",
       "  (3,\n",
       "   array([-4.89851127e-01, -2.01179642e-03,  1.70051838e-04]),\n",
       "   array([39771.83801957, -5029.491038  ,  4533.34393251])),\n",
       "  (4,\n",
       "   array([-0.48496014, -0.00251475,  0.00104989]),\n",
       "   array([48909.86581774, -5029.491038  ,  8798.39924387])),\n",
       "  (5,\n",
       "   array([-0.47919618, -0.00301769,  0.00244371]),\n",
       "   array([57639.6443318 , -5029.491038  , 13938.14269746])),\n",
       "  (6,\n",
       "   array([-0.47260843, -0.00352064,  0.00443506]),\n",
       "   array([65877.44878403, -5029.491038  , 19913.49684507])),\n",
       "  (7,\n",
       "   array([-0.4652541 , -0.00402359,  0.00710279]),\n",
       "   array([73543.29487349, -5029.491038  , 26677.37013834])),\n",
       "  (8,\n",
       "   array([-0.45719793, -0.00452654,  0.01052029]),\n",
       "   array([80561.70588222, -5029.491038  , 34175.01496554])),\n",
       "  (9,\n",
       "   array([-0.44851169, -0.00502949,  0.01475474]),\n",
       "   array([86862.44551045, -5029.491038  , 42344.45911554]))],\n",
       " 2: [(0,\n",
       "   array([-4.99011347e-01,  1.02779164e-04,  1.25118767e-04]),\n",
       "   array([9886.53445598, 1027.791639  , 1251.18767388])),\n",
       "  (1,\n",
       "   array([-4.97077474e-01,  2.05558328e-04,  3.90682209e-04]),\n",
       "   array([19338.72885812,  1027.791639  ,  2655.63441288])),\n",
       "  (2,\n",
       "   array([-4.94211825e-01,  3.08337492e-04,  8.87166327e-04]),\n",
       "   array([28656.49021452,  1027.791639  ,  4964.8411881 ])),\n",
       "  (3,\n",
       "   array([-4.90436503e-01,  4.11116656e-04,  1.70376034e-03]),\n",
       "   array([37753.21527854,  1027.791639  ,  8165.94012544])),\n",
       "  (4,\n",
       "   array([-0.48578215,  0.0005139 ,  0.00292754]),\n",
       "   array([46543.53251097,  1027.791639  , 12237.77372483])),\n",
       "  (5,\n",
       "   array([-0.48028774,  0.00061667,  0.00464264]),\n",
       "   array([54944.09555954,  1027.791639  , 17151.01275868])),\n",
       "  (6,\n",
       "   array([-0.4740003 ,  0.00071945,  0.00692947]),\n",
       "   array([62874.36545322,  1027.791639  , 22868.35012193])),\n",
       "  (7,\n",
       "   array([-0.46697457,  0.00082223,  0.00986395]),\n",
       "   array([70257.37424119,  1027.791639  , 29344.76955343])),\n",
       "  (8,\n",
       "   array([-0.45927252,  0.00092501,  0.01351674]),\n",
       "   array([77020.46291008,  1027.791639  , 36527.8874524 ])),\n",
       "  (9,\n",
       "   array([-0.45096292,  0.00102779,  0.01795258]),\n",
       "   array([83095.98658254,  1027.791639  , 44358.36532819]))],\n",
       " 3: [(0,\n",
       "   array([-4.99947249e-01,  9.61513047e-04, -2.09033175e-04]),\n",
       "   array([  527.50883739,  9615.130475  , -2090.33174649])),\n",
       "  (1,\n",
       "   array([-4.98917294e-01,  1.92302609e-03, -3.67205871e-04]),\n",
       "   array([10299.55206015,  9615.130475  , -1581.72696728])),\n",
       "  (2,\n",
       "   array([-4.96915003e-01,  2.88453914e-03, -3.80980507e-04]),\n",
       "   array([20022.91184932,  9615.130475  ,  -137.74635851])),\n",
       "  (3,\n",
       "   array([-4.93954197e-01,  3.84605219e-03, -1.57285495e-04]),\n",
       "   array([29608.05442751,  9615.130475  ,  2236.95012222])),\n",
       "  (4,\n",
       "   array([-4.90057608e-01,  4.80756524e-03,  3.95627743e-04]),\n",
       "   array([38965.89206651,  9615.130475  ,  5529.13238215])),\n",
       "  (5,\n",
       "   array([-0.48525675,  0.00576908,  0.00136733]),\n",
       "   array([48008.60341694,  9615.130475  ,  9717.04288896])),\n",
       "  (6,\n",
       "   array([-0.4795917 ,  0.00673059,  0.00284438]),\n",
       "   array([56650.44975121,  9615.130475  , 14770.51788808])),\n",
       "  (7,\n",
       "   array([-0.47311084,  0.0076921 ,  0.0049095 ]),\n",
       "   array([64808.5796035 ,  9615.130475  , 20651.18675031])),\n",
       "  (8,\n",
       "   array([-0.46587046,  0.00865362,  0.00764078]),\n",
       "   array([72403.81432833,  9615.130475  , 27312.74833929])),\n",
       "  (9,\n",
       "   array([-0.45793432,  0.00961513,  0.01111091]),\n",
       "   array([79361.40720535,  9615.130475  , 34701.32257236]))],\n",
       " 4: [(0,\n",
       "   array([-4.99374762e-01, -1.09472996e-03, -3.25067089e-04]),\n",
       "   array([  6252.38346988, -10947.299598  ,  -3250.67089349])),\n",
       "  (1,\n",
       "   array([-0.49776121, -0.00218946, -0.00054448]),\n",
       "   array([ 16135.49386329, -10947.299598  ,  -2194.08354437])),\n",
       "  (2,\n",
       "   array([-0.49516947, -0.00328419, -0.00056362]),\n",
       "   array([ 25917.46816411, -10947.299598  ,   -191.48906325])),\n",
       "  (3,\n",
       "   array([-4.91618690e-01, -4.37891984e-03, -2.88881166e-04]),\n",
       "   array([ 35507.75497119, -10947.299598  ,   2747.431846  ])),\n",
       "  (4,\n",
       "   array([-4.87137017e-01, -5.47364980e-03,  3.71551928e-04]),\n",
       "   array([ 44816.72951626, -10947.299598  ,   6604.33093785])),\n",
       "  (5,\n",
       "   array([-0.48176136, -0.00656838,  0.00150678]),\n",
       "   array([ 53756.5233173 , -10947.299598  ,  11352.28112198])),\n",
       "  (6,\n",
       "   array([-0.47553718, -0.00766311,  0.00320237]),\n",
       "   array([ 62241.84534198, -10947.299598  ,  16955.94457427])),\n",
       "  (7,\n",
       "   array([-0.4685181 , -0.00875784,  0.00553956]),\n",
       "   array([ 70190.78707947, -10947.299598  ,  23371.81944919])),\n",
       "  (8,\n",
       "   array([-0.46076554, -0.00985257,  0.00859441]),\n",
       "   array([ 77525.60399713, -10947.299598  ,  30548.56365331])),\n",
       "  (9,\n",
       "   array([-0.45234819, -0.0109473 ,  0.01243715]),\n",
       "   array([ 84173.46600573, -10947.299598  ,  38427.39341954]))],\n",
       " 5: [(0,\n",
       "   array([-4.99619113e-01, -7.12766021e-04,  2.76704944e-04]),\n",
       "   array([ 3808.87027975, -7127.660213  ,  2767.04944142])),\n",
       "  (1,\n",
       "   array([-0.49830752, -0.00142553,  0.00063568]),\n",
       "   array([13115.96703691, -7127.660213  ,  3589.74474512])),\n",
       "  (2,\n",
       "   array([-0.49607308, -0.0021383 ,  0.00116601]),\n",
       "   array([22344.31574879, -7127.660213  ,  5303.31140005])),\n",
       "  (3,\n",
       "   array([-0.49293222, -0.00285106,  0.00195603]),\n",
       "   array([31408.64258778, -7127.660213  ,  7900.21167672])),\n",
       "  (4,\n",
       "   array([-0.48890978, -0.00356383,  0.00309251]),\n",
       "   array([40224.39523453, -7127.660213  , 11364.74547109])),\n",
       "  (5,\n",
       "   array([-0.48403893, -0.0042766 ,  0.00465982]),\n",
       "   array([48708.524177  , -7127.660213  , 15673.11936698])),\n",
       "  (6,\n",
       "   array([-0.4783609 , -0.00498936,  0.00673918]),\n",
       "   array([56780.25739884, -7127.660213  , 20793.59048417])),\n",
       "  (7,\n",
       "   array([-0.47192472, -0.00570213,  0.00940785]),\n",
       "   array([64361.86129871, -7127.660213  , 26686.68447933])),\n",
       "  (8,\n",
       "   array([-0.46478678, -0.00641489,  0.01273839]),\n",
       "   array([71379.38074268, -7127.660213  , 33305.48638179])),\n",
       "  (9,\n",
       "   array([-0.45701044, -0.00712766,  0.01679799]),\n",
       "   array([77763.35127788, -7127.660213  , 40596.00226686]))],\n",
       " 6: [(0,\n",
       "   array([-0.49750643,  0.00072612,  0.0015232 ]),\n",
       "   array([24935.66588304,  7261.248008  , 15232.00255938])),\n",
       "  (1,\n",
       "   array([-0.49420147,  0.00145225,  0.00333089]),\n",
       "   array([33049.62261847,  7261.248008  , 18076.94577101])),\n",
       "  (2,\n",
       "   array([-0.49011234,  0.00217837,  0.00550075]),\n",
       "   array([40891.26259721,  7261.248008  , 21698.55347741])),\n",
       "  (3,\n",
       "   array([-0.48527372,  0.0029045 ,  0.00810783]),\n",
       "   array([48386.24382348,  7261.248008  , 26070.7596342 ])),\n",
       "  (4,\n",
       "   array([-0.47972745,  0.00363062,  0.01122386]),\n",
       "   array([55462.7193322 ,  7261.248008  , 31160.38221275])),\n",
       "  (5,\n",
       "   array([-0.47352225,  0.00435675,  0.0149166 ]),\n",
       "   array([62052.01832797,  7261.248008  , 36927.36202339])),\n",
       "  (6,\n",
       "   array([-0.46671332,  0.00508287,  0.01924911]),\n",
       "   array([68089.30446405,  7261.248008  , 43325.0667371 ])),\n",
       "  (7,\n",
       "   array([-0.4593619 ,  0.005809  ,  0.02427917]),\n",
       "   array([73514.20502043,  7261.248008  , 50300.65791724])),\n",
       "  (8,\n",
       "   array([-0.45153476,  0.00653512,  0.03005872]),\n",
       "   array([78271.40494981,  7261.248008  , 57795.51827605])),\n",
       "  (9,\n",
       "   array([-0.44330364,  0.00726125,  0.0366333 ]),\n",
       "   array([82311.20002683,  7261.248008  , 65745.73579292]))],\n",
       " 7: [(0,\n",
       "   array([-0.49874308, -0.00086709,  0.0006373 ]),\n",
       "   array([12569.19714125, -8670.854777  ,  6373.00149974])),\n",
       "  (1,\n",
       "   array([-0.49658997, -0.00173417,  0.00144072]),\n",
       "   array([21531.13369793, -8670.854777  ,  8034.23157233])),\n",
       "  (2,\n",
       "   array([-0.49355656, -0.00260126,  0.00249605]),\n",
       "   array([30334.05801716, -8670.854777  , 10553.29440825])),\n",
       "  (3,\n",
       "   array([-0.48966698, -0.00346834,  0.00388755]),\n",
       "   array([38895.85871095, -8670.854777  , 13914.96942362])),\n",
       "  (4,\n",
       "   array([-0.48495339, -0.00433543,  0.00569717]),\n",
       "   array([47135.88129912, -8670.854777  , 18096.17636737])),\n",
       "  (5,\n",
       "   array([-0.47945582, -0.00520251,  0.00800378]),\n",
       "   array([54975.68053334, -8670.854777  , 23066.11477579])),\n",
       "  (6,\n",
       "   array([-0.47322184, -0.0060696 ,  0.01088243]),\n",
       "   array([62339.75937258, -8670.854777  , 28786.47543934])),\n",
       "  (7,\n",
       "   array([-0.46630621, -0.00693668,  0.0144036 ]),\n",
       "   array([69156.28771711, -8670.854777  , 35211.7226037 ])),\n",
       "  (8,\n",
       "   array([-0.45877043, -0.00780377,  0.01863254]),\n",
       "   array([75357.79413024, -8670.854777  , 42289.44496795])),\n",
       "  (9,\n",
       "   array([-0.45068225, -0.00867085,  0.02362862]),\n",
       "   array([80881.8239628 , -8670.854777  , 49960.77289384]))],\n",
       " 8: [(0,\n",
       "   array([-4.99852789e-01, -1.08100466e-04,  1.68791588e-03]),\n",
       "   array([ 1472.11214469, -1081.00466   , 16879.15881791])),\n",
       "  (1,\n",
       "   array([-4.98909948e-01, -2.16200932e-04,  3.43573394e-03]),\n",
       "   array([ 9428.40378218, -1081.00466   , 17478.18062476])),\n",
       "  (2,\n",
       "   array([-4.97177213e-01, -3.24301398e-04,  5.31961147e-03]),\n",
       "   array([17327.35730658, -1081.00466   , 18838.77529012])),\n",
       "  (3,\n",
       "   array([-4.94667605e-01, -4.32401864e-04,  7.41515692e-03]),\n",
       "   array([25096.07528711, -1081.00466   , 20955.45443414])),\n",
       "  (4,\n",
       "   array([-0.49140139, -0.0005405 ,  0.00979673]),\n",
       "   array([32662.18563839, -1081.00466   , 23815.75196584])),\n",
       "  (5,\n",
       "   array([-0.48740594, -0.0006486 ,  0.01253676]),\n",
       "   array([39954.50952399, -1081.00466   , 27400.27436895])),\n",
       "  (6,\n",
       "   array([-0.48271556, -0.0007567 ,  0.01570504]),\n",
       "   array([46903.7244466 , -1081.00466   , 31682.81491918])),\n",
       "  (7,\n",
       "   array([-0.47737126, -0.0008648 ,  0.01936809]),\n",
       "   array([53443.01640546, -1081.00466   , 36630.53137223])),\n",
       "  (8,\n",
       "   array([-0.47142039, -0.0009729 ,  0.02358851]),\n",
       "   array([59508.71504548, -1081.00466   , 42204.18607598])),\n",
       "  (9,\n",
       "   array([-0.4649163 , -0.001081  ,  0.02842436]),\n",
       "   array([65040.90582299, -1081.00466   , 48358.44687899]))],\n",
       " 9: [(0,\n",
       "   array([-4.99773546e-01, -1.18552718e-04,  5.29073440e-04]),\n",
       "   array([ 2264.54044116, -1185.527177  ,  5290.73440471])),\n",
       "  (1,\n",
       "   array([-4.98640539e-01, -2.37105435e-04,  1.12563415e-03]),\n",
       "   array([11330.07114481, -1185.527177  ,  5965.60711175])),\n",
       "  (2,\n",
       "   array([-4.96607439e-01, -3.55658153e-04,  1.87645701e-03]),\n",
       "   array([20331.00331938, -1185.527177  ,  7508.2285699 ])),\n",
       "  (3,\n",
       "   array([-4.93689011e-01, -4.74210871e-04,  2.86769855e-03]),\n",
       "   array([29184.27642275, -1185.527177  ,  9912.41543538])),\n",
       "  (4,\n",
       "   array([-0.48990827, -0.00059276,  0.0041841 ]),\n",
       "   array([37807.4217798 , -1185.527177  , 13164.03384456])),\n",
       "  (5,\n",
       "   array([-0.48529634, -0.00071132,  0.00590821]),\n",
       "   array([46119.32360287, -1185.527177  , 17241.05606724])),\n",
       "  (6,\n",
       "   array([-0.47989224, -0.00082987,  0.00811958]),\n",
       "   array([54040.97458926, -1185.527177  , 22113.69000446])),\n",
       "  (7,\n",
       "   array([-0.47374262, -0.00094842,  0.01089403]),\n",
       "   array([61496.21912336, -1185.527177  , 27744.58101177])),\n",
       "  (8,\n",
       "   array([-0.46690137, -0.00106697,  0.01430294]),\n",
       "   array([68412.47716027, -1185.527177  , 34089.08486152])),\n",
       "  (9,\n",
       "   array([-0.45942923, -0.00118553,  0.0184125 ]),\n",
       "   array([74721.44198158, -1185.527177  , 41095.60999497]))]}"
      ]
     },
     "execution_count": 42,
     "metadata": {},
     "output_type": "execute_result"
    }
   ],
   "source": [
    "c2Boris_positions_and_velocities"
   ]
  },
  {
   "cell_type": "code",
   "execution_count": null,
   "id": "e3007d69",
   "metadata": {},
   "outputs": [],
   "source": []
  }
 ],
 "metadata": {
  "kernelspec": {
   "display_name": "Python 3 (ipykernel)",
   "language": "python",
   "name": "python3"
  },
  "language_info": {
   "codemirror_mode": {
    "name": "ipython",
    "version": 3
   },
   "file_extension": ".py",
   "mimetype": "text/x-python",
   "name": "python",
   "nbconvert_exporter": "python",
   "pygments_lexer": "ipython3",
   "version": "3.9.9"
  }
 },
 "nbformat": 4,
 "nbformat_minor": 5
}
