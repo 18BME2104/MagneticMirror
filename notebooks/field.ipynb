{
 "cells": [
  {
   "cell_type": "markdown",
   "id": "d53f9f08",
   "metadata": {},
   "source": [
    "This file describes the Electric and Magnetic fields applied on the plasma.\n",
    "\n",
    "Author: 18BME2104 Kaushal"
   ]
  },
  {
   "cell_type": "markdown",
   "id": "a498cf81",
   "metadata": {},
   "source": [
    "**Assumptions**:\n",
    "\n",
    "1. "
   ]
  },
  {
   "cell_type": "code",
   "execution_count": 12,
   "id": "d601ef68",
   "metadata": {},
   "outputs": [],
   "source": [
    "from inspect import getmembers, isfunction, isclass # To inspect imported modules\n",
    "from IPython.display import display, Math, Latex, clear_output # To use latex typesetting style\n",
    "\n",
    "import numpy as np # For computations\n",
    "import sympy as sm # For symbolic use\n",
    "import math\n",
    "\n",
    "import pandas as pd # To use large tables\n",
    "import matplotlib.pyplot as plt #To make plots\n",
    "\n",
    "import import_ipynb # To import other notebooks\n",
    "import constants\n",
    "\n",
    "#Other notebooks are imported at the end of the file for cross dependency reasons"
   ]
  },
  {
   "cell_type": "code",
   "execution_count": 2,
   "id": "8daf9a8c",
   "metadata": {},
   "outputs": [
    {
     "data": {
      "text/plain": [
       "'!pip install import-ipynb\\nimport import_ipynb # To import other notebooks\\n\\n# Now importing other notebooks\\nimport constants\\nclear_output()'"
      ]
     },
     "execution_count": 2,
     "metadata": {},
     "output_type": "execute_result"
    }
   ],
   "source": [
    "'''!pip install import-ipynb\n",
    "import import_ipynb # To import other notebooks\n",
    "\n",
    "# Now importing other notebooks\n",
    "import constants\n",
    "clear_output()'''"
   ]
  },
  {
   "cell_type": "code",
   "execution_count": 1,
   "id": "e17a46c4",
   "metadata": {},
   "outputs": [],
   "source": [
    "class Field:\n",
    "    def __init__(self, field_0):\n",
    "        '''\n",
    "        Electric and Magnetic field stregths\n",
    "        '''\n",
    "        \n",
    "        'description:: Type'\n",
    "        self.field = field_0\n",
    "        '{(x:: Number,y:: Number,z:: Number): (E_x:: Number, E_y:: Number, B_z:: Number] , \\\n",
    "        ([B_x:: Number, B_y:: Number, B_z:: Number])}'\n",
    "        \n",
    "        \n",
    "        \n",
    "    def __str__(self):\n",
    "        pass\n",
    "        \n",
    "    def docstring(self):\n",
    "        pass\n",
    "            # print (something)\n",
    "        \n",
    "    def update(self):\n",
    "        pass\n",
    "    \n",
    "    def radial_E_field(self, aparticle, cen = [0,0,0], thick = 0):\n",
    "        \n",
    "        '''\n",
    "        Description:\n",
    "        This is a particular configuration of the electric field.\n",
    "        \n",
    "        Parameters:\n",
    "        apartilce : a particle object\n",
    "        cen : center equivalent of the electrode\n",
    "        thick : thickness of the electrode\n",
    "        \n",
    "        Returns:\n",
    "        The electric field, a list with 3 components\n",
    "        '''\n",
    "        \n",
    "        #Get the distance of the particle from the electrode\n",
    "        dist_sq = 0\n",
    "        for i in range(2):\n",
    "            dist_sq += (particle.r[i] - cen[i])**2\n",
    "            \n",
    "            ''' using the formula distance between a particle and the electrode \n",
    "            d_p_e**2 = (x_particle - x_electrode)**2 + (y_particle - y_electrode) **2 \n",
    "            the distance on the x-y plane\n",
    "            but no distance on the z axis\n",
    "            as if the electrode is a point particle located at the same z coordinate as the particle\n",
    "            \n",
    "            This setup is also used to calculated dr\n",
    "            '''\n",
    "            \n",
    "        dr = [math.abs(particle.r[0] - cen[0]), math.abs(particle.r[1] - cen[1]), 0]\n",
    "        E = (particle.charge/(4 * pi * constants.constants['eplsilon_0'] * dist_sq)) * dr\n",
    "        return E\n",
    "    \n",
    "    def field_expression(self, aparticle):\n",
    "        E_x, E_y, E_z, B_x, B_y, B_z = sm.symbols(\"E_x E_y E_z B_x B_y B_z\")\n",
    "        #numerically entered as of now\n",
    "    \n",
    "    def helmholtz_coil_B(self, n, I, R):\n",
    "        return ( \\\n",
    "                (4/5)**1.5 * ( (constants.constants['mu_0'] * n * I) / (R) ) \\\n",
    "               )\n",
    "    \n",
    "    def two_perp_helmholtz_B(self, n1, I1, R1, B1_hat, n2, I2, R2, B2_hat, angle):\n",
    "        B1 = helmholtz(self, n1, I1, R1)\n",
    "        B2 = helmholtz(self, n2, I2, R2)\n",
    "        \n",
    "        B_sq = ( B1 + (B2 * cos(angle)) )**2 + ( (B2 * sin(angle)) )**2\n",
    "        B_hat = B1_hat + B2_hat\n",
    "        res = 0\n",
    "        for i in range(3):\n",
    "            res += (B_hat[i])**2\n",
    "        B_hat = B_hat / res\n",
    "        \n",
    "        B = B_hat * math.sqrt(B_sq)\n",
    "        return B    \n",
    "        "
   ]
  },
  {
   "cell_type": "code",
   "execution_count": null,
   "id": "6259001e",
   "metadata": {},
   "outputs": [],
   "source": []
  },
  {
   "cell_type": "code",
   "execution_count": null,
   "id": "8145ab91",
   "metadata": {},
   "outputs": [],
   "source": [
    "import Particle"
   ]
  }
 ],
 "metadata": {
  "kernelspec": {
   "display_name": "Python 3 (ipykernel)",
   "language": "python",
   "name": "python3"
  },
  "language_info": {
   "codemirror_mode": {
    "name": "ipython",
    "version": 3
   },
   "file_extension": ".py",
   "mimetype": "text/x-python",
   "name": "python",
   "nbconvert_exporter": "python",
   "pygments_lexer": "ipython3",
   "version": "3.9.7"
  }
 },
 "nbformat": 4,
 "nbformat_minor": 5
}
