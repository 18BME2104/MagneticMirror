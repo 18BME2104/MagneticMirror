{
 "cells": [
  {
   "cell_type": "markdown",
   "id": "d53f9f08",
   "metadata": {},
   "source": [
    "This file describes the Electric and Magnetic fields applied on the plasma.\n",
    "\n",
    "Author: 18BME2104 Kaushal"
   ]
  },
  {
   "cell_type": "code",
   "execution_count": 1,
   "id": "d601ef68",
   "metadata": {},
   "outputs": [],
   "source": [
    "from inspect import getmembers, isfunction, isclass # To inspect imported modules\n",
    "from IPython.display import display, Math, Latex, clear_output # To use latex typesetting style\n",
    "\n",
    "import numpy as np # For computations\n",
    "import sympy as sm # For symbolic use\n",
    "\n",
    "import pandas as pd # To use large tables\n",
    "import matplotlib.pyplot as plt #To make plots"
   ]
  },
  {
   "cell_type": "code",
   "execution_count": 2,
   "id": "8daf9a8c",
   "metadata": {},
   "outputs": [
    {
     "data": {
      "text/plain": [
       "'!pip install import-ipynb\\nimport import_ipynb # To import other notebooks\\n\\n# Now importing other notebooks\\nimport constants\\nclear_output()'"
      ]
     },
     "execution_count": 2,
     "metadata": {},
     "output_type": "execute_result"
    }
   ],
   "source": [
    "'''!pip install import-ipynb\n",
    "import import_ipynb # To import other notebooks\n",
    "\n",
    "# Now importing other notebooks\n",
    "import constants\n",
    "clear_output()'''"
   ]
  },
  {
   "cell_type": "code",
   "execution_count": 3,
   "id": "e17a46c4",
   "metadata": {},
   "outputs": [],
   "source": [
    "class Field:\n",
    "    def __init__(self, field_0):\n",
    "        '''\n",
    "        Electric and Magnetic field stregths\n",
    "        '''\n",
    "        \n",
    "        'description:: Type'\n",
    "        self.field = field_0\n",
    "        '{(x:: Number,y:: Number,z:: Number): (E_x:: Number, E_y:: Number, B_z:: Number] , \\\n",
    "        ([B_x:: Number, B_y:: Number, B_z:: Number])}'\n",
    "        \n",
    "        def __str__(self):\n",
    "            pass\n",
    "        \n",
    "        def docstring(self):\n",
    "            pass\n",
    "            # print (something)\n",
    "        \n",
    "        def update(self):\n",
    "            pass"
   ]
  },
  {
   "cell_type": "code",
   "execution_count": null,
   "id": "e4ea18e4",
   "metadata": {},
   "outputs": [],
   "source": []
  }
 ],
 "metadata": {
  "kernelspec": {
   "display_name": "Python 3 (ipykernel)",
   "language": "python",
   "name": "python3"
  },
  "language_info": {
   "codemirror_mode": {
    "name": "ipython",
    "version": 3
   },
   "file_extension": ".py",
   "mimetype": "text/x-python",
   "name": "python",
   "nbconvert_exporter": "python",
   "pygments_lexer": "ipython3",
   "version": "3.9.7"
  }
 },
 "nbformat": 4,
 "nbformat_minor": 5
}
