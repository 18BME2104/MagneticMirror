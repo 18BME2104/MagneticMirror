{
 "cells": [
  {
   "cell_type": "markdown",
   "id": "928647c2",
   "metadata": {},
   "source": [
    "This notebook defines plotting functionality.\n",
    "Author: 18BME2104 Kaushal"
   ]
  },
  {
   "cell_type": "code",
   "execution_count": 14,
   "id": "9cd73ab4",
   "metadata": {},
   "outputs": [],
   "source": [
    "import numpy as np\n",
    "import matplotlib.pyplot as plt\n",
    "import matplotlib.animation as animation"
   ]
  },
  {
   "cell_type": "code",
   "execution_count": 22,
   "id": "c9cb32ac",
   "metadata": {},
   "outputs": [],
   "source": [
    "class Plotter():\n",
    "    \n",
    "    def __init__(self):\n",
    "        pass\n",
    "    \n",
    "    def __string__(self):\n",
    "        pass\n",
    "    \n",
    "    def plot_1d_value(self, output_array, input_array = []):\n",
    "        '''\n",
    "        speed and distance.\n",
    "        \n",
    "        output_array is 1 dimensions = values + for particles or different times\n",
    "        '''\n",
    "        if len(input_array) == 0:\n",
    "            input_array = [i for i in range(len(output_array))]\n",
    "        \n",
    "        '''fig = plt.figure()\n",
    "        plt.axis()\n",
    "        '''\n",
    "        plt.plot(input_array, output_array)\n",
    "        \n",
    "    def plot_3d_value(self, output_array, input_array = None):\n",
    "        '''\n",
    "        velocity and position\n",
    "        \n",
    "        output_array is 4 dimensional = 3 d vectors + for particles or different times.\n",
    "        '''\n",
    "        "
   ]
  },
  {
   "cell_type": "code",
   "execution_count": 23,
   "id": "701c8baa",
   "metadata": {},
   "outputs": [],
   "source": [
    "plotter = Plotter()"
   ]
  },
  {
   "cell_type": "code",
   "execution_count": 24,
   "id": "7e652939",
   "metadata": {},
   "outputs": [],
   "source": [
    "xs = np.random.random([10])\n",
    "ys = np.random.random([10])"
   ]
  },
  {
   "cell_type": "code",
   "execution_count": 25,
   "id": "b837185d",
   "metadata": {},
   "outputs": [
    {
     "data": {
      "image/png": "[encoded data removed]",
      "text/plain": [
       "<Figure size 432x288 with 1 Axes>"
      ]
     },
     "metadata": {
      "needs_background": "light"
     },
     "output_type": "display_data"
    }
   ],
   "source": [
    "plotter.plot_1d_value(ys, xs)"
   ]
  },
  {
   "cell_type": "code",
   "execution_count": null,
   "id": "db94b2af",
   "metadata": {},
   "outputs": [],
   "source": []
  }
 ],
 "metadata": {
  "kernelspec": {
   "display_name": "Python 3 (ipykernel)",
   "language": "python",
   "name": "python3"
  },
  "language_info": {
   "codemirror_mode": {
    "name": "ipython",
    "version": 3
   },
   "file_extension": ".py",
   "mimetype": "text/x-python",
   "name": "python",
   "nbconvert_exporter": "python",
   "pygments_lexer": "ipython3",
   "version": "3.9.9"
  }
 },
 "nbformat": 4,
 "nbformat_minor": 5
}
